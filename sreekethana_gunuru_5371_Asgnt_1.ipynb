{
  "cells": [
    {
      "cell_type": "markdown",
      "metadata": {
        "id": "view-in-github",
        "colab_type": "text"
      },
      "source": [
        "<a href=\"https://colab.research.google.com/github/gunurusreekethana4/sreekethana_INFO5371_SPRING2023/blob/main/sreekethana_gunuru_5371_Asgnt_1.ipynb\" target=\"_parent\"><img src=\"https://colab.research.google.com/assets/colab-badge.svg\" alt=\"Open In Colab\"/></a>"
      ]
    },
    {
      "cell_type": "markdown",
      "metadata": {
        "id": "Ryk8D1Q4Wsrp"
      },
      "source": [
        "# **INFO5731 Assignment One**"
      ]
    },
    {
      "cell_type": "markdown",
      "metadata": {
        "id": "90_NR8c5XGWc"
      },
      "source": [
        "# Question 1\n",
        "\n",
        "(20 points). Write a Python program to generate 12 random numbers between 1 and 100. Sort the list of numbers in ascending order and print it out. Sort the list of numbers in descending order and print it out. Calculate the average for the group and print it out."
      ]
    },
    {
      "cell_type": "code",
      "execution_count": null,
      "metadata": {
        "colab": {
          "base_uri": "https://localhost:8080/"
        },
        "id": "5QX6bJjGWXY9",
        "outputId": "522546c2-2352-4e5d-c837-7e96ce305e88"
      },
      "outputs": [
        {
          "output_type": "stream",
          "name": "stdout",
          "text": [
            "[52, 4, 87, 20, 78, 66, 7, 35, 17, 98, 100, 67]\n",
            "sorted by ascending order: [4, 7, 17, 20, 35, 52, 66, 67, 78, 87, 98, 100]\n",
            "sorted by desending order: None\n",
            "Average is 52.583333333333336\n"
          ]
        }
      ],
      "source": [
        "# Your code here\n",
        "import random\n",
        "s = []\n",
        "a=range(12)\n",
        "for i in a:\n",
        "  s.append(random.randint(1,100))\n",
        "print(s)\n",
        "s.sort()\n",
        "print(\"sorted by ascending order:\",s)\n",
        "s.sort(reverse=True)\n",
        "print(\"sorted by desending order:\",s.sort(reverse=True))\n",
        "print(\"Average is\",sum(s)/len(s))\n",
        "\n"
      ]
    },
    {
      "cell_type": "markdown",
      "metadata": {
        "id": "1F_PZdH9Sh49"
      },
      "source": [
        "# Question 2\n",
        "(25 points). Write a program that will do the following string formatting tasks:\n",
        "\n",
        "(1) Ask the user to enter two sentences.\n",
        "\n",
        "(2) Make each sentence into a list. Each element in the list should correspond to a word in the sentence. For example, if the sentence is \"Alas! Am I alive? This is my first python program\", the program should print out ['Alas, '!', 'Am', 'I', 'alive, '?', 'This', 'is', 'my', 'first', 'python', 'program'].\n",
        "\n",
        "(3) Compare the two sentences. Print out a list of words that occur in both sentences.\n",
        "\n",
        "(4) Remove any punctuation from the sentence and print it back out. It should remove at least the following characters, but it can remove more: period(“.”), comma (“,”), semicolon (“;”), and colon (“:”)\n",
        "\n",
        "(5) Count the number of vowels in the sentences. Print out each vowel and the number of times it appears in the sentences, such as: a:2, e:1, i:0, etc"
      ]
    },
    {
      "cell_type": "code",
      "execution_count": null,
      "metadata": {
        "id": "Y0oOSlsOS0cq",
        "colab": {
          "base_uri": "https://localhost:8080/"
        },
        "outputId": "79b12ee5-7e50-41f8-9404-7e2fe96829d8"
      },
      "outputs": [
        {
          "output_type": "stream",
          "name": "stdout",
          "text": [
            "['alias', 'am', 'i', 'alive', '?']\n",
            "['hello', 'world', 'i', 'am', 'sree']\n",
            "am\n",
            "i\n",
            "alias am i alive \n",
            "hello world i am sree\n",
            "{'a': 4, 'i': 3, 'e': 1}\n",
            "{'e': 3, 'o': 2, 'i': 1, 'a': 1}\n"
          ]
        }
      ],
      "source": [
        "lst1=\"alias am i alive ?\"\n",
        "lst2=\"hello world i am sree\"\n",
        "print(lst1.split())\n",
        "print(lst2.split())\n",
        "\n",
        "for i in lst1.split():\n",
        "  if i in lst2.split():\n",
        "    print(i)\n",
        "\n",
        "rem_list=['.',',',';',':','!','?'] \n",
        "for i in lst1.split():\n",
        "  if i in rem_list:\n",
        "    lst1=lst1.replace(i,\"\")\n",
        "print(lst1)\n",
        "for i in lst2.split():\n",
        "  if i in rem_list:\n",
        "    lst2=lst2.replace(i,\"\")\n",
        "print(lst2)  \n",
        "a1={}\n",
        "a2={}\n",
        "vol=[\"a\",\"e\",\"i\",\"o\",\"u\"]\n",
        "for i in lst1:\n",
        "  if i in vol:\n",
        "    a1[i]=lst1.count(i)\n",
        "print(a1)\n",
        "for i in lst2:\n",
        "  if i in vol:\n",
        "    a2[i]=lst2.count(i)\n",
        "print(a2)      \n",
        "\n"
      ]
    },
    {
      "cell_type": "markdown",
      "metadata": {
        "id": "CmFoI4jDS9nx"
      },
      "source": [
        "# Question 3 \n",
        "\n",
        "(15 points). The formula that describes the volume V of a sphere with radius r is the following:\n",
        "\n",
        "$ V=\\frac{4}{3}\\ast\\ \\pi\\ast\\ r^3 $\n",
        "\n",
        "Write a program to calculate the value of V when r is in the range of 1–10. Output the result in the following format:\n",
        "\n",
        "\tr\tV\n",
        "\t1\t…\n",
        "\t2\t…\n",
        "\t3\t…\n"
      ]
    },
    {
      "cell_type": "code",
      "execution_count": null,
      "metadata": {
        "id": "pEyqeioAT95b",
        "colab": {
          "base_uri": "https://localhost:8080/"
        },
        "outputId": "54233f2c-6605-4c3f-9ea6-fd4447ebd92f"
      },
      "outputs": [
        {
          "output_type": "stream",
          "name": "stdout",
          "text": [
            "7\n",
            "volume of sphere: 1436.0266666666666\n"
          ]
        }
      ],
      "source": [
        "# Your code here\n",
        "import random\n",
        "pi=3.14\n",
        "r=random.randint(1,10)\n",
        "print(r)\n",
        "v=(4/3)*pi*(r**3)\n",
        "print(\"volume of sphere:\",v)\n",
        "\n"
      ]
    },
    {
      "cell_type": "markdown",
      "metadata": {
        "id": "z3tBE7E-Xn5X"
      },
      "source": [
        "# Question 4\n",
        "\n",
        "(40 points). In the field of Data Science, data is often formatted as a comma-delimited (CSV) file, where each line in a file corresponds to a field's value. Refer to Chapter 9 (p. 106) for more information on comma-delimited files. To answer this question, you will need to download the file [Assignment1_denton_housing.csv](https://raw.githubusercontent.com/unt-iialab/info5731-spring2022/main/assignments/Assignment1_denton_housing.csv) included with this assignment. The file [Assignment1_denton_housing.csv](https://raw.githubusercontent.com/unt-iialab/info5731-spring2022/main/assignments/Assignment1_denton_housing.csv) contains statistics about housing in the city of Denton from 2008 to 2014. Write a program to implement the following questions.\n",
        "\n",
        "(1) (10 pts) Calculate the difference in the number of Occupied Housing Units from year to year and print it. The difference must be calculated for the consecutive years such as 2008-2009, 2009-2010 etc. Finally, print the values in the ascending order.\n",
        "\n",
        "(2) (10 pts) For all the years, calculate the percentage of housing units which are vacant an occupied. Print the results in the following format:\n",
        "\n",
        "Year Vacant Housing Units Occupied Housing Units\n",
        "\n",
        "    2008  30%   70%                          \n",
        "\t2009 ----- -----\n",
        "\t2010 ----- -----\n",
        "    2011 ----- -----\n",
        "\t2012 ----- -----\n",
        "    2013 ----- -----\n",
        "\t2014 ----- -----\n",
        "  \n",
        "  \n",
        "\n",
        "(3) (10 pts) Calculate and print the valued and years in which the highest number of housing units were vacant and occupied. Print the results in the following format:  \n",
        "\n",
        "                              Year\tValue\n",
        "\tVacant Housing Units\t  -----   -----\n",
        "\tOccupied Housing Units\t-----   -----\n",
        "\n",
        "(4) (10 pts) Calculate the harmonic mean of the total housing units and print it out. You can find the information about harmonic mean here: https://ncalculators.com/statistics/harmonic-mean-calculator.htm"
      ]
    },
    {
      "cell_type": "code",
      "execution_count": null,
      "metadata": {
        "id": "lqGYuHBhcsRH",
        "colab": {
          "base_uri": "https://localhost:8080/"
        },
        "outputId": "9b65ac73-5614-4efc-d522-f7255101ee62"
      },
      "outputs": [
        {
          "output_type": "stream",
          "name": "stdout",
          "text": [
            "Drive already mounted at /content/drive; to attempt to forcibly remount, call drive.mount(\"/content/drive\", force_remount=True).\n"
          ]
        }
      ],
      "source": [
        "# Your code here\n",
        "from google.colab import drive\n",
        "drive.mount('/content/drive')\n",
        "path='/content/drive/My Drive/Assignment1_denton_housing.csv'"
      ]
    },
    {
      "cell_type": "code",
      "source": [
        "import pandas as pd\n",
        "from collections import Counter\n",
        "data = pd.read_csv(path)\n",
        "data.head()"
      ],
      "metadata": {
        "id": "oKsUvsPfnKgT",
        "colab": {
          "base_uri": "https://localhost:8080/",
          "height": 206
        },
        "outputId": "3c5ecf51-f6e4-4286-9d02-a797f84de634"
      },
      "execution_count": null,
      "outputs": [
        {
          "output_type": "execute_result",
          "data": {
            "text/plain": [
              "   year             title_field  value\n",
              "0  2014     Total Housing Units  49109\n",
              "1  2014    Vacant Housing Units   2814\n",
              "2  2014  Occupied Housing Units  46295\n",
              "3  2013     Total Housing Units  47888\n",
              "4  2013    Vacant Housing Units   4215"
            ],
            "text/html": [
              "\n",
              "  <div id=\"df-7526b93b-a8ab-453f-ab61-69eb34017f49\">\n",
              "    <div class=\"colab-df-container\">\n",
              "      <div>\n",
              "<style scoped>\n",
              "    .dataframe tbody tr th:only-of-type {\n",
              "        vertical-align: middle;\n",
              "    }\n",
              "\n",
              "    .dataframe tbody tr th {\n",
              "        vertical-align: top;\n",
              "    }\n",
              "\n",
              "    .dataframe thead th {\n",
              "        text-align: right;\n",
              "    }\n",
              "</style>\n",
              "<table border=\"1\" class=\"dataframe\">\n",
              "  <thead>\n",
              "    <tr style=\"text-align: right;\">\n",
              "      <th></th>\n",
              "      <th>year</th>\n",
              "      <th>title_field</th>\n",
              "      <th>value</th>\n",
              "    </tr>\n",
              "  </thead>\n",
              "  <tbody>\n",
              "    <tr>\n",
              "      <th>0</th>\n",
              "      <td>2014</td>\n",
              "      <td>Total Housing Units</td>\n",
              "      <td>49109</td>\n",
              "    </tr>\n",
              "    <tr>\n",
              "      <th>1</th>\n",
              "      <td>2014</td>\n",
              "      <td>Vacant Housing Units</td>\n",
              "      <td>2814</td>\n",
              "    </tr>\n",
              "    <tr>\n",
              "      <th>2</th>\n",
              "      <td>2014</td>\n",
              "      <td>Occupied Housing Units</td>\n",
              "      <td>46295</td>\n",
              "    </tr>\n",
              "    <tr>\n",
              "      <th>3</th>\n",
              "      <td>2013</td>\n",
              "      <td>Total Housing Units</td>\n",
              "      <td>47888</td>\n",
              "    </tr>\n",
              "    <tr>\n",
              "      <th>4</th>\n",
              "      <td>2013</td>\n",
              "      <td>Vacant Housing Units</td>\n",
              "      <td>4215</td>\n",
              "    </tr>\n",
              "  </tbody>\n",
              "</table>\n",
              "</div>\n",
              "      <button class=\"colab-df-convert\" onclick=\"convertToInteractive('df-7526b93b-a8ab-453f-ab61-69eb34017f49')\"\n",
              "              title=\"Convert this dataframe to an interactive table.\"\n",
              "              style=\"display:none;\">\n",
              "        \n",
              "  <svg xmlns=\"http://www.w3.org/2000/svg\" height=\"24px\"viewBox=\"0 0 24 24\"\n",
              "       width=\"24px\">\n",
              "    <path d=\"M0 0h24v24H0V0z\" fill=\"none\"/>\n",
              "    <path d=\"M18.56 5.44l.94 2.06.94-2.06 2.06-.94-2.06-.94-.94-2.06-.94 2.06-2.06.94zm-11 1L8.5 8.5l.94-2.06 2.06-.94-2.06-.94L8.5 2.5l-.94 2.06-2.06.94zm10 10l.94 2.06.94-2.06 2.06-.94-2.06-.94-.94-2.06-.94 2.06-2.06.94z\"/><path d=\"M17.41 7.96l-1.37-1.37c-.4-.4-.92-.59-1.43-.59-.52 0-1.04.2-1.43.59L10.3 9.45l-7.72 7.72c-.78.78-.78 2.05 0 2.83L4 21.41c.39.39.9.59 1.41.59.51 0 1.02-.2 1.41-.59l7.78-7.78 2.81-2.81c.8-.78.8-2.07 0-2.86zM5.41 20L4 18.59l7.72-7.72 1.47 1.35L5.41 20z\"/>\n",
              "  </svg>\n",
              "      </button>\n",
              "      \n",
              "  <style>\n",
              "    .colab-df-container {\n",
              "      display:flex;\n",
              "      flex-wrap:wrap;\n",
              "      gap: 12px;\n",
              "    }\n",
              "\n",
              "    .colab-df-convert {\n",
              "      background-color: #E8F0FE;\n",
              "      border: none;\n",
              "      border-radius: 50%;\n",
              "      cursor: pointer;\n",
              "      display: none;\n",
              "      fill: #1967D2;\n",
              "      height: 32px;\n",
              "      padding: 0 0 0 0;\n",
              "      width: 32px;\n",
              "    }\n",
              "\n",
              "    .colab-df-convert:hover {\n",
              "      background-color: #E2EBFA;\n",
              "      box-shadow: 0px 1px 2px rgba(60, 64, 67, 0.3), 0px 1px 3px 1px rgba(60, 64, 67, 0.15);\n",
              "      fill: #174EA6;\n",
              "    }\n",
              "\n",
              "    [theme=dark] .colab-df-convert {\n",
              "      background-color: #3B4455;\n",
              "      fill: #D2E3FC;\n",
              "    }\n",
              "\n",
              "    [theme=dark] .colab-df-convert:hover {\n",
              "      background-color: #434B5C;\n",
              "      box-shadow: 0px 1px 3px 1px rgba(0, 0, 0, 0.15);\n",
              "      filter: drop-shadow(0px 1px 2px rgba(0, 0, 0, 0.3));\n",
              "      fill: #FFFFFF;\n",
              "    }\n",
              "  </style>\n",
              "\n",
              "      <script>\n",
              "        const buttonEl =\n",
              "          document.querySelector('#df-7526b93b-a8ab-453f-ab61-69eb34017f49 button.colab-df-convert');\n",
              "        buttonEl.style.display =\n",
              "          google.colab.kernel.accessAllowed ? 'block' : 'none';\n",
              "\n",
              "        async function convertToInteractive(key) {\n",
              "          const element = document.querySelector('#df-7526b93b-a8ab-453f-ab61-69eb34017f49');\n",
              "          const dataTable =\n",
              "            await google.colab.kernel.invokeFunction('convertToInteractive',\n",
              "                                                     [key], {});\n",
              "          if (!dataTable) return;\n",
              "\n",
              "          const docLinkHtml = 'Like what you see? Visit the ' +\n",
              "            '<a target=\"_blank\" href=https://colab.research.google.com/notebooks/data_table.ipynb>data table notebook</a>'\n",
              "            + ' to learn more about interactive tables.';\n",
              "          element.innerHTML = '';\n",
              "          dataTable['output_type'] = 'display_data';\n",
              "          await google.colab.output.renderOutput(dataTable, element);\n",
              "          const docLink = document.createElement('div');\n",
              "          docLink.innerHTML = docLinkHtml;\n",
              "          element.appendChild(docLink);\n",
              "        }\n",
              "      </script>\n",
              "    </div>\n",
              "  </div>\n",
              "  "
            ]
          },
          "metadata": {},
          "execution_count": 75
        }
      ]
    },
    {
      "cell_type": "code",
      "source": [
        "#Year wise housing data collected and mapped accordingly.\n",
        "house_dict={}\n",
        "for j in sorted(list(set(data['year'])))[:-1]:\n",
        "  prev_year = 0\n",
        "  next_year = 0\n",
        "  for col, row in data.iterrows():\n",
        "    if row['year'] == j and row['title_field'] == 'Occupied Housing Units':\n",
        "      prev_year += row['value']\n",
        "    if row['year'] == j+1 and row['title_field'] == 'Occupied Housing Units':\n",
        "      next_year += row['value']\n",
        "  house_dict[str(j)+'-'+str(j+1)] = abs(prev_year - next_year)\n",
        "print(house_dict)"
      ],
      "metadata": {
        "colab": {
          "base_uri": "https://localhost:8080/"
        },
        "id": "tY3Q4Vl8o8bK",
        "outputId": "8bfbff42-8342-48c5-a0f4-a91cd32bfc81"
      },
      "execution_count": null,
      "outputs": [
        {
          "output_type": "stream",
          "name": "stdout",
          "text": [
            "{'2008-2009': 795, '2009-2010': 5091, '2010-2011': 303, '2011-2012': 1404, '2012-2013': 1565, '2013-2014': 2622}\n"
          ]
        }
      ]
    },
    {
      "cell_type": "code",
      "source": [
        "#Year wise house count in ascending order printed.\n",
        "sorted_list=sorted(house_dict.values())\n",
        "year_wise_house_data_ascending={}\n",
        "for i in sorted_list:\n",
        "  for k in house_dict.keys():\n",
        "    if(house_dict[k]==i):\n",
        "      year_wise_house_data_ascending[k]=house_dict[k]\n",
        "#Printing the data in ascending order.\n",
        "for key,value in year_wise_house_data_ascending.items():\n",
        "  print(key,\":\",value)"
      ],
      "metadata": {
        "id": "_n2QCzfXrvT1",
        "colab": {
          "base_uri": "https://localhost:8080/"
        },
        "outputId": "bab90881-eef0-4692-ec27-3adf961e1ff2"
      },
      "execution_count": null,
      "outputs": [
        {
          "output_type": "stream",
          "name": "stdout",
          "text": [
            "2010-2011 : 303\n",
            "2008-2009 : 795\n",
            "2011-2012 : 1404\n",
            "2012-2013 : 1565\n",
            "2013-2014 : 2622\n",
            "2009-2010 : 5091\n"
          ]
        }
      ]
    },
    {
      "cell_type": "code",
      "source": [
        "#Using the year column data in sorted order\n",
        "sorted_year_data = sorted(list(set(data['year'])))\n",
        "for temp_year in sorted_year_data:\n",
        "  vacant = 0\n",
        "  year = 0\n",
        "  number_of_houses = 0\n",
        "  occupied_ones = 0\n",
        "  for col, row in data.iterrows():\n",
        "    #Taking the count for total number of houses\n",
        "    if row['year'] == temp_year and row['title_field'] == 'Total Housing Units' :\n",
        "      year = row['year']\n",
        "      number_of_houses = row['value']\n",
        "    #Count for Occupied ones\n",
        "    if row['year'] == temp_year and  row['title_field'] == 'Occupied Housing Units' :\n",
        "      occupied_ones = row['value']\n",
        "    #Count for vacant ones.\n",
        "    if row['year'] == temp_year and  row['title_field'] == 'Vacant Housing Units' :\n",
        "      vacant = row['value']\n",
        "  #Calculating the occupied and vacant percentages and change to int type\n",
        "  percent_occupied = int((occupied_ones / number_of_houses) * 100)\n",
        "  percent_vacant = int((vacant / number_of_houses) * 100)\n",
        "  #Formating the output as per requirement.\n",
        "  print(year,\" \",str(percent_vacant)+'%',\" \",str(percent_occupied)+'%')"
      ],
      "metadata": {
        "colab": {
          "base_uri": "https://localhost:8080/"
        },
        "id": "dxcQnZnAsRmC",
        "outputId": "91d668e6-e9d3-4dc2-abcb-e12579bc2722"
      },
      "execution_count": null,
      "outputs": [
        {
          "output_type": "stream",
          "name": "stdout",
          "text": [
            "2008   10%   89%\n",
            "2009   9%   90%\n",
            "2010   8%   91%\n",
            "2011   9%   90%\n",
            "2012   6%   93%\n",
            "2013   8%   91%\n",
            "2014   5%   94%\n"
          ]
        }
      ]
    },
    {
      "cell_type": "code",
      "source": [
        "number_of_years=0\n",
        "house_vacant_years=0\n",
        "maximim_number_occupied_units=0\n",
        "maximim_number_vacant_units=0\n",
        "sorted_year_data = sorted(list(set(data['year'])))\n",
        "for year_data in sorted_year_data:\n",
        " for column,row in data.iterrows():\n",
        "    if row['year'] == year_data and  row['title_field'] == 'Occupied Housing Units' :\n",
        "      if row['value']>maximim_number_occupied_units:\n",
        "        maximim_number_occupied_units=row['value']\n",
        "        number_of_years=row['year']\n",
        "    if row['year'] == year_data and  row['title_field'] == 'Vacant Housing Units' :\n",
        "      if row['value']>maximim_number_vacant_units:\n",
        "        maximim_number_vacant_units=row['value']\n",
        "        house_vacant_years=row['year']\n",
        "print('                       ', 'year',   'value')\n",
        "print('Occupied Housing Units ' , number_of_years,   maximim_number_occupied_units)\n",
        "print('Vacant Housing Units   ' ,  house_vacant_years , maximim_number_vacant_units)"
      ],
      "metadata": {
        "colab": {
          "base_uri": "https://localhost:8080/"
        },
        "id": "lN57KSkpsUQV",
        "outputId": "fb9eb0f4-b221-44a8-f8e0-372806b42c81"
      },
      "execution_count": null,
      "outputs": [
        {
          "output_type": "stream",
          "name": "stdout",
          "text": [
            "                        year value\n",
            "Occupied Housing Units  2014 46295\n",
            "Vacant Housing Units    2008 4483\n"
          ]
        }
      ]
    },
    {
      "cell_type": "code",
      "source": [
        "total_housing = list()\n",
        "for col, row in data.iterrows():\n",
        "  if row['title_field'] == 'Total Housing Units':\n",
        "    total_housing.append(row['value'])\n",
        "total = len(total_housing)\n",
        "d_v = 0\n",
        "for i in total_housing:\n",
        "  d_v += (1/i)\n",
        "print(total/d_v)"
      ],
      "metadata": {
        "colab": {
          "base_uri": "https://localhost:8080/"
        },
        "id": "9UCbUtWZNp2w",
        "outputId": "b8b11334-305b-40b0-dba1-c67a4357829e"
      },
      "execution_count": null,
      "outputs": [
        {
          "output_type": "stream",
          "name": "stdout",
          "text": [
            "44398.28543969185\n"
          ]
        }
      ]
    }
  ],
  "metadata": {
    "colab": {
      "provenance": [],
      "include_colab_link": true
    },
    "kernelspec": {
      "display_name": "Python 3 (ipykernel)",
      "language": "python",
      "name": "python3"
    },
    "language_info": {
      "codemirror_mode": {
        "name": "ipython",
        "version": 3
      },
      "file_extension": ".py",
      "mimetype": "text/x-python",
      "name": "python",
      "nbconvert_exporter": "python",
      "pygments_lexer": "ipython3",
      "version": "3.9.12"
    }
  },
  "nbformat": 4,
  "nbformat_minor": 0
}