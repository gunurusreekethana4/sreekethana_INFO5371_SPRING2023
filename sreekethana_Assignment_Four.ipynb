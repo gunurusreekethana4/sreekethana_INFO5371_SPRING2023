{
  "cells": [
    {
      "cell_type": "markdown",
      "metadata": {
        "id": "view-in-github",
        "colab_type": "text"
      },
      "source": [
        "<a href=\"https://colab.research.google.com/github/gunurusreekethana4/sreekethana_INFO5371_SPRING2023/blob/main/sreekethana_Assignment_Four.ipynb\" target=\"_parent\"><img src=\"https://colab.research.google.com/assets/colab-badge.svg\" alt=\"Open In Colab\"/></a>"
      ]
    },
    {
      "cell_type": "markdown",
      "metadata": {
        "id": "USSdXHuqnwv9"
      },
      "source": [
        "# **INFO5731 Assignment Four**\n",
        "\n",
        "In this assignment, you are required to conduct topic modeling, sentiment analysis based on **the dataset you created from assignment three**."
      ]
    },
    {
      "cell_type": "markdown",
      "metadata": {
        "id": "YWxodXh5n4xF"
      },
      "source": [
        "# **Question 1: Topic Modeling**"
      ]
    },
    {
      "cell_type": "markdown",
      "metadata": {
        "id": "TenBkDJ5n95k"
      },
      "source": [
        "(30 points). This question is designed to help you develop a feel for the way topic modeling works, the connection to the human meanings of documents. Based on the dataset from assignment three, write a python program to **identify the top 10 topics in the dataset**. Before answering this question, please review the materials in lesson 8, especially the code for LDA, LSA, and BERTopic. The following information should be reported:\n",
        "\n",
        "(1) Features (text representation) used for topic modeling.\n",
        "\n",
        "(2) Top 10 clusters for topic modeling.\n",
        "\n",
        "(3) Summarize and describe the topic for each cluster. \n"
      ]
    },
    {
      "cell_type": "code",
      "execution_count": 5,
      "metadata": {
        "colab": {
          "base_uri": "https://localhost:8080/"
        },
        "id": "PuFPKhC0m1fd",
        "outputId": "a651f3ee-1835-42cd-d0e5-58ebd8c8ea40"
      },
      "outputs": [
        {
          "output_type": "stream",
          "name": "stdout",
          "text": [
            "Looking in indexes: https://pypi.org/simple, https://us-python.pkg.dev/colab-wheels/public/simple/\n",
            "Collecting pyLDAvis\n",
            "  Downloading pyLDAvis-3.4.1-py3-none-any.whl (2.6 MB)\n",
            "\u001b[2K     \u001b[90m━━━━━━━━━━━━━━━━━━━━━━━━━━━━━━━━━━━━━━━━\u001b[0m \u001b[32m2.6/2.6 MB\u001b[0m \u001b[31m25.4 MB/s\u001b[0m eta \u001b[36m0:00:00\u001b[0m\n",
            "\u001b[?25hRequirement already satisfied: jinja2 in /usr/local/lib/python3.10/dist-packages (from pyLDAvis) (3.1.2)\n",
            "Requirement already satisfied: scikit-learn>=1.0.0 in /usr/local/lib/python3.10/dist-packages (from pyLDAvis) (1.2.2)\n",
            "Requirement already satisfied: scipy in /usr/local/lib/python3.10/dist-packages (from pyLDAvis) (1.10.1)\n",
            "Requirement already satisfied: numexpr in /usr/local/lib/python3.10/dist-packages (from pyLDAvis) (2.8.4)\n",
            "Collecting pandas>=2.0.0\n",
            "  Downloading pandas-2.0.1-cp310-cp310-manylinux_2_17_x86_64.manylinux2014_x86_64.whl (12.3 MB)\n",
            "\u001b[2K     \u001b[90m━━━━━━━━━━━━━━━━━━━━━━━━━━━━━━━━━━━━━━━━\u001b[0m \u001b[32m12.3/12.3 MB\u001b[0m \u001b[31m64.0 MB/s\u001b[0m eta \u001b[36m0:00:00\u001b[0m\n",
            "\u001b[?25hRequirement already satisfied: setuptools in /usr/local/lib/python3.10/dist-packages (from pyLDAvis) (67.7.2)\n",
            "Collecting numpy>=1.24.2\n",
            "  Downloading numpy-1.24.3-cp310-cp310-manylinux_2_17_x86_64.manylinux2014_x86_64.whl (17.3 MB)\n",
            "\u001b[2K     \u001b[90m━━━━━━━━━━━━━━━━━━━━━━━━━━━━━━━━━━━━━━━━\u001b[0m \u001b[32m17.3/17.3 MB\u001b[0m \u001b[31m47.4 MB/s\u001b[0m eta \u001b[36m0:00:00\u001b[0m\n",
            "\u001b[?25hRequirement already satisfied: joblib>=1.2.0 in /usr/local/lib/python3.10/dist-packages (from pyLDAvis) (1.2.0)\n",
            "Collecting funcy\n",
            "  Downloading funcy-2.0-py2.py3-none-any.whl (30 kB)\n",
            "Requirement already satisfied: gensim in /usr/local/lib/python3.10/dist-packages (from pyLDAvis) (4.3.1)\n",
            "Requirement already satisfied: python-dateutil>=2.8.2 in /usr/local/lib/python3.10/dist-packages (from pandas>=2.0.0->pyLDAvis) (2.8.2)\n",
            "Requirement already satisfied: tzdata>=2022.1 in /usr/local/lib/python3.10/dist-packages (from pandas>=2.0.0->pyLDAvis) (2023.3)\n",
            "Requirement already satisfied: pytz>=2020.1 in /usr/local/lib/python3.10/dist-packages (from pandas>=2.0.0->pyLDAvis) (2022.7.1)\n",
            "Requirement already satisfied: threadpoolctl>=2.0.0 in /usr/local/lib/python3.10/dist-packages (from scikit-learn>=1.0.0->pyLDAvis) (3.1.0)\n",
            "Requirement already satisfied: smart-open>=1.8.1 in /usr/local/lib/python3.10/dist-packages (from gensim->pyLDAvis) (6.3.0)\n",
            "Requirement already satisfied: MarkupSafe>=2.0 in /usr/local/lib/python3.10/dist-packages (from jinja2->pyLDAvis) (2.1.2)\n",
            "Requirement already satisfied: six>=1.5 in /usr/local/lib/python3.10/dist-packages (from python-dateutil>=2.8.2->pandas>=2.0.0->pyLDAvis) (1.16.0)\n",
            "Installing collected packages: funcy, numpy, pandas, pyLDAvis\n",
            "  Attempting uninstall: numpy\n",
            "    Found existing installation: numpy 1.22.4\n",
            "    Uninstalling numpy-1.22.4:\n",
            "      Successfully uninstalled numpy-1.22.4\n",
            "  Attempting uninstall: pandas\n",
            "    Found existing installation: pandas 1.5.3\n",
            "    Uninstalling pandas-1.5.3:\n",
            "      Successfully uninstalled pandas-1.5.3\n",
            "\u001b[31mERROR: pip's dependency resolver does not currently take into account all the packages that are installed. This behaviour is the source of the following dependency conflicts.\n",
            "tensorflow 2.12.0 requires numpy<1.24,>=1.22, but you have numpy 1.24.3 which is incompatible.\n",
            "numba 0.56.4 requires numpy<1.24,>=1.18, but you have numpy 1.24.3 which is incompatible.\n",
            "google-colab 1.0.0 requires pandas~=1.5.3, but you have pandas 2.0.1 which is incompatible.\u001b[0m\u001b[31m\n",
            "\u001b[0mSuccessfully installed funcy-2.0 numpy-1.24.3 pandas-2.0.1 pyLDAvis-3.4.1\n",
            "Looking in indexes: https://pypi.org/simple, https://us-python.pkg.dev/colab-wheels/public/simple/\n",
            "Collecting ipympl\n",
            "  Downloading ipympl-0.9.3-py2.py3-none-any.whl (511 kB)\n",
            "\u001b[2K     \u001b[90m━━━━━━━━━━━━━━━━━━━━━━━━━━━━━━━━━━━━━━━\u001b[0m \u001b[32m511.6/511.6 kB\u001b[0m \u001b[31m9.0 MB/s\u001b[0m eta \u001b[36m0:00:00\u001b[0m\n",
            "\u001b[?25hRequirement already satisfied: ipython<9 in /usr/local/lib/python3.10/dist-packages (from ipympl) (7.34.0)\n",
            "Requirement already satisfied: pillow in /usr/local/lib/python3.10/dist-packages (from ipympl) (8.4.0)\n",
            "Requirement already satisfied: numpy in /usr/local/lib/python3.10/dist-packages (from ipympl) (1.24.3)\n",
            "Requirement already satisfied: ipython-genutils in /usr/local/lib/python3.10/dist-packages (from ipympl) (0.2.0)\n",
            "Requirement already satisfied: matplotlib<4,>=3.4.0 in /usr/local/lib/python3.10/dist-packages (from ipympl) (3.7.1)\n",
            "Requirement already satisfied: ipywidgets<9,>=7.6.0 in /usr/local/lib/python3.10/dist-packages (from ipympl) (7.7.1)\n",
            "Requirement already satisfied: traitlets<6 in /usr/local/lib/python3.10/dist-packages (from ipympl) (5.7.1)\n",
            "Requirement already satisfied: pexpect>4.3 in /usr/local/lib/python3.10/dist-packages (from ipython<9->ipympl) (4.8.0)\n",
            "Requirement already satisfied: matplotlib-inline in /usr/local/lib/python3.10/dist-packages (from ipython<9->ipympl) (0.1.6)\n",
            "Requirement already satisfied: pygments in /usr/local/lib/python3.10/dist-packages (from ipython<9->ipympl) (2.14.0)\n",
            "Requirement already satisfied: setuptools>=18.5 in /usr/local/lib/python3.10/dist-packages (from ipython<9->ipympl) (67.7.2)\n",
            "Requirement already satisfied: prompt-toolkit!=3.0.0,!=3.0.1,<3.1.0,>=2.0.0 in /usr/local/lib/python3.10/dist-packages (from ipython<9->ipympl) (3.0.38)\n",
            "Requirement already satisfied: pickleshare in /usr/local/lib/python3.10/dist-packages (from ipython<9->ipympl) (0.7.5)\n",
            "Requirement already satisfied: backcall in /usr/local/lib/python3.10/dist-packages (from ipython<9->ipympl) (0.2.0)\n",
            "Requirement already satisfied: decorator in /usr/local/lib/python3.10/dist-packages (from ipython<9->ipympl) (4.4.2)\n",
            "Collecting jedi>=0.16\n",
            "  Downloading jedi-0.18.2-py2.py3-none-any.whl (1.6 MB)\n",
            "\u001b[2K     \u001b[90m━━━━━━━━━━━━━━━━━━━━━━━━━━━━━━━━━━━━━━━━\u001b[0m \u001b[32m1.6/1.6 MB\u001b[0m \u001b[31m54.7 MB/s\u001b[0m eta \u001b[36m0:00:00\u001b[0m\n",
            "\u001b[?25hRequirement already satisfied: jupyterlab-widgets>=1.0.0 in /usr/local/lib/python3.10/dist-packages (from ipywidgets<9,>=7.6.0->ipympl) (3.0.7)\n",
            "Requirement already satisfied: widgetsnbextension~=3.6.0 in /usr/local/lib/python3.10/dist-packages (from ipywidgets<9,>=7.6.0->ipympl) (3.6.4)\n",
            "Requirement already satisfied: ipykernel>=4.5.1 in /usr/local/lib/python3.10/dist-packages (from ipywidgets<9,>=7.6.0->ipympl) (5.5.6)\n",
            "Requirement already satisfied: fonttools>=4.22.0 in /usr/local/lib/python3.10/dist-packages (from matplotlib<4,>=3.4.0->ipympl) (4.39.3)\n",
            "Requirement already satisfied: python-dateutil>=2.7 in /usr/local/lib/python3.10/dist-packages (from matplotlib<4,>=3.4.0->ipympl) (2.8.2)\n",
            "Requirement already satisfied: kiwisolver>=1.0.1 in /usr/local/lib/python3.10/dist-packages (from matplotlib<4,>=3.4.0->ipympl) (1.4.4)\n",
            "Requirement already satisfied: contourpy>=1.0.1 in /usr/local/lib/python3.10/dist-packages (from matplotlib<4,>=3.4.0->ipympl) (1.0.7)\n",
            "Requirement already satisfied: pyparsing>=2.3.1 in /usr/local/lib/python3.10/dist-packages (from matplotlib<4,>=3.4.0->ipympl) (3.0.9)\n",
            "Requirement already satisfied: cycler>=0.10 in /usr/local/lib/python3.10/dist-packages (from matplotlib<4,>=3.4.0->ipympl) (0.11.0)\n",
            "Requirement already satisfied: packaging>=20.0 in /usr/local/lib/python3.10/dist-packages (from matplotlib<4,>=3.4.0->ipympl) (23.1)\n",
            "Requirement already satisfied: tornado>=4.2 in /usr/local/lib/python3.10/dist-packages (from ipykernel>=4.5.1->ipywidgets<9,>=7.6.0->ipympl) (6.2)\n",
            "Requirement already satisfied: jupyter-client in /usr/local/lib/python3.10/dist-packages (from ipykernel>=4.5.1->ipywidgets<9,>=7.6.0->ipympl) (6.1.12)\n",
            "Requirement already satisfied: parso<0.9.0,>=0.8.0 in /usr/local/lib/python3.10/dist-packages (from jedi>=0.16->ipython<9->ipympl) (0.8.3)\n",
            "Requirement already satisfied: ptyprocess>=0.5 in /usr/local/lib/python3.10/dist-packages (from pexpect>4.3->ipython<9->ipympl) (0.7.0)\n",
            "Requirement already satisfied: wcwidth in /usr/local/lib/python3.10/dist-packages (from prompt-toolkit!=3.0.0,!=3.0.1,<3.1.0,>=2.0.0->ipython<9->ipympl) (0.2.6)\n",
            "Requirement already satisfied: six>=1.5 in /usr/local/lib/python3.10/dist-packages (from python-dateutil>=2.7->matplotlib<4,>=3.4.0->ipympl) (1.16.0)\n",
            "Requirement already satisfied: notebook>=4.4.1 in /usr/local/lib/python3.10/dist-packages (from widgetsnbextension~=3.6.0->ipywidgets<9,>=7.6.0->ipympl) (6.4.8)\n",
            "Requirement already satisfied: nbconvert in /usr/local/lib/python3.10/dist-packages (from notebook>=4.4.1->widgetsnbextension~=3.6.0->ipywidgets<9,>=7.6.0->ipympl) (6.5.4)\n",
            "Requirement already satisfied: pyzmq>=17 in /usr/local/lib/python3.10/dist-packages (from notebook>=4.4.1->widgetsnbextension~=3.6.0->ipywidgets<9,>=7.6.0->ipympl) (23.2.1)\n",
            "Requirement already satisfied: terminado>=0.8.3 in /usr/local/lib/python3.10/dist-packages (from notebook>=4.4.1->widgetsnbextension~=3.6.0->ipywidgets<9,>=7.6.0->ipympl) (0.17.1)\n",
            "Requirement already satisfied: nest-asyncio>=1.5 in /usr/local/lib/python3.10/dist-packages (from notebook>=4.4.1->widgetsnbextension~=3.6.0->ipywidgets<9,>=7.6.0->ipympl) (1.5.6)\n",
            "Requirement already satisfied: jinja2 in /usr/local/lib/python3.10/dist-packages (from notebook>=4.4.1->widgetsnbextension~=3.6.0->ipywidgets<9,>=7.6.0->ipympl) (3.1.2)\n",
            "Requirement already satisfied: jupyter-core>=4.6.1 in /usr/local/lib/python3.10/dist-packages (from notebook>=4.4.1->widgetsnbextension~=3.6.0->ipywidgets<9,>=7.6.0->ipympl) (5.3.0)\n",
            "Requirement already satisfied: Send2Trash>=1.8.0 in /usr/local/lib/python3.10/dist-packages (from notebook>=4.4.1->widgetsnbextension~=3.6.0->ipywidgets<9,>=7.6.0->ipympl) (1.8.0)\n",
            "Requirement already satisfied: prometheus-client in /usr/local/lib/python3.10/dist-packages (from notebook>=4.4.1->widgetsnbextension~=3.6.0->ipywidgets<9,>=7.6.0->ipympl) (0.16.0)\n",
            "Requirement already satisfied: argon2-cffi in /usr/local/lib/python3.10/dist-packages (from notebook>=4.4.1->widgetsnbextension~=3.6.0->ipywidgets<9,>=7.6.0->ipympl) (21.3.0)\n",
            "Requirement already satisfied: nbformat in /usr/local/lib/python3.10/dist-packages (from notebook>=4.4.1->widgetsnbextension~=3.6.0->ipywidgets<9,>=7.6.0->ipympl) (5.8.0)\n",
            "Requirement already satisfied: platformdirs>=2.5 in /usr/local/lib/python3.10/dist-packages (from jupyter-core>=4.6.1->notebook>=4.4.1->widgetsnbextension~=3.6.0->ipywidgets<9,>=7.6.0->ipympl) (3.3.0)\n",
            "Requirement already satisfied: argon2-cffi-bindings in /usr/local/lib/python3.10/dist-packages (from argon2-cffi->notebook>=4.4.1->widgetsnbextension~=3.6.0->ipywidgets<9,>=7.6.0->ipympl) (21.2.0)\n",
            "Requirement already satisfied: MarkupSafe>=2.0 in /usr/local/lib/python3.10/dist-packages (from jinja2->notebook>=4.4.1->widgetsnbextension~=3.6.0->ipywidgets<9,>=7.6.0->ipympl) (2.1.2)\n",
            "Requirement already satisfied: entrypoints>=0.2.2 in /usr/local/lib/python3.10/dist-packages (from nbconvert->notebook>=4.4.1->widgetsnbextension~=3.6.0->ipywidgets<9,>=7.6.0->ipympl) (0.4)\n",
            "Requirement already satisfied: defusedxml in /usr/local/lib/python3.10/dist-packages (from nbconvert->notebook>=4.4.1->widgetsnbextension~=3.6.0->ipywidgets<9,>=7.6.0->ipympl) (0.7.1)\n",
            "Requirement already satisfied: mistune<2,>=0.8.1 in /usr/local/lib/python3.10/dist-packages (from nbconvert->notebook>=4.4.1->widgetsnbextension~=3.6.0->ipywidgets<9,>=7.6.0->ipympl) (0.8.4)\n",
            "Requirement already satisfied: beautifulsoup4 in /usr/local/lib/python3.10/dist-packages (from nbconvert->notebook>=4.4.1->widgetsnbextension~=3.6.0->ipywidgets<9,>=7.6.0->ipympl) (4.11.2)\n",
            "Requirement already satisfied: pandocfilters>=1.4.1 in /usr/local/lib/python3.10/dist-packages (from nbconvert->notebook>=4.4.1->widgetsnbextension~=3.6.0->ipywidgets<9,>=7.6.0->ipympl) (1.5.0)\n",
            "Requirement already satisfied: tinycss2 in /usr/local/lib/python3.10/dist-packages (from nbconvert->notebook>=4.4.1->widgetsnbextension~=3.6.0->ipywidgets<9,>=7.6.0->ipympl) (1.2.1)\n",
            "Requirement already satisfied: bleach in /usr/local/lib/python3.10/dist-packages (from nbconvert->notebook>=4.4.1->widgetsnbextension~=3.6.0->ipywidgets<9,>=7.6.0->ipympl) (6.0.0)\n",
            "Requirement already satisfied: jupyterlab-pygments in /usr/local/lib/python3.10/dist-packages (from nbconvert->notebook>=4.4.1->widgetsnbextension~=3.6.0->ipywidgets<9,>=7.6.0->ipympl) (0.2.2)\n",
            "Requirement already satisfied: lxml in /usr/local/lib/python3.10/dist-packages (from nbconvert->notebook>=4.4.1->widgetsnbextension~=3.6.0->ipywidgets<9,>=7.6.0->ipympl) (4.9.2)\n",
            "Requirement already satisfied: nbclient>=0.5.0 in /usr/local/lib/python3.10/dist-packages (from nbconvert->notebook>=4.4.1->widgetsnbextension~=3.6.0->ipywidgets<9,>=7.6.0->ipympl) (0.7.4)\n",
            "Requirement already satisfied: fastjsonschema in /usr/local/lib/python3.10/dist-packages (from nbformat->notebook>=4.4.1->widgetsnbextension~=3.6.0->ipywidgets<9,>=7.6.0->ipympl) (2.16.3)\n",
            "Requirement already satisfied: jsonschema>=2.6 in /usr/local/lib/python3.10/dist-packages (from nbformat->notebook>=4.4.1->widgetsnbextension~=3.6.0->ipywidgets<9,>=7.6.0->ipympl) (4.3.3)\n",
            "Requirement already satisfied: pyrsistent!=0.17.0,!=0.17.1,!=0.17.2,>=0.14.0 in /usr/local/lib/python3.10/dist-packages (from jsonschema>=2.6->nbformat->notebook>=4.4.1->widgetsnbextension~=3.6.0->ipywidgets<9,>=7.6.0->ipympl) (0.19.3)\n",
            "Requirement already satisfied: attrs>=17.4.0 in /usr/local/lib/python3.10/dist-packages (from jsonschema>=2.6->nbformat->notebook>=4.4.1->widgetsnbextension~=3.6.0->ipywidgets<9,>=7.6.0->ipympl) (23.1.0)\n",
            "Requirement already satisfied: cffi>=1.0.1 in /usr/local/lib/python3.10/dist-packages (from argon2-cffi-bindings->argon2-cffi->notebook>=4.4.1->widgetsnbextension~=3.6.0->ipywidgets<9,>=7.6.0->ipympl) (1.15.1)\n",
            "Requirement already satisfied: soupsieve>1.2 in /usr/local/lib/python3.10/dist-packages (from beautifulsoup4->nbconvert->notebook>=4.4.1->widgetsnbextension~=3.6.0->ipywidgets<9,>=7.6.0->ipympl) (2.4.1)\n",
            "Requirement already satisfied: webencodings in /usr/local/lib/python3.10/dist-packages (from bleach->nbconvert->notebook>=4.4.1->widgetsnbextension~=3.6.0->ipywidgets<9,>=7.6.0->ipympl) (0.5.1)\n",
            "Requirement already satisfied: pycparser in /usr/local/lib/python3.10/dist-packages (from cffi>=1.0.1->argon2-cffi-bindings->argon2-cffi->notebook>=4.4.1->widgetsnbextension~=3.6.0->ipywidgets<9,>=7.6.0->ipympl) (2.21)\n",
            "Installing collected packages: jedi, ipympl\n",
            "\u001b[31mERROR: pip's dependency resolver does not currently take into account all the packages that are installed. This behaviour is the source of the following dependency conflicts.\n",
            "google-colab 1.0.0 requires pandas~=1.5.3, but you have pandas 2.0.1 which is incompatible.\u001b[0m\u001b[31m\n",
            "\u001b[0mSuccessfully installed ipympl-0.9.3 jedi-0.18.2\n"
          ]
        }
      ],
      "source": [
        "# Write your code here\n",
        "!pip install pyLDAvis \n",
        "!pip install ipympl\n",
        "%matplotlib ipympl\n",
        "\n",
        "\n"
      ]
    },
    {
      "cell_type": "code",
      "source": [
        "import matplotlib.pyplot as plt\n",
        "from nltk.tokenize import RegexpTokenizer\n",
        "from nltk.corpus import stopwords\n",
        "from nltk.stem.porter import PorterStemmer\n",
        "import nltk\n",
        "import pandas as pd\n",
        "\n",
        "nltk.download('stopwords')\n",
        "stopwordList = nltk.corpus.stopwords.words('english')\n",
        "tokenizer = RegexpTokenizer(r'\\w+')\n",
        "stemmer = PorterStemmer()"
      ],
      "metadata": {
        "colab": {
          "base_uri": "https://localhost:8080/"
        },
        "id": "M8gndJSRjvMJ",
        "outputId": "1b0855f8-1d5a-4aef-c242-47cf573c4198"
      },
      "execution_count": 6,
      "outputs": [
        {
          "output_type": "stream",
          "name": "stderr",
          "text": [
            "[nltk_data] Downloading package stopwords to /root/nltk_data...\n",
            "[nltk_data]   Unzipping corpora/stopwords.zip.\n"
          ]
        }
      ]
    },
    {
      "cell_type": "code",
      "source": [
        "tweet_df = pd.read_csv('tweet_sentiment_analysis.csv',encoding='ISO-8859-1')\n",
        "\n",
        "print(tweet_df)"
      ],
      "metadata": {
        "colab": {
          "base_uri": "https://localhost:8080/"
        },
        "id": "lkhyZPwUj4nY",
        "outputId": "114cd857-55ad-4744-fcf5-05a8b763551f"
      },
      "execution_count": 7,
      "outputs": [
        {
          "output_type": "stream",
          "name": "stdout",
          "text": [
            "             id                                               text   \n",
            "0      1.64E+18  Helloooooooooo!!! Anyone there, click in link ...  \\\n",
            "1      1.64E+18  Love is a beautiful dream. - William Sharp (di...   \n",
            "2      1.64E+18  RT @Sammyybee1: In her Uniqueness Ã°Å¸âÂ¸Ã¢Â...   \n",
            "3      1.64E+18  RT @EileanIdhe: A busy, but productive day! We...   \n",
            "4      1.64E+18  RT @petale_le: Le rouge comme lÃ¢â¬â¢express...   \n",
            "...         ...                                                ...   \n",
            "10002  1.64E+18  Hello there, friend Do no harm but take no shi...   \n",
            "10003  1.64E+18  RT @yalisonbp: part 1/2 #errorink #errink #err...   \n",
            "10004  1.64E+18  The way to inner peace is the way of love.\\n\\n...   \n",
            "10005  1.64E+18  Ã Â°âÃ Â°â¢ Ã Â°Â¸Ã Â±ÂÃ Â°Â¤Ã Â±ÂÃ Â°Â°Ã...   \n",
            "10006  1.64E+18  Ãâ ÃâÃÂÃÂ­ÃÂ»ÃÂ± ÃÂ³ÃÂµÃÂ½ÃÂ½Ã...   \n",
            "\n",
            "      sentimental analysis  \n",
            "0                        0  \n",
            "1                        1  \n",
            "2                        1  \n",
            "3                        1  \n",
            "4                        0  \n",
            "...                    ...  \n",
            "10002                  NaN  \n",
            "10003                  NaN  \n",
            "10004                  NaN  \n",
            "10005                  NaN  \n",
            "10006                  NaN  \n",
            "\n",
            "[10007 rows x 3 columns]\n"
          ]
        }
      ]
    },
    {
      "cell_type": "code",
      "source": [
        "from nltk.corpus import stopwords\n",
        "from textblob import TextBlob\n",
        "\n",
        "def lowerCase(text):\n",
        "  return text.apply(lambda x: \" \".join(x.lower() for x in str(x).split()))\n",
        "\n",
        "def tokenization(text):\n",
        "  return text.apply(lambda x: tokenizer.tokenize(x))\n",
        "\n",
        "def stemming(text):\n",
        "  return text.apply(lambda x: [stemmer.stem(i) for i in x])"
      ],
      "metadata": {
        "id": "qhHVyWeipAma"
      },
      "execution_count": 8,
      "outputs": []
    },
    {
      "cell_type": "code",
      "source": [
        "from nltk.corpus import stopwords\n",
        "from textblob import TextBlob\n",
        "\n",
        "text = tweet_df['text']\n",
        "text = lowerCase(text)\n",
        "text = tokenization(text)\n",
        "text = stemming(text)\n",
        "tweet_df['Stemming'] = text\n",
        "tweet_df"
      ],
      "metadata": {
        "colab": {
          "base_uri": "https://localhost:8080/",
          "height": 423
        },
        "id": "8w5Bb6Y6my2k",
        "outputId": "4b4c137e-a63c-4997-b827-88eb6745a28d"
      },
      "execution_count": 9,
      "outputs": [
        {
          "output_type": "execute_result",
          "data": {
            "text/plain": [
              "             id                                               text   \n",
              "0      1.64E+18  Helloooooooooo!!! Anyone there, click in link ...  \\\n",
              "1      1.64E+18  Love is a beautiful dream. - William Sharp (di...   \n",
              "2      1.64E+18  RT @Sammyybee1: In her Uniqueness Ã°Å¸âÂ¸Ã¢Â...   \n",
              "3      1.64E+18  RT @EileanIdhe: A busy, but productive day! We...   \n",
              "4      1.64E+18  RT @petale_le: Le rouge comme lÃ¢â¬â¢express...   \n",
              "...         ...                                                ...   \n",
              "10002  1.64E+18  Hello there, friend Do no harm but take no shi...   \n",
              "10003  1.64E+18  RT @yalisonbp: part 1/2 #errorink #errink #err...   \n",
              "10004  1.64E+18  The way to inner peace is the way of love.\\n\\n...   \n",
              "10005  1.64E+18  Ã Â°âÃ Â°â¢ Ã Â°Â¸Ã Â±ÂÃ Â°Â¤Ã Â±ÂÃ Â°Â°Ã...   \n",
              "10006  1.64E+18  Ãâ ÃâÃÂÃÂ­ÃÂ»ÃÂ± ÃÂ³ÃÂµÃÂ½ÃÂ½Ã...   \n",
              "\n",
              "      sentimental analysis                                           Stemming  \n",
              "0                        0  [helloooooooooo, anyon, there, click, in, link...  \n",
              "1                        1  [love, is, a, beauti, dream, william, sharp, d...  \n",
              "2                        1  [rt, sammyybee1, in, her, uniqu, ã, å, â, â, ã...  \n",
              "3                        1  [rt, eileanidh, a, busi, but, product, day, we...  \n",
              "4                        0  [rt, petale_l, le, roug, comm, lã, â, â, expre...  \n",
              "...                    ...                                                ...  \n",
              "10002                  NaN  [hello, there, friend, do, no, harm, but, take...  \n",
              "10003                  NaN  [rt, yalisonbp, part, 1, 2, errorink, errink, ...  \n",
              "10004                  NaN  [the, way, to, inner, peac, is, the, way, of, ...  \n",
              "10005                  NaN  [ã, â, â, ã, â, â, ã, â, â, ã, â, â, ã, â, â, ...  \n",
              "10006                  NaN  [ã, â, ã, â, ã, â, ã, â, ã, â, ã, â, ã, â³ã, â...  \n",
              "\n",
              "[10007 rows x 4 columns]"
            ],
            "text/html": [
              "\n",
              "  <div id=\"df-6de0372f-18cc-4e71-b1c1-35b9a3f7a192\">\n",
              "    <div class=\"colab-df-container\">\n",
              "      <div>\n",
              "<style scoped>\n",
              "    .dataframe tbody tr th:only-of-type {\n",
              "        vertical-align: middle;\n",
              "    }\n",
              "\n",
              "    .dataframe tbody tr th {\n",
              "        vertical-align: top;\n",
              "    }\n",
              "\n",
              "    .dataframe thead th {\n",
              "        text-align: right;\n",
              "    }\n",
              "</style>\n",
              "<table border=\"1\" class=\"dataframe\">\n",
              "  <thead>\n",
              "    <tr style=\"text-align: right;\">\n",
              "      <th></th>\n",
              "      <th>id</th>\n",
              "      <th>text</th>\n",
              "      <th>sentimental analysis</th>\n",
              "      <th>Stemming</th>\n",
              "    </tr>\n",
              "  </thead>\n",
              "  <tbody>\n",
              "    <tr>\n",
              "      <th>0</th>\n",
              "      <td>1.64E+18</td>\n",
              "      <td>Helloooooooooo!!! Anyone there, click in link ...</td>\n",
              "      <td>0</td>\n",
              "      <td>[helloooooooooo, anyon, there, click, in, link...</td>\n",
              "    </tr>\n",
              "    <tr>\n",
              "      <th>1</th>\n",
              "      <td>1.64E+18</td>\n",
              "      <td>Love is a beautiful dream. - William Sharp (di...</td>\n",
              "      <td>1</td>\n",
              "      <td>[love, is, a, beauti, dream, william, sharp, d...</td>\n",
              "    </tr>\n",
              "    <tr>\n",
              "      <th>2</th>\n",
              "      <td>1.64E+18</td>\n",
              "      <td>RT @Sammyybee1: In her Uniqueness Ã°Å¸âÂ¸Ã¢Â...</td>\n",
              "      <td>1</td>\n",
              "      <td>[rt, sammyybee1, in, her, uniqu, ã, å, â, â, ã...</td>\n",
              "    </tr>\n",
              "    <tr>\n",
              "      <th>3</th>\n",
              "      <td>1.64E+18</td>\n",
              "      <td>RT @EileanIdhe: A busy, but productive day! We...</td>\n",
              "      <td>1</td>\n",
              "      <td>[rt, eileanidh, a, busi, but, product, day, we...</td>\n",
              "    </tr>\n",
              "    <tr>\n",
              "      <th>4</th>\n",
              "      <td>1.64E+18</td>\n",
              "      <td>RT @petale_le: Le rouge comme lÃ¢â¬â¢express...</td>\n",
              "      <td>0</td>\n",
              "      <td>[rt, petale_l, le, roug, comm, lã, â, â, expre...</td>\n",
              "    </tr>\n",
              "    <tr>\n",
              "      <th>...</th>\n",
              "      <td>...</td>\n",
              "      <td>...</td>\n",
              "      <td>...</td>\n",
              "      <td>...</td>\n",
              "    </tr>\n",
              "    <tr>\n",
              "      <th>10002</th>\n",
              "      <td>1.64E+18</td>\n",
              "      <td>Hello there, friend Do no harm but take no shi...</td>\n",
              "      <td>NaN</td>\n",
              "      <td>[hello, there, friend, do, no, harm, but, take...</td>\n",
              "    </tr>\n",
              "    <tr>\n",
              "      <th>10003</th>\n",
              "      <td>1.64E+18</td>\n",
              "      <td>RT @yalisonbp: part 1/2 #errorink #errink #err...</td>\n",
              "      <td>NaN</td>\n",
              "      <td>[rt, yalisonbp, part, 1, 2, errorink, errink, ...</td>\n",
              "    </tr>\n",
              "    <tr>\n",
              "      <th>10004</th>\n",
              "      <td>1.64E+18</td>\n",
              "      <td>The way to inner peace is the way of love.\\n\\n...</td>\n",
              "      <td>NaN</td>\n",
              "      <td>[the, way, to, inner, peac, is, the, way, of, ...</td>\n",
              "    </tr>\n",
              "    <tr>\n",
              "      <th>10005</th>\n",
              "      <td>1.64E+18</td>\n",
              "      <td>Ã Â°âÃ Â°â¢ Ã Â°Â¸Ã Â±ÂÃ Â°Â¤Ã Â±ÂÃ Â°Â°Ã...</td>\n",
              "      <td>NaN</td>\n",
              "      <td>[ã, â, â, ã, â, â, ã, â, â, ã, â, â, ã, â, â, ...</td>\n",
              "    </tr>\n",
              "    <tr>\n",
              "      <th>10006</th>\n",
              "      <td>1.64E+18</td>\n",
              "      <td>Ãâ ÃâÃÂÃÂ­ÃÂ»ÃÂ± ÃÂ³ÃÂµÃÂ½ÃÂ½Ã...</td>\n",
              "      <td>NaN</td>\n",
              "      <td>[ã, â, ã, â, ã, â, ã, â, ã, â, ã, â, ã, â³ã, â...</td>\n",
              "    </tr>\n",
              "  </tbody>\n",
              "</table>\n",
              "<p>10007 rows × 4 columns</p>\n",
              "</div>\n",
              "      <button class=\"colab-df-convert\" onclick=\"convertToInteractive('df-6de0372f-18cc-4e71-b1c1-35b9a3f7a192')\"\n",
              "              title=\"Convert this dataframe to an interactive table.\"\n",
              "              style=\"display:none;\">\n",
              "        \n",
              "  <svg xmlns=\"http://www.w3.org/2000/svg\" height=\"24px\"viewBox=\"0 0 24 24\"\n",
              "       width=\"24px\">\n",
              "    <path d=\"M0 0h24v24H0V0z\" fill=\"none\"/>\n",
              "    <path d=\"M18.56 5.44l.94 2.06.94-2.06 2.06-.94-2.06-.94-.94-2.06-.94 2.06-2.06.94zm-11 1L8.5 8.5l.94-2.06 2.06-.94-2.06-.94L8.5 2.5l-.94 2.06-2.06.94zm10 10l.94 2.06.94-2.06 2.06-.94-2.06-.94-.94-2.06-.94 2.06-2.06.94z\"/><path d=\"M17.41 7.96l-1.37-1.37c-.4-.4-.92-.59-1.43-.59-.52 0-1.04.2-1.43.59L10.3 9.45l-7.72 7.72c-.78.78-.78 2.05 0 2.83L4 21.41c.39.39.9.59 1.41.59.51 0 1.02-.2 1.41-.59l7.78-7.78 2.81-2.81c.8-.78.8-2.07 0-2.86zM5.41 20L4 18.59l7.72-7.72 1.47 1.35L5.41 20z\"/>\n",
              "  </svg>\n",
              "      </button>\n",
              "      \n",
              "  <style>\n",
              "    .colab-df-container {\n",
              "      display:flex;\n",
              "      flex-wrap:wrap;\n",
              "      gap: 12px;\n",
              "    }\n",
              "\n",
              "    .colab-df-convert {\n",
              "      background-color: #E8F0FE;\n",
              "      border: none;\n",
              "      border-radius: 50%;\n",
              "      cursor: pointer;\n",
              "      display: none;\n",
              "      fill: #1967D2;\n",
              "      height: 32px;\n",
              "      padding: 0 0 0 0;\n",
              "      width: 32px;\n",
              "    }\n",
              "\n",
              "    .colab-df-convert:hover {\n",
              "      background-color: #E2EBFA;\n",
              "      box-shadow: 0px 1px 2px rgba(60, 64, 67, 0.3), 0px 1px 3px 1px rgba(60, 64, 67, 0.15);\n",
              "      fill: #174EA6;\n",
              "    }\n",
              "\n",
              "    [theme=dark] .colab-df-convert {\n",
              "      background-color: #3B4455;\n",
              "      fill: #D2E3FC;\n",
              "    }\n",
              "\n",
              "    [theme=dark] .colab-df-convert:hover {\n",
              "      background-color: #434B5C;\n",
              "      box-shadow: 0px 1px 3px 1px rgba(0, 0, 0, 0.15);\n",
              "      filter: drop-shadow(0px 1px 2px rgba(0, 0, 0, 0.3));\n",
              "      fill: #FFFFFF;\n",
              "    }\n",
              "  </style>\n",
              "\n",
              "      <script>\n",
              "        const buttonEl =\n",
              "          document.querySelector('#df-6de0372f-18cc-4e71-b1c1-35b9a3f7a192 button.colab-df-convert');\n",
              "        buttonEl.style.display =\n",
              "          google.colab.kernel.accessAllowed ? 'block' : 'none';\n",
              "\n",
              "        async function convertToInteractive(key) {\n",
              "          const element = document.querySelector('#df-6de0372f-18cc-4e71-b1c1-35b9a3f7a192');\n",
              "          const dataTable =\n",
              "            await google.colab.kernel.invokeFunction('convertToInteractive',\n",
              "                                                     [key], {});\n",
              "          if (!dataTable) return;\n",
              "\n",
              "          const docLinkHtml = 'Like what you see? Visit the ' +\n",
              "            '<a target=\"_blank\" href=https://colab.research.google.com/notebooks/data_table.ipynb>data table notebook</a>'\n",
              "            + ' to learn more about interactive tables.';\n",
              "          element.innerHTML = '';\n",
              "          dataTable['output_type'] = 'display_data';\n",
              "          await google.colab.output.renderOutput(dataTable, element);\n",
              "          const docLink = document.createElement('div');\n",
              "          docLink.innerHTML = docLinkHtml;\n",
              "          element.appendChild(docLink);\n",
              "        }\n",
              "      </script>\n",
              "    </div>\n",
              "  </div>\n",
              "  "
            ]
          },
          "metadata": {},
          "execution_count": 9
        }
      ]
    },
    {
      "cell_type": "code",
      "source": [
        "stemvaluesList = tweet_df['Stemming'].values.tolist()"
      ],
      "metadata": {
        "id": "r5sj8pVJqcof"
      },
      "execution_count": 10,
      "outputs": []
    },
    {
      "cell_type": "code",
      "source": [
        "!pip uninstall numpy\n",
        "!pip install numpy\n"
      ],
      "metadata": {
        "colab": {
          "base_uri": "https://localhost:8080/"
        },
        "id": "UPq-afjXGeCI",
        "outputId": "fe91f105-bed8-405e-f297-799f51ed9cd2"
      },
      "execution_count": 41,
      "outputs": [
        {
          "output_type": "stream",
          "name": "stdout",
          "text": [
            "Found existing installation: numpy 1.24.3\n",
            "Uninstalling numpy-1.24.3:\n",
            "  Would remove:\n",
            "    /usr/local/bin/f2py\n",
            "    /usr/local/bin/f2py3\n",
            "    /usr/local/bin/f2py3.9\n",
            "    /usr/local/lib/python3.9/dist-packages/numpy-1.24.3.dist-info/*\n",
            "    /usr/local/lib/python3.9/dist-packages/numpy.libs/libgfortran-040039e1.so.5.0.0\n",
            "    /usr/local/lib/python3.9/dist-packages/numpy.libs/libopenblas64_p-r0-15028c96.3.21.so\n",
            "    /usr/local/lib/python3.9/dist-packages/numpy.libs/libquadmath-96973f99.so.0.0.0\n",
            "    /usr/local/lib/python3.9/dist-packages/numpy/*\n",
            "Proceed (Y/n)? \u001b[31mERROR: Operation cancelled by user\u001b[0m\u001b[31m\n",
            "\u001b[0mLooking in indexes: https://pypi.org/simple, https://us-python.pkg.dev/colab-wheels/public/simple/\n",
            "Requirement already satisfied: numpy in /usr/local/lib/python3.9/dist-packages (1.24.3)\n",
            "\u001b[31mERROR: Operation cancelled by user\u001b[0m\u001b[31m\n",
            "\u001b[0m"
          ]
        }
      ]
    },
    {
      "cell_type": "code",
      "source": [
        "from gensim import corpora, models\n",
        "from pprint import pprint\n",
        "\n",
        "\n",
        "def Bigram():\n",
        "  bigram = models.Phrases(stemvaluesList, min_count=5, threshold=100)\n",
        "  bigram_mod = models.phrases.Phraser(bigram)\n",
        "  return bigram, bigram_mod\n",
        "\n",
        "def Trigram():\n",
        "  bigram = Bigram()[0]\n",
        "  trigram = models.Phrases(bigram[stemvaluesList], threshold=100)\n",
        "  trigram_mod = models.phrases.Phraser(trigram)\n",
        "  return trigram, trigram_mod\n",
        "\n",
        "def make_bigrams(texts, bigram_mod):\n",
        "    return [bigram_mod[doc] for doc in texts]\n",
        "\n",
        "def make_trigrams(texts, bigram_mod):\n",
        "  return [trigram_mod[bigram_mod[doc]] for doc in texts]\n",
        "\n",
        "def lemmatization(texts, allowed_postags=['NOUN', 'ADJ', 'VERB', 'ADV']):\n",
        "    texts_out = []\n",
        "    for sent in texts:\n",
        "        doc = nlp(\" \".join(sent)) \n",
        "        texts_out.append([token.lemma_ for token in doc if token.pos_ in allowed_postags])\n",
        "    return texts_out\n",
        "\n",
        "def MakeCorpus(data_lemmatized):\n",
        "  id2word = corpora.Dictionary(data_lemmatized)\n",
        "  texts = data_lemmatized\n",
        "  corpus = [id2word.doc2bow(text) for text in texts]\n",
        "  return corpus\n",
        "\n",
        "\n",
        "def docLda(corpus, LDA_Model):\n",
        "  return LDA_Model[corpus]"
      ],
      "metadata": {
        "id": "DShsdHUBGAxx"
      },
      "execution_count": 11,
      "outputs": []
    },
    {
      "cell_type": "code",
      "source": [
        "bigram = Bigram()\n",
        "Big_Mod = bigram[1]\n"
      ],
      "metadata": {
        "id": "MGMFKUVCMYCL"
      },
      "execution_count": 12,
      "outputs": []
    },
    {
      "cell_type": "code",
      "source": [
        "triGram = Trigram()\n",
        "trigram_mod = triGram[1]\n"
      ],
      "metadata": {
        "id": "JSQ0GdXzNI82"
      },
      "execution_count": 13,
      "outputs": []
    },
    {
      "cell_type": "code",
      "source": [
        "print(trigram_mod[bigram])"
      ],
      "metadata": {
        "colab": {
          "base_uri": "https://localhost:8080/"
        },
        "id": "AkrLMcMyNSaD",
        "outputId": "a1e0e91a-15b3-4155-dfd4-53cdf76d17f0"
      },
      "execution_count": 14,
      "outputs": [
        {
          "output_type": "stream",
          "name": "stdout",
          "text": [
            "<gensim.interfaces.TransformedCorpus object at 0x7f175dd6af50>\n"
          ]
        }
      ]
    },
    {
      "cell_type": "code",
      "source": [
        "import spacy\n",
        "\n",
        "data_words_bigrams = make_bigrams(stemvaluesList, Big_Mod)\n",
        "nlp = spacy.load('en_core_web_sm', disable=['parser', 'ner'])\n",
        "data_lemmatized = lemmatization(data_words_bigrams, allowed_postags=['NOUN', 'ADJ', 'VERB', 'ADV'])\n",
        "print(data_lemmatized[:1])"
      ],
      "metadata": {
        "colab": {
          "base_uri": "https://localhost:8080/"
        },
        "id": "Yym8gZUQNV4I",
        "outputId": "ccd192b9-9ed0-42a8-fee3-491eb7f6808f"
      },
      "execution_count": 15,
      "outputs": [
        {
          "output_type": "stream",
          "name": "stdout",
          "text": [
            "[['there', 'click', 'link', 'co', 'vzcnljcuen']]\n"
          ]
        }
      ]
    },
    {
      "cell_type": "code",
      "source": [
        "Corpus = MakeCorpus(data_lemmatized)\n",
        "print(Corpus[:1])"
      ],
      "metadata": {
        "colab": {
          "base_uri": "https://localhost:8080/"
        },
        "id": "SVHgvxjqNscr",
        "outputId": "8184f60b-5f3f-4764-cbe8-09b9ae0f248b"
      },
      "execution_count": 16,
      "outputs": [
        {
          "output_type": "stream",
          "name": "stdout",
          "text": [
            "[[(0, 1), (1, 1), (2, 1), (3, 1), (4, 1)]]\n"
          ]
        }
      ]
    },
    {
      "cell_type": "code",
      "source": [
        "id2word = corpora.Dictionary(data_lemmatized)\n",
        "print(id2word)"
      ],
      "metadata": {
        "colab": {
          "base_uri": "https://localhost:8080/"
        },
        "id": "L-f8X7ceNw2E",
        "outputId": "47f521f3-f656-4288-8edc-5af2a48fee41"
      },
      "execution_count": 17,
      "outputs": [
        {
          "output_type": "stream",
          "name": "stdout",
          "text": [
            "Dictionary<10386 unique tokens: ['click', 'co', 'link', 'there', 'vzcnljcuen']...>\n"
          ]
        }
      ]
    },
    {
      "cell_type": "code",
      "source": [
        "[[(id2word[id], freq) for id, freq in cp] for cp in Corpus[:1]]"
      ],
      "metadata": {
        "colab": {
          "base_uri": "https://localhost:8080/"
        },
        "id": "9wn1JWRzNzph",
        "outputId": "b48205c1-79ea-4e6a-aa4b-7c73f8e322a9"
      },
      "execution_count": 18,
      "outputs": [
        {
          "output_type": "execute_result",
          "data": {
            "text/plain": [
              "[[('click', 1), ('co', 1), ('link', 1), ('there', 1), ('vzcnljcuen', 1)]]"
            ]
          },
          "metadata": {},
          "execution_count": 18
        }
      ]
    },
    {
      "cell_type": "code",
      "source": [
        "LDA_Model = models.ldamodel.LdaModel(corpus=Corpus,\n",
        "                                           id2word=id2word,\n",
        "                                           num_topics = 20, \n",
        "                                           random_state=100,\n",
        "                                           update_every=1,\n",
        "                                           chunksize=100,\n",
        "                                           passes=10,\n",
        "                                           alpha='auto',\n",
        "                                           per_word_topics=True)"
      ],
      "metadata": {
        "id": "I3MzcyZ-N3pS"
      },
      "execution_count": 19,
      "outputs": []
    },
    {
      "cell_type": "code",
      "source": [
        "LDA_Model.print_topics()"
      ],
      "metadata": {
        "colab": {
          "base_uri": "https://localhost:8080/"
        },
        "id": "JGCQzmjSN-bK",
        "outputId": "6ae5747d-1673-47b9-c45b-3c52caaeda67"
      },
      "execution_count": 20,
      "outputs": [
        {
          "output_type": "execute_result",
          "data": {
            "text/plain": [
              "[(0,\n",
              "  '0.133*\"music\" + 0.111*\"read\" + 0.087*\"follow\" + 0.073*\"song\" + 0.056*\"spring\" + 0.037*\"home\" + 0.037*\"youtub\" + 0.029*\"avail\" + 0.022*\"meme\" + 0.009*\"mood\"'),\n",
              " (1,\n",
              "  '0.762*\"â\" + 0.048*\"day\" + 0.045*\"loveã\" + 0.011*\"travel\" + 0.010*\"celebr\" + 0.007*\"amour\" + 0.004*\"product\" + 0.003*\"express\" + 0.003*\"busi\" + 0.001*\"pray\"'),\n",
              " (2,\n",
              "  '0.227*\"heart\" + 0.122*\"know\" + 0.064*\"look\" + 0.021*\"info\" + 0.008*\"season\" + 0.001*\"non_voltiamoci\" + 0.001*\"chi_aiuta\" + 0.001*\"zampa_qua\" + 0.001*\"adotta\" + 0.000*\"shut\"'),\n",
              " (3,\n",
              "  '0.231*\"world\" + 0.054*\"man\" + 0.046*\"flower\" + 0.043*\"bring\" + 0.023*\"meet\" + 0.011*\"spend\" + 0.002*\"huge\" + 0.001*\"door\" + 0.000*\"onli\" + 0.000*\"heal\"'),\n",
              " (4,\n",
              "  '0.213*\"take\" + 0.066*\"use\" + 0.057*\"fun\" + 0.052*\"work\" + 0.046*\"r\" + 0.045*\"viral\" + 0.026*\"o\" + 0.004*\"chocol\" + 0.000*\"lovealert\" + 0.000*\"encourag\"'),\n",
              " (5,\n",
              "  '0.202*\"s\" + 0.136*\"job\" + 0.086*\"joy\" + 0.069*\"there\" + 0.020*\"here\" + 0.014*\"link\" + 0.013*\"click\" + 0.001*\"virginia_ash\" + 0.001*\"true_say\" + 0.001*\"ash\"'),\n",
              " (6,\n",
              "  '0.103*\"believ\" + 0.068*\"kiss\" + 0.066*\"say\" + 0.063*\"take_care\" + 0.059*\"can_heal\" + 0.059*\"on_scratch\" + 0.030*\"sun\" + 0.029*\"someth\" + 0.026*\"cat\" + 0.021*\"name\"'),\n",
              " (7,\n",
              "  '0.074*\"share\" + 0.062*\"amp\" + 0.055*\"stori\" + 0.053*\"end\" + 0.048*\"thank\" + 0.041*\"dog\" + 0.038*\"relax\" + 0.037*\"anim\" + 0.036*\"amp_mysteri\" + 0.035*\"plot_twist\"'),\n",
              " (8,\n",
              "  '0.149*\"new\" + 0.115*\"today\" + 0.086*\"book\" + 0.080*\"famili\" + 0.059*\"see\" + 0.050*\"listen\" + 0.030*\"bibl\" + 0.023*\"small\" + 0.012*\"writer\" + 0.006*\"out\"'),\n",
              " (9,\n",
              "  '0.159*\"give\" + 0.109*\"fashion\" + 0.081*\"peopl\" + 0.060*\"never\" + 0.055*\"jesu\" + 0.050*\"hope\" + 0.048*\"merci\" + 0.039*\"motiv\" + 0.013*\"artist\" + 0.008*\"yã\"'),\n",
              " (10,\n",
              "  '0.195*\"happi\" + 0.103*\"here\" + 0.089*\"great\" + 0.079*\"kind\" + 0.054*\"bless\" + 0.040*\"karijoy\" + 0.013*\"futur\" + 0.008*\"mentalhealth_mind\" + 0.000*\"ã\" + 0.000*\"woman\"'),\n",
              " (11,\n",
              "  '0.140*\"go\" + 0.136*\"make\" + 0.114*\"let\" + 0.089*\"more\" + 0.057*\"care\" + 0.054*\"light\" + 0.006*\"re\" + 0.000*\"vision\" + 0.000*\"come\" + 0.000*\"live\"'),\n",
              " (12,\n",
              "  '0.008*\"que\" + 0.000*\"pue\" + 0.000*\"late\" + 0.000*\"plenitud\" + 0.000*\"regã\" + 0.000*\"sea\" + 0.000*\"una\" + 0.000*\"finanza\" + 0.000*\"presiã\" + 0.000*\"como\"'),\n",
              " (13,\n",
              "  '0.130*\"need\" + 0.102*\"å\" + 0.089*\"so\" + 0.087*\"feel\" + 0.036*\"watch\" + 0.035*\"attent\" + 0.013*\"trauma\" + 0.013*\"we_snuggl\" + 0.013*\"circu_tent\" + 0.013*\"clasã\"'),\n",
              " (14,\n",
              "  '0.082*\"amp_jinxi\" + 0.082*\"between_mystic\" + 0.082*\"heat_up\" + 0.082*\"straysofourl\" + 0.082*\"rappcatsadopt\" + 0.051*\"s\" + 0.046*\"adoptdontshop\" + 0.011*\"team\" + 0.006*\"anoth\" + 0.005*\"dress\"'),\n",
              " (15,\n",
              "  '0.340*\"thi\" + 0.202*\"now\" + 0.008*\"episod\" + 0.003*\"final\" + 0.000*\"version\" + 0.000*\"support\" + 0.000*\"heal\" + 0.000*\"wound\" + 0.000*\"wave\" + 0.000*\"dementia\"'),\n",
              " (16,\n",
              "  '0.180*\"http\" + 0.123*\"life\" + 0.107*\"friend\" + 0.071*\"good\" + 0.069*\"part\" + 0.062*\"m\" + 0.054*\"å¾\" + 0.041*\"everyon\" + 0.027*\"greatest_refresh\" + 0.026*\"keep\"'),\n",
              " (17,\n",
              "  '0.231*\"peac\" + 0.142*\"art\" + 0.088*\"alway\" + 0.040*\"gift\" + 0.027*\"perfect\" + 0.025*\"creat\" + 0.010*\"differ\" + 0.006*\"hit\" + 0.000*\"hype\" + 0.000*\"way\"'),\n",
              " (18,\n",
              "  '0.552*\"co\" + 0.394*\"love\" + 0.002*\"cover\" + 0.001*\"own\" + 0.000*\"cannot_save\" + 0.000*\"ã\" + 0.000*\"â¾ã\" + 0.000*\"âºã\" + 0.000*\"way\" + 0.000*\"âªã\"'),\n",
              " (19,\n",
              "  '0.216*\"want\" + 0.000*\"bijan_cyru\" + 0.000*\"lovetrainfrmiroan_rtitbot\" + 0.000*\"iva_toc\" + 0.000*\"piec\" + 0.000*\"intellig\" + 0.000*\"skin\" + 0.000*\"sexi\" + 0.000*\"help\" + 0.000*\"power\"')]"
            ]
          },
          "metadata": {},
          "execution_count": 20
        }
      ]
    },
    {
      "cell_type": "code",
      "source": [
        "docLda = docLda(Corpus, LDA_Model)\n",
        "docLda"
      ],
      "metadata": {
        "colab": {
          "base_uri": "https://localhost:8080/"
        },
        "id": "3chSRuNxOJ_W",
        "outputId": "b83c1f55-ceac-432f-ad67-6764528175cf"
      },
      "execution_count": 21,
      "outputs": [
        {
          "output_type": "execute_result",
          "data": {
            "text/plain": [
              "<gensim.interfaces.TransformedCorpus at 0x7f16670b1f60>"
            ]
          },
          "metadata": {},
          "execution_count": 21
        }
      ]
    },
    {
      "cell_type": "code",
      "source": [
        "from gensim.models import CoherenceModel\n",
        "print('\\nPerplexity: ', LDA_Model.log_perplexity(Corpus))\n",
        "coherence_model_lda = CoherenceModel(model=LDA_Model, \n",
        "                                     texts=data_lemmatized, \n",
        "                                     dictionary=id2word,\n",
        "                                     coherence='c_v')\n",
        "coherence_lda = coherence_model_lda.get_coherence()\n",
        "print('\\nCoherence Score: ', coherence_lda)"
      ],
      "metadata": {
        "colab": {
          "base_uri": "https://localhost:8080/"
        },
        "id": "DMrmrX0lOPhY",
        "outputId": "47aa9b8c-e983-497f-fdba-811885010847"
      },
      "execution_count": 22,
      "outputs": [
        {
          "output_type": "stream",
          "name": "stdout",
          "text": [
            "\n",
            "Perplexity:  -19.252141457652876\n",
            "\n",
            "Coherence Score:  0.41282119015794105\n"
          ]
        }
      ]
    },
    {
      "cell_type": "code",
      "source": [
        "lsamodel = models.LsiModel(Corpus,\n",
        "                           num_topics = 20, \n",
        "                           id2word = id2word)"
      ],
      "metadata": {
        "id": "VxzqjQa6OTVj"
      },
      "execution_count": 23,
      "outputs": []
    },
    {
      "cell_type": "code",
      "source": [
        "pprint(lsamodel.print_topics(num_topics = 20))"
      ],
      "metadata": {
        "colab": {
          "base_uri": "https://localhost:8080/"
        },
        "id": "jGuN9kdtOXa_",
        "outputId": "95ee3daf-7bf9-43fd-fb52-b450ffec6817"
      },
      "execution_count": 24,
      "outputs": [
        {
          "output_type": "stream",
          "name": "stdout",
          "text": [
            "[(0,\n",
            "  '0.707*\"co\" + 0.558*\"love\" + 0.359*\"â\" + 0.113*\"ã\" + 0.109*\"â¾ã\" + '\n",
            "  '0.052*\"http\" + 0.052*\"âªã\" + 0.052*\"thi\" + 0.045*\"life\" + 0.040*\"s\"'),\n",
            " (1,\n",
            "  '-0.813*\"â\" + 0.380*\"co\" + -0.292*\"â¾ã\" + -0.246*\"ã\" + 0.151*\"love\" + '\n",
            "  '-0.116*\"âªã\" + -0.040*\"âºã\" + -0.030*\"ë\" + -0.029*\"â¹â\" + -0.028*\"å½ã\"'),\n",
            " (2,\n",
            "  '-0.787*\"love\" + 0.581*\"co\" + 0.098*\"â¾ã\" + 0.064*\"â\" + 0.058*\"ã\" + '\n",
            "  '-0.050*\"s\" + -0.042*\"thi\" + -0.036*\"å¾\" + -0.036*\"friend\" + -0.035*\"just\"'),\n",
            " (3,\n",
            "  '-0.866*\"â¾ã\" + 0.377*\"â\" + -0.234*\"âªã\" + -0.133*\"ã\" + -0.082*\"love\" + '\n",
            "  '0.063*\"s\" + 0.039*\"thi\" + -0.038*\"âºã\" + 0.034*\"ysã\" + 0.033*\"å½_leeminho\"'),\n",
            " (4,\n",
            "  '-0.711*\"s\" + -0.350*\"thi\" + -0.212*\"see\" + -0.198*\"come\" + -0.192*\"mean\" + '\n",
            "  '-0.172*\"rappcatsadopt\" + 0.169*\"ã\" + -0.149*\"way\" + -0.148*\"â¾ã\" + '\n",
            "  '-0.130*\"here\"'),\n",
            " (5,\n",
            "  '-0.797*\"ã\" + -0.385*\"âªã\" + 0.300*\"â¾ã\" + 0.200*\"â\" + -0.173*\"s\" + '\n",
            "  '-0.077*\"â¹â\" + -0.058*\"thi\" + -0.048*\"å¾ã\" + -0.044*\"see\" + -0.040*\"come\"'),\n",
            " (6,\n",
            "  '0.530*\"thi\" + -0.368*\"new\" + -0.342*\"rappcatsadopt\" + -0.237*\"s\" + '\n",
            "  '-0.204*\"cat\" + -0.194*\"mom\" + 0.191*\"see\" + -0.180*\"gave_hi\" + '\n",
            "  '-0.180*\"she_came\" + -0.180*\"concatul_new\"'),\n",
            " (7,\n",
            "  '-0.506*\"new\" + -0.422*\"thi\" + 0.343*\"s\" + -0.262*\"cat\" + -0.247*\"mom\" + '\n",
            "  '-0.230*\"gave_hi\" + -0.229*\"concatul_new\" + -0.229*\"she_came\" + '\n",
            "  '-0.112*\"rappcatsadopt\" + 0.111*\"here\"'),\n",
            " (8,\n",
            "  '0.454*\"friend\" + -0.424*\"just\" + 0.260*\"http\" + -0.255*\"commun\" + '\n",
            "  '-0.246*\"win_100\" + -0.246*\"express_giveaway\" + -0.246*\"chsb_draw\" + '\n",
            "  '-0.246*\"º_heroscor\" + 0.220*\"life\" + 0.162*\"make\"'),\n",
            " (9,\n",
            "  '-0.960*\"â¹â\" + 0.151*\"ã\" + -0.110*\"âªã\" + -0.094*\"just\" + -0.055*\"commun\" + '\n",
            "  '-0.053*\"win_100\" + -0.053*\"express_giveaway\" + -0.053*\"chsb_draw\" + '\n",
            "  '-0.053*\"º_heroscor\" + -0.049*\"âµ\"'),\n",
            " (10,\n",
            "  '-0.449*\"friend\" + -0.390*\"just\" + -0.223*\"life\" + -0.216*\"commun\" + '\n",
            "  '-0.206*\"win_100\" + -0.206*\"º_heroscor\" + -0.206*\"express_giveaway\" + '\n",
            "  '-0.206*\"chsb_draw\" + -0.189*\"http\" + -0.189*\"make\"'),\n",
            " (11,\n",
            "  '-0.385*\"amp\" + -0.358*\"stori\" + -0.316*\"end\" + -0.304*\"relax\" + '\n",
            "  '-0.296*\"amp_mysteri\" + -0.295*\"ncsamuelson_spring\" + -0.295*\"plot_twist\" + '\n",
            "  '-0.295*\"amaz_charact\" + -0.247*\"friend\" + -0.124*\"just\"'),\n",
            " (12,\n",
            "  '0.779*\"life\" + -0.241*\"friend\" + 0.176*\"day\" + 0.148*\"more\" + '\n",
            "  '-0.106*\"light\" + 0.104*\"live\" + 0.102*\"today\" + 0.097*\"get\" + -0.088*\"sun\" '\n",
            "  '+ -0.088*\"soul_blossom\"'),\n",
            " (13,\n",
            "  '0.446*\"http\" + -0.337*\"day\" + 0.282*\"life\" + -0.239*\"here\" + -0.234*\"great\" '\n",
            "  '+ -0.201*\"make\" + -0.157*\"friend\" + -0.131*\"art\" + -0.129*\"cute\" + '\n",
            "  '0.124*\"bk6aeb5icf\"'),\n",
            " (14,\n",
            "  '0.423*\"thi\" + 0.345*\"here\" + 0.327*\"http\" + -0.301*\"good\" + -0.238*\"see\" + '\n",
            "  '-0.217*\"come\" + -0.210*\"way\" + 0.172*\"great\" + -0.148*\"day\" + '\n",
            "  '0.137*\"they_re\"'),\n",
            " (15,\n",
            "  '0.327*\"http\" + 0.277*\"great\" + 0.250*\"here\" + -0.230*\"thi\" + 0.222*\"come\" + '\n",
            "  '0.210*\"see\" + 0.188*\"way\" + 0.167*\"day\" + -0.165*\"heat_up\" + '\n",
            "  '-0.165*\"straysofourl\"'),\n",
            " (16,\n",
            "  '0.341*\"http\" + 0.323*\"new\" + 0.305*\"more\" + -0.263*\"life\" + -0.234*\"dog\" + '\n",
            "  '-0.203*\"rappcatsadopt\" + 0.192*\"world\" + 0.169*\"today\" + 0.166*\"read\" + '\n",
            "  '-0.149*\"cat\"'),\n",
            " (17,\n",
            "  '0.518*\"day\" + 0.283*\"cute\" + 0.268*\"dog\" + -0.259*\"here\" + -0.227*\"good\" + '\n",
            "  '0.222*\"art\" + 0.161*\"http\" + -0.160*\"more\" + 0.141*\"today\" + -0.122*\"know\"'),\n",
            " (18,\n",
            "  '-0.513*\"good\" + -0.372*\"day\" + 0.313*\"dog\" + -0.210*\"http\" + '\n",
            "  '-0.153*\"between_mystic\" + -0.153*\"amp_jinxi\" + -0.153*\"heat_up\" + '\n",
            "  '-0.153*\"straysofourl\" + -0.152*\"rappcatsadopt\" + -0.131*\"adoptdontshop\"'),\n",
            " (19,\n",
            "  '0.452*\"dog\" + -0.313*\"day\" + 0.279*\"good\" + -0.264*\"sunset\" + -0.251*\"mine\" '\n",
            "  '+ -0.249*\"priscilla_local\" + -0.249*\"silverton_hotel\" + '\n",
            "  '-0.191*\"photographi\" + 0.165*\"cute\" + -0.129*\"life\"')]\n"
          ]
        }
      ]
    },
    {
      "cell_type": "code",
      "source": [
        "coherence_values = []\n",
        "model_list = []\n",
        "for num_topics in range(2, 12, 1):\n",
        "  model = models.LsiModel(Corpus,\n",
        "                          num_topics = 20,\n",
        "                          id2word = id2word)\n",
        "  model_list.append(model)\n",
        "  coherencemodel = CoherenceModel(model= model, texts = tweet_df['Stemming'],\n",
        "                                  dictionary = id2word,\n",
        "                                  coherence='c_v')\n",
        "  coherence_values.append(coherencemodel.get_coherence())"
      ],
      "metadata": {
        "colab": {
          "base_uri": "https://localhost:8080/"
        },
        "id": "lHEnKNobObaz",
        "outputId": "68a6fd6d-af2e-49fc-9ff9-56682b8551c2"
      },
      "execution_count": 26,
      "outputs": [
        {
          "output_type": "stream",
          "name": "stderr",
          "text": [
            "/usr/local/lib/python3.10/dist-packages/gensim/topic_coherence/direct_confirmation_measure.py:204: RuntimeWarning: divide by zero encountered in double_scalars\n",
            "  m_lr_i = np.log(numerator / denominator)\n",
            "/usr/local/lib/python3.10/dist-packages/gensim/topic_coherence/indirect_confirmation_measure.py:323: RuntimeWarning: invalid value encountered in double_scalars\n",
            "  return cv1.T.dot(cv2)[0, 0] / (_magnitude(cv1) * _magnitude(cv2))\n"
          ]
        }
      ]
    },
    {
      "cell_type": "code",
      "source": [
        "!pip install biterm"
      ],
      "metadata": {
        "colab": {
          "base_uri": "https://localhost:8080/"
        },
        "id": "70sDxi0ROl13",
        "outputId": "312a358b-a395-4277-848a-c2b5d58a2327"
      },
      "execution_count": 27,
      "outputs": [
        {
          "output_type": "stream",
          "name": "stdout",
          "text": [
            "Looking in indexes: https://pypi.org/simple, https://us-python.pkg.dev/colab-wheels/public/simple/\n",
            "Collecting biterm\n",
            "  Downloading biterm-0.1.5.tar.gz (79 kB)\n",
            "\u001b[2K     \u001b[90m━━━━━━━━━━━━━━━━━━━━━━━━━━━━━━━━━━━━━━━━\u001b[0m \u001b[32m79.7/79.7 kB\u001b[0m \u001b[31m3.1 MB/s\u001b[0m eta \u001b[36m0:00:00\u001b[0m\n",
            "\u001b[?25h  Preparing metadata (setup.py) ... \u001b[?25l\u001b[?25hdone\n",
            "Requirement already satisfied: numpy in /usr/local/lib/python3.10/dist-packages (from biterm) (1.24.3)\n",
            "Requirement already satisfied: tqdm in /usr/local/lib/python3.10/dist-packages (from biterm) (4.65.0)\n",
            "Requirement already satisfied: cython in /usr/local/lib/python3.10/dist-packages (from biterm) (0.29.34)\n",
            "Requirement already satisfied: nltk in /usr/local/lib/python3.10/dist-packages (from biterm) (3.8.1)\n",
            "Requirement already satisfied: regex>=2021.8.3 in /usr/local/lib/python3.10/dist-packages (from nltk->biterm) (2022.10.31)\n",
            "Requirement already satisfied: click in /usr/local/lib/python3.10/dist-packages (from nltk->biterm) (8.1.3)\n",
            "Requirement already satisfied: joblib in /usr/local/lib/python3.10/dist-packages (from nltk->biterm) (1.2.0)\n",
            "Building wheels for collected packages: biterm\n",
            "  Building wheel for biterm (setup.py) ... \u001b[?25l\u001b[?25hdone\n",
            "  Created wheel for biterm: filename=biterm-0.1.5-cp310-cp310-linux_x86_64.whl size=271857 sha256=5a2732f32f33b41d107f7272dece252bd89d2b825c19109455b8e8c749c6efb5\n",
            "  Stored in directory: /root/.cache/pip/wheels/d9/6e/b8/b89e5a843baa692331b6c3db8d5f5ea43607ccad34426eebb4\n",
            "Successfully built biterm\n",
            "Installing collected packages: biterm\n",
            "Successfully installed biterm-0.1.5\n"
          ]
        }
      ]
    },
    {
      "cell_type": "code",
      "source": [
        "import numpy as np\n",
        "from sklearn.feature_extraction.text import TfidfVectorizer\n",
        "from biterm.btm import oBTM\n",
        "from biterm.utility import vec_to_biterms, topic_summuary\n",
        "biterm = tweet_df['text'].head(100).values\n",
        "vector = TfidfVectorizer(stop_words='english')\n",
        "X_tfidf =vector.fit_transform(biterm).toarray()\n",
        "\n",
        "\n",
        "text = np.array(vector.get_feature_names_out())\n",
        "words = vec_to_biterms(X_tfidf)\n",
        "\n",
        "model = oBTM(num_topics=10, V=text)\n",
        "model_lda= model.fit_transform(words, iterations=10)\n",
        "\n",
        "\n",
        "topic_summuary(model.phi_wz.T, X_tfidf, text, 10)"
      ],
      "metadata": {
        "colab": {
          "base_uri": "https://localhost:8080/"
        },
        "id": "zj-IGq_MOnBg",
        "outputId": "f047a783-fecd-4c4f-b41d-2ae0838760c8"
      },
      "execution_count": 29,
      "outputs": [
        {
          "output_type": "stream",
          "name": "stderr",
          "text": [
            "100%|██████████| 10/10 [00:21<00:00,  2.18s/it]"
          ]
        },
        {
          "output_type": "stream",
          "name": "stdout",
          "text": [
            "Topic 0 | Coherence=-48.20 | Top words= rt https å½â tambã pra oi pouco famã da na\n",
            "Topic 1 | Coherence=-51.20 | Top words= rt love info voltiamoci non condivido dall chi altra ricevo\n",
            "Topic 2 | Coherence=-75.68 | Top words= rt love https art ilcielostanotte canzone amore questa vostro antonella\n",
            "Topic 3 | Coherence=-77.06 | Top words= rt new https adoptdontshop love amp rappcatsadopt family cats concatulations\n",
            "Topic 4 | Coherence=-34.45 | Top words= https rt event w0marxr6bf eboneyre eastersaturday flyer available xwryteyoyo partyã\n",
            "Topic 5 | Coherence=-55.10 | Top words= rt love https light friends love_nidan soul sun shining blossom\n",
            "Topic 6 | Coherence=-72.73 | Top words= https love art rt olvide w3wjxssppf digitalartã foto lã agregar\n",
            "Topic 7 | Coherence=-79.32 | Top words= love https rt joy kindness god pray jesuschrist explorepage youtube\n",
            "Topic 8 | Coherence=-71.31 | Top words= rt love https dogs adoptdontshop kindness straydogsmatter adopt puppies straydogrock\n",
            "Topic 9 | Coherence=-15.59 | Top words= rt florale amour 99216512 lã petale_le 228 motions une love\n"
          ]
        },
        {
          "output_type": "stream",
          "name": "stderr",
          "text": [
            "\n"
          ]
        },
        {
          "output_type": "execute_result",
          "data": {
            "text/plain": [
              "{'coherence': [-48.19817528024829,\n",
              "  -51.204275549151966,\n",
              "  -75.68063286510046,\n",
              "  -77.06006638734166,\n",
              "  -34.45030765686536,\n",
              "  -55.10032401975711,\n",
              "  -72.73303251809475,\n",
              "  -79.31547005814568,\n",
              "  -71.3145831849497,\n",
              "  -15.587432115722827],\n",
              " 'top_words': [array(['rt', 'https', 'å½â', 'tambã', 'pra', 'oi', 'pouco', 'famã', 'da',\n",
              "         'na'], dtype=object),\n",
              "  array(['rt', 'love', 'info', 'voltiamoci', 'non', 'condivido', 'dall',\n",
              "         'chi', 'altra', 'ricevo'], dtype=object),\n",
              "  array(['rt', 'love', 'https', 'art', 'ilcielostanotte', 'canzone',\n",
              "         'amore', 'questa', 'vostro', 'antonella'], dtype=object),\n",
              "  array(['rt', 'new', 'https', 'adoptdontshop', 'love', 'amp',\n",
              "         'rappcatsadopt', 'family', 'cats', 'concatulations'], dtype=object),\n",
              "  array(['https', 'rt', 'event', 'w0marxr6bf', 'eboneyre', 'eastersaturday',\n",
              "         'flyer', 'available', 'xwryteyoyo', 'partyã'], dtype=object),\n",
              "  array(['rt', 'love', 'https', 'light', 'friends', 'love_nidan', 'soul',\n",
              "         'sun', 'shining', 'blossom'], dtype=object),\n",
              "  array(['https', 'love', 'art', 'rt', 'olvide', 'w3wjxssppf',\n",
              "         'digitalartã', 'foto', 'lã', 'agregar'], dtype=object),\n",
              "  array(['love', 'https', 'rt', 'joy', 'kindness', 'god', 'pray',\n",
              "         'jesuschrist', 'explorepage', 'youtube'], dtype=object),\n",
              "  array(['rt', 'love', 'https', 'dogs', 'adoptdontshop', 'kindness',\n",
              "         'straydogsmatter', 'adopt', 'puppies', 'straydogrock'],\n",
              "        dtype=object),\n",
              "  array(['rt', 'florale', 'amour', '99216512', 'lã', 'petale_le', '228',\n",
              "         'motions', 'une', 'love'], dtype=object)]}"
            ]
          },
          "metadata": {},
          "execution_count": 29
        }
      ]
    },
    {
      "cell_type": "markdown",
      "metadata": {
        "id": "AfpMRCrRwN6Z"
      },
      "source": [
        "# **Question 2: Sentiment Analysis**"
      ]
    },
    {
      "cell_type": "markdown",
      "metadata": {
        "id": "1dCQEbDawWCw"
      },
      "source": [
        "(30 points). Sentiment analysis also known as opinion mining is a sub field within Natural Language Processing (NLP) that builds machine learning algorithms to classify a text according to the sentimental polarities of opinions it contains, e.g., positive, negative, neutral. The purpose of this question is to develop a machine learning classifier for sentiment analysis. Based on the dataset from assignment three, write a python program to implement a sentiment classifier and evaluate its performance. Notice: **80% data for training and 20% data for testing**.  \n",
        "\n",
        "(1) Features used for sentiment classification and explain why you select these features.\n",
        "\n",
        "(2) Select two of the supervised learning algorithm from scikit-learn library: https://scikit-learn.org/stable/supervised_learning.html#supervised-learning, to build a sentiment classifier respectively. Note: Cross-validation (5-fold or 10-fold) should be conducted. Here is the reference of cross-validation: https://scikit-learn.org/stable/modules/cross_validation.html.\n",
        "\n",
        "(3) Compare the performance over accuracy, precision, recall, and F1 score for the two algorithms you selected. Here is the reference of how to calculate these metrics: https://towardsdatascience.com/accuracy-precision-recall-or-f1-331fb37c5cb9. "
      ]
    },
    {
      "cell_type": "code",
      "execution_count": 32,
      "metadata": {
        "id": "vATjQNTY8buA",
        "colab": {
          "base_uri": "https://localhost:8080/",
          "height": 423
        },
        "outputId": "f60e6e3d-d145-48b2-fb68-bc8dab385bda"
      },
      "outputs": [
        {
          "output_type": "execute_result",
          "data": {
            "text/plain": [
              "             id                                               text   \n",
              "0      1.64E+18  Helloooooooooo!!! Anyone there, click in link ...  \\\n",
              "1      1.64E+18  Love is a beautiful dream. - William Sharp (di...   \n",
              "2      1.64E+18  RT @Sammyybee1: In her Uniqueness Ã°Å¸âÂ¸Ã¢Â...   \n",
              "3      1.64E+18  RT @EileanIdhe: A busy, but productive day! We...   \n",
              "4      1.64E+18  RT @petale_le: Le rouge comme lÃ¢â¬â¢express...   \n",
              "...         ...                                                ...   \n",
              "10002  1.64E+18  Hello there, friend Do no harm but take no shi...   \n",
              "10003  1.64E+18  RT @yalisonbp: part 1/2 #errorink #errink #err...   \n",
              "10004  1.64E+18  The way to inner peace is the way of love.\\n\\n...   \n",
              "10005  1.64E+18  Ã Â°âÃ Â°â¢ Ã Â°Â¸Ã Â±ÂÃ Â°Â¤Ã Â±ÂÃ Â°Â°Ã...   \n",
              "10006  1.64E+18  Ãâ ÃâÃÂÃÂ­ÃÂ»ÃÂ± ÃÂ³ÃÂµÃÂ½ÃÂ½Ã...   \n",
              "\n",
              "      sentimental analysis  \n",
              "0                        0  \n",
              "1                        1  \n",
              "2                        1  \n",
              "3                        1  \n",
              "4                        0  \n",
              "...                    ...  \n",
              "10002                  NaN  \n",
              "10003                  NaN  \n",
              "10004                  NaN  \n",
              "10005                  NaN  \n",
              "10006                  NaN  \n",
              "\n",
              "[10007 rows x 3 columns]"
            ],
            "text/html": [
              "\n",
              "  <div id=\"df-b4cc35fe-fd05-4f01-b4e7-861c862df553\">\n",
              "    <div class=\"colab-df-container\">\n",
              "      <div>\n",
              "<style scoped>\n",
              "    .dataframe tbody tr th:only-of-type {\n",
              "        vertical-align: middle;\n",
              "    }\n",
              "\n",
              "    .dataframe tbody tr th {\n",
              "        vertical-align: top;\n",
              "    }\n",
              "\n",
              "    .dataframe thead th {\n",
              "        text-align: right;\n",
              "    }\n",
              "</style>\n",
              "<table border=\"1\" class=\"dataframe\">\n",
              "  <thead>\n",
              "    <tr style=\"text-align: right;\">\n",
              "      <th></th>\n",
              "      <th>id</th>\n",
              "      <th>text</th>\n",
              "      <th>sentimental analysis</th>\n",
              "    </tr>\n",
              "  </thead>\n",
              "  <tbody>\n",
              "    <tr>\n",
              "      <th>0</th>\n",
              "      <td>1.64E+18</td>\n",
              "      <td>Helloooooooooo!!! Anyone there, click in link ...</td>\n",
              "      <td>0</td>\n",
              "    </tr>\n",
              "    <tr>\n",
              "      <th>1</th>\n",
              "      <td>1.64E+18</td>\n",
              "      <td>Love is a beautiful dream. - William Sharp (di...</td>\n",
              "      <td>1</td>\n",
              "    </tr>\n",
              "    <tr>\n",
              "      <th>2</th>\n",
              "      <td>1.64E+18</td>\n",
              "      <td>RT @Sammyybee1: In her Uniqueness Ã°Å¸âÂ¸Ã¢Â...</td>\n",
              "      <td>1</td>\n",
              "    </tr>\n",
              "    <tr>\n",
              "      <th>3</th>\n",
              "      <td>1.64E+18</td>\n",
              "      <td>RT @EileanIdhe: A busy, but productive day! We...</td>\n",
              "      <td>1</td>\n",
              "    </tr>\n",
              "    <tr>\n",
              "      <th>4</th>\n",
              "      <td>1.64E+18</td>\n",
              "      <td>RT @petale_le: Le rouge comme lÃ¢â¬â¢express...</td>\n",
              "      <td>0</td>\n",
              "    </tr>\n",
              "    <tr>\n",
              "      <th>...</th>\n",
              "      <td>...</td>\n",
              "      <td>...</td>\n",
              "      <td>...</td>\n",
              "    </tr>\n",
              "    <tr>\n",
              "      <th>10002</th>\n",
              "      <td>1.64E+18</td>\n",
              "      <td>Hello there, friend Do no harm but take no shi...</td>\n",
              "      <td>NaN</td>\n",
              "    </tr>\n",
              "    <tr>\n",
              "      <th>10003</th>\n",
              "      <td>1.64E+18</td>\n",
              "      <td>RT @yalisonbp: part 1/2 #errorink #errink #err...</td>\n",
              "      <td>NaN</td>\n",
              "    </tr>\n",
              "    <tr>\n",
              "      <th>10004</th>\n",
              "      <td>1.64E+18</td>\n",
              "      <td>The way to inner peace is the way of love.\\n\\n...</td>\n",
              "      <td>NaN</td>\n",
              "    </tr>\n",
              "    <tr>\n",
              "      <th>10005</th>\n",
              "      <td>1.64E+18</td>\n",
              "      <td>Ã Â°âÃ Â°â¢ Ã Â°Â¸Ã Â±ÂÃ Â°Â¤Ã Â±ÂÃ Â°Â°Ã...</td>\n",
              "      <td>NaN</td>\n",
              "    </tr>\n",
              "    <tr>\n",
              "      <th>10006</th>\n",
              "      <td>1.64E+18</td>\n",
              "      <td>Ãâ ÃâÃÂÃÂ­ÃÂ»ÃÂ± ÃÂ³ÃÂµÃÂ½ÃÂ½Ã...</td>\n",
              "      <td>NaN</td>\n",
              "    </tr>\n",
              "  </tbody>\n",
              "</table>\n",
              "<p>10007 rows × 3 columns</p>\n",
              "</div>\n",
              "      <button class=\"colab-df-convert\" onclick=\"convertToInteractive('df-b4cc35fe-fd05-4f01-b4e7-861c862df553')\"\n",
              "              title=\"Convert this dataframe to an interactive table.\"\n",
              "              style=\"display:none;\">\n",
              "        \n",
              "  <svg xmlns=\"http://www.w3.org/2000/svg\" height=\"24px\"viewBox=\"0 0 24 24\"\n",
              "       width=\"24px\">\n",
              "    <path d=\"M0 0h24v24H0V0z\" fill=\"none\"/>\n",
              "    <path d=\"M18.56 5.44l.94 2.06.94-2.06 2.06-.94-2.06-.94-.94-2.06-.94 2.06-2.06.94zm-11 1L8.5 8.5l.94-2.06 2.06-.94-2.06-.94L8.5 2.5l-.94 2.06-2.06.94zm10 10l.94 2.06.94-2.06 2.06-.94-2.06-.94-.94-2.06-.94 2.06-2.06.94z\"/><path d=\"M17.41 7.96l-1.37-1.37c-.4-.4-.92-.59-1.43-.59-.52 0-1.04.2-1.43.59L10.3 9.45l-7.72 7.72c-.78.78-.78 2.05 0 2.83L4 21.41c.39.39.9.59 1.41.59.51 0 1.02-.2 1.41-.59l7.78-7.78 2.81-2.81c.8-.78.8-2.07 0-2.86zM5.41 20L4 18.59l7.72-7.72 1.47 1.35L5.41 20z\"/>\n",
              "  </svg>\n",
              "      </button>\n",
              "      \n",
              "  <style>\n",
              "    .colab-df-container {\n",
              "      display:flex;\n",
              "      flex-wrap:wrap;\n",
              "      gap: 12px;\n",
              "    }\n",
              "\n",
              "    .colab-df-convert {\n",
              "      background-color: #E8F0FE;\n",
              "      border: none;\n",
              "      border-radius: 50%;\n",
              "      cursor: pointer;\n",
              "      display: none;\n",
              "      fill: #1967D2;\n",
              "      height: 32px;\n",
              "      padding: 0 0 0 0;\n",
              "      width: 32px;\n",
              "    }\n",
              "\n",
              "    .colab-df-convert:hover {\n",
              "      background-color: #E2EBFA;\n",
              "      box-shadow: 0px 1px 2px rgba(60, 64, 67, 0.3), 0px 1px 3px 1px rgba(60, 64, 67, 0.15);\n",
              "      fill: #174EA6;\n",
              "    }\n",
              "\n",
              "    [theme=dark] .colab-df-convert {\n",
              "      background-color: #3B4455;\n",
              "      fill: #D2E3FC;\n",
              "    }\n",
              "\n",
              "    [theme=dark] .colab-df-convert:hover {\n",
              "      background-color: #434B5C;\n",
              "      box-shadow: 0px 1px 3px 1px rgba(0, 0, 0, 0.15);\n",
              "      filter: drop-shadow(0px 1px 2px rgba(0, 0, 0, 0.3));\n",
              "      fill: #FFFFFF;\n",
              "    }\n",
              "  </style>\n",
              "\n",
              "      <script>\n",
              "        const buttonEl =\n",
              "          document.querySelector('#df-b4cc35fe-fd05-4f01-b4e7-861c862df553 button.colab-df-convert');\n",
              "        buttonEl.style.display =\n",
              "          google.colab.kernel.accessAllowed ? 'block' : 'none';\n",
              "\n",
              "        async function convertToInteractive(key) {\n",
              "          const element = document.querySelector('#df-b4cc35fe-fd05-4f01-b4e7-861c862df553');\n",
              "          const dataTable =\n",
              "            await google.colab.kernel.invokeFunction('convertToInteractive',\n",
              "                                                     [key], {});\n",
              "          if (!dataTable) return;\n",
              "\n",
              "          const docLinkHtml = 'Like what you see? Visit the ' +\n",
              "            '<a target=\"_blank\" href=https://colab.research.google.com/notebooks/data_table.ipynb>data table notebook</a>'\n",
              "            + ' to learn more about interactive tables.';\n",
              "          element.innerHTML = '';\n",
              "          dataTable['output_type'] = 'display_data';\n",
              "          await google.colab.output.renderOutput(dataTable, element);\n",
              "          const docLink = document.createElement('div');\n",
              "          docLink.innerHTML = docLinkHtml;\n",
              "          element.appendChild(docLink);\n",
              "        }\n",
              "      </script>\n",
              "    </div>\n",
              "  </div>\n",
              "  "
            ]
          },
          "metadata": {},
          "execution_count": 32
        }
      ],
      "source": [
        "# Write your code here\n",
        "from sklearn.model_selection import train_test_split\n",
        "from sklearn.svm import LinearSVC\n",
        "from sklearn.ensemble import RandomForestClassifier\n",
        "from sklearn.metrics import classification_report\n",
        "from sklearn.feature_extraction.text import TfidfVectorizer\n",
        "tweet_df = pd.read_csv('tweet_sentiment_analysis.csv',encoding='ISO-8859-1')\n",
        "tweet_df\n",
        "\n",
        "\n",
        "\n"
      ]
    },
    {
      "cell_type": "code",
      "source": [
        "tweet_df.dropna(subset=['text'], inplace=True)\n",
        "tfidf_vector = TfidfVectorizer()\n",
        "X_tfidf = tfidf_vector.fit_transform(tweet_df['text'])\n",
        "print(X_tfidf.shape)\n"
      ],
      "metadata": {
        "colab": {
          "base_uri": "https://localhost:8080/"
        },
        "id": "n0fw1dOWROQp",
        "outputId": "e000745b-79f7-4dab-fb01-2042281b2128"
      },
      "execution_count": 36,
      "outputs": [
        {
          "output_type": "stream",
          "name": "stdout",
          "text": [
            "(10000, 26850)\n"
          ]
        }
      ]
    },
    {
      "cell_type": "code",
      "source": [
        "from sklearn.naive_bayes import MultinomialNB\n",
        "from sklearn.svm import LinearSVC\n",
        "mnb = MultinomialNB()\n",
        "svm = LinearSVC()"
      ],
      "metadata": {
        "id": "Qp8TKzb4RklX"
      },
      "execution_count": 37,
      "outputs": []
    },
    {
      "cell_type": "code",
      "source": [
        "import pandas as pd\n",
        "\n",
        "# read the dataset into a pandas dataframe\n",
        "tweet_df = pd.read_csv('tweet_sentiment_analysis.csv',encoding='ISO-8859-1')\n",
        "\n",
        "# take only the first 200 rows\n",
        "tweet_df = tweet_df.head(200)\n",
        "\n",
        "# drop any rows with null values\n",
        "tweet_df.dropna(inplace=True)\n",
        "\n",
        "\n",
        "\n",
        "\n",
        "\n",
        "X_tfidf = tfidf_vector.fit_transform(tweet_df['text'])\n",
        "X_tfidf = np.nan_to_num(X_tfidf.toarray())\n",
        "X_tfidf[np.isnan(X_tfidf)] = 0\n",
        "x_train, x_test, y_train, y_test = train_test_split(X_tfidf,\n",
        "                                                    tweet_df['sentimental analysis'], \n",
        "                                                    test_size=0.2, \n",
        "                                                    random_state=42)\n",
        "model_mnb = mnb.fit(x_train,y_train)\n"
      ],
      "metadata": {
        "id": "IkD5m_dPRodn"
      },
      "execution_count": 50,
      "outputs": []
    },
    {
      "cell_type": "code",
      "source": [
        "from sklearn.metrics import classification_report\n",
        "from sklearn.metrics import accuracy_score\n",
        "y_pred_mnb = model_mnb.predict(x_test)\n",
        "print('Accuracy %s' % accuracy_score(y_pred_mnb,y_test))\n",
        "print(classification_report(y_test,y_pred_mnb))"
      ],
      "metadata": {
        "colab": {
          "base_uri": "https://localhost:8080/"
        },
        "id": "3jxA4MRdUDw7",
        "outputId": "b4e6f37d-9bfb-4ae7-ebf6-8439856ac840"
      },
      "execution_count": 51,
      "outputs": [
        {
          "output_type": "stream",
          "name": "stdout",
          "text": [
            "Accuracy 0.675\n",
            "              precision    recall  f1-score   support\n",
            "\n",
            "           0       0.00      0.00      0.00        13\n",
            "           1       0.68      1.00      0.81        27\n",
            "\n",
            "    accuracy                           0.68        40\n",
            "   macro avg       0.34      0.50      0.40        40\n",
            "weighted avg       0.46      0.68      0.54        40\n",
            "\n"
          ]
        },
        {
          "output_type": "stream",
          "name": "stderr",
          "text": [
            "/usr/local/lib/python3.10/dist-packages/sklearn/metrics/_classification.py:1344: UndefinedMetricWarning: Precision and F-score are ill-defined and being set to 0.0 in labels with no predicted samples. Use `zero_division` parameter to control this behavior.\n",
            "  _warn_prf(average, modifier, msg_start, len(result))\n",
            "/usr/local/lib/python3.10/dist-packages/sklearn/metrics/_classification.py:1344: UndefinedMetricWarning: Precision and F-score are ill-defined and being set to 0.0 in labels with no predicted samples. Use `zero_division` parameter to control this behavior.\n",
            "  _warn_prf(average, modifier, msg_start, len(result))\n",
            "/usr/local/lib/python3.10/dist-packages/sklearn/metrics/_classification.py:1344: UndefinedMetricWarning: Precision and F-score are ill-defined and being set to 0.0 in labels with no predicted samples. Use `zero_division` parameter to control this behavior.\n",
            "  _warn_prf(average, modifier, msg_start, len(result))\n"
          ]
        }
      ]
    },
    {
      "cell_type": "code",
      "source": [
        "from sklearn.model_selection import cross_val_score\n",
        "scores = cross_val_score(mnb, x_test, y_test, cv=7)\n",
        "print(\"using MNB\",scores.mean())"
      ],
      "metadata": {
        "colab": {
          "base_uri": "https://localhost:8080/"
        },
        "id": "h86V2ViyUGR-",
        "outputId": "b54a46d6-9aaf-43b5-a381-e07f3511243a"
      },
      "execution_count": 52,
      "outputs": [
        {
          "output_type": "stream",
          "name": "stdout",
          "text": [
            "using MNB 0.7\n"
          ]
        }
      ]
    },
    {
      "cell_type": "code",
      "source": [
        "model_svm = svm.fit(x_train,y_train)\n",
        "y_pred_svm = model_svm.predict(x_test)\n",
        "classification_report(y_test,y_pred_svm)"
      ],
      "metadata": {
        "colab": {
          "base_uri": "https://localhost:8080/",
          "height": 70
        },
        "id": "8dB6OP8EUJ4U",
        "outputId": "5d19a89b-20e8-42c4-8e3d-c22e3796bd2e"
      },
      "execution_count": 53,
      "outputs": [
        {
          "output_type": "execute_result",
          "data": {
            "text/plain": [
              "'              precision    recall  f1-score   support\\n\\n           0       1.00      0.08      0.14        13\\n           1       0.69      1.00      0.82        27\\n\\n    accuracy                           0.70        40\\n   macro avg       0.85      0.54      0.48        40\\nweighted avg       0.79      0.70      0.60        40\\n'"
            ],
            "application/vnd.google.colaboratory.intrinsic+json": {
              "type": "string"
            }
          },
          "metadata": {},
          "execution_count": 53
        }
      ]
    },
    {
      "cell_type": "code",
      "source": [
        "print('Accuracy %s' % accuracy_score(y_pred_svm,y_test))"
      ],
      "metadata": {
        "colab": {
          "base_uri": "https://localhost:8080/"
        },
        "id": "CMQ3rs8gUPht",
        "outputId": "9b4f3cd5-f26f-4ff6-952e-d5de00cc41a9"
      },
      "execution_count": 54,
      "outputs": [
        {
          "output_type": "stream",
          "name": "stdout",
          "text": [
            "Accuracy 0.7\n"
          ]
        }
      ]
    },
    {
      "cell_type": "code",
      "source": [
        "scores = cross_val_score(svm, x_test, y_test, cv=7)\n",
        "print(\"using svm\",scores.mean())"
      ],
      "metadata": {
        "colab": {
          "base_uri": "https://localhost:8080/"
        },
        "id": "6tyyJksWUSFv",
        "outputId": "332d024e-915c-4790-8289-738664ec9c3e"
      },
      "execution_count": 55,
      "outputs": [
        {
          "output_type": "stream",
          "name": "stdout",
          "text": [
            "using svm 0.7238095238095238\n"
          ]
        }
      ]
    },
    {
      "cell_type": "markdown",
      "metadata": {
        "id": "E5mmYIfN8eYV"
      },
      "source": [
        "# **Question 3: House price prediction**"
      ]
    },
    {
      "cell_type": "markdown",
      "metadata": {
        "id": "hsi2y4z88ngX"
      },
      "source": [
        "(40 points). You are required to build a **regression** model to predict the house price with 79 explanatory variables describing (almost) every aspect of residential homes. The purpose of this question is to practice regression analysis, an supervised learning model. The training data, testing data, and data description files can be download from canvas. Here is an axample for implementation: https://towardsdatascience.com/linear-regression-in-python-predict-the-bay-areas-home-price-5c91c8378878. \n"
      ]
    },
    {
      "cell_type": "code",
      "execution_count": 57,
      "metadata": {
        "id": "XfvMKJjIXS5G",
        "colab": {
          "base_uri": "https://localhost:8080/",
          "height": 487
        },
        "outputId": "a28d53ac-b9b6-4408-b1f6-b1f4d5b92e56"
      },
      "outputs": [
        {
          "output_type": "execute_result",
          "data": {
            "text/plain": [
              "        Id  MSSubClass MSZoning  LotFrontage  LotArea Street Alley LotShape   \n",
              "0        1          60       RL         65.0     8450   Pave   NaN      Reg  \\\n",
              "1        2          20       RL         80.0     9600   Pave   NaN      Reg   \n",
              "2        3          60       RL         68.0    11250   Pave   NaN      IR1   \n",
              "3        4          70       RL         60.0     9550   Pave   NaN      IR1   \n",
              "4        5          60       RL         84.0    14260   Pave   NaN      IR1   \n",
              "...    ...         ...      ...          ...      ...    ...   ...      ...   \n",
              "1455  1456          60       RL         62.0     7917   Pave   NaN      Reg   \n",
              "1456  1457          20       RL         85.0    13175   Pave   NaN      Reg   \n",
              "1457  1458          70       RL         66.0     9042   Pave   NaN      Reg   \n",
              "1458  1459          20       RL         68.0     9717   Pave   NaN      Reg   \n",
              "1459  1460          20       RL         75.0     9937   Pave   NaN      Reg   \n",
              "\n",
              "     LandContour Utilities  ... PoolArea PoolQC  Fence MiscFeature MiscVal   \n",
              "0            Lvl    AllPub  ...        0    NaN    NaN         NaN       0  \\\n",
              "1            Lvl    AllPub  ...        0    NaN    NaN         NaN       0   \n",
              "2            Lvl    AllPub  ...        0    NaN    NaN         NaN       0   \n",
              "3            Lvl    AllPub  ...        0    NaN    NaN         NaN       0   \n",
              "4            Lvl    AllPub  ...        0    NaN    NaN         NaN       0   \n",
              "...          ...       ...  ...      ...    ...    ...         ...     ...   \n",
              "1455         Lvl    AllPub  ...        0    NaN    NaN         NaN       0   \n",
              "1456         Lvl    AllPub  ...        0    NaN  MnPrv         NaN       0   \n",
              "1457         Lvl    AllPub  ...        0    NaN  GdPrv        Shed    2500   \n",
              "1458         Lvl    AllPub  ...        0    NaN    NaN         NaN       0   \n",
              "1459         Lvl    AllPub  ...        0    NaN    NaN         NaN       0   \n",
              "\n",
              "     MoSold YrSold  SaleType  SaleCondition  SalePrice  \n",
              "0         2   2008        WD         Normal     208500  \n",
              "1         5   2007        WD         Normal     181500  \n",
              "2         9   2008        WD         Normal     223500  \n",
              "3         2   2006        WD        Abnorml     140000  \n",
              "4        12   2008        WD         Normal     250000  \n",
              "...     ...    ...       ...            ...        ...  \n",
              "1455      8   2007        WD         Normal     175000  \n",
              "1456      2   2010        WD         Normal     210000  \n",
              "1457      5   2010        WD         Normal     266500  \n",
              "1458      4   2010        WD         Normal     142125  \n",
              "1459      6   2008        WD         Normal     147500  \n",
              "\n",
              "[1460 rows x 81 columns]"
            ],
            "text/html": [
              "\n",
              "  <div id=\"df-e8f4921a-ebf2-483f-8115-f468e478fbff\">\n",
              "    <div class=\"colab-df-container\">\n",
              "      <div>\n",
              "<style scoped>\n",
              "    .dataframe tbody tr th:only-of-type {\n",
              "        vertical-align: middle;\n",
              "    }\n",
              "\n",
              "    .dataframe tbody tr th {\n",
              "        vertical-align: top;\n",
              "    }\n",
              "\n",
              "    .dataframe thead th {\n",
              "        text-align: right;\n",
              "    }\n",
              "</style>\n",
              "<table border=\"1\" class=\"dataframe\">\n",
              "  <thead>\n",
              "    <tr style=\"text-align: right;\">\n",
              "      <th></th>\n",
              "      <th>Id</th>\n",
              "      <th>MSSubClass</th>\n",
              "      <th>MSZoning</th>\n",
              "      <th>LotFrontage</th>\n",
              "      <th>LotArea</th>\n",
              "      <th>Street</th>\n",
              "      <th>Alley</th>\n",
              "      <th>LotShape</th>\n",
              "      <th>LandContour</th>\n",
              "      <th>Utilities</th>\n",
              "      <th>...</th>\n",
              "      <th>PoolArea</th>\n",
              "      <th>PoolQC</th>\n",
              "      <th>Fence</th>\n",
              "      <th>MiscFeature</th>\n",
              "      <th>MiscVal</th>\n",
              "      <th>MoSold</th>\n",
              "      <th>YrSold</th>\n",
              "      <th>SaleType</th>\n",
              "      <th>SaleCondition</th>\n",
              "      <th>SalePrice</th>\n",
              "    </tr>\n",
              "  </thead>\n",
              "  <tbody>\n",
              "    <tr>\n",
              "      <th>0</th>\n",
              "      <td>1</td>\n",
              "      <td>60</td>\n",
              "      <td>RL</td>\n",
              "      <td>65.0</td>\n",
              "      <td>8450</td>\n",
              "      <td>Pave</td>\n",
              "      <td>NaN</td>\n",
              "      <td>Reg</td>\n",
              "      <td>Lvl</td>\n",
              "      <td>AllPub</td>\n",
              "      <td>...</td>\n",
              "      <td>0</td>\n",
              "      <td>NaN</td>\n",
              "      <td>NaN</td>\n",
              "      <td>NaN</td>\n",
              "      <td>0</td>\n",
              "      <td>2</td>\n",
              "      <td>2008</td>\n",
              "      <td>WD</td>\n",
              "      <td>Normal</td>\n",
              "      <td>208500</td>\n",
              "    </tr>\n",
              "    <tr>\n",
              "      <th>1</th>\n",
              "      <td>2</td>\n",
              "      <td>20</td>\n",
              "      <td>RL</td>\n",
              "      <td>80.0</td>\n",
              "      <td>9600</td>\n",
              "      <td>Pave</td>\n",
              "      <td>NaN</td>\n",
              "      <td>Reg</td>\n",
              "      <td>Lvl</td>\n",
              "      <td>AllPub</td>\n",
              "      <td>...</td>\n",
              "      <td>0</td>\n",
              "      <td>NaN</td>\n",
              "      <td>NaN</td>\n",
              "      <td>NaN</td>\n",
              "      <td>0</td>\n",
              "      <td>5</td>\n",
              "      <td>2007</td>\n",
              "      <td>WD</td>\n",
              "      <td>Normal</td>\n",
              "      <td>181500</td>\n",
              "    </tr>\n",
              "    <tr>\n",
              "      <th>2</th>\n",
              "      <td>3</td>\n",
              "      <td>60</td>\n",
              "      <td>RL</td>\n",
              "      <td>68.0</td>\n",
              "      <td>11250</td>\n",
              "      <td>Pave</td>\n",
              "      <td>NaN</td>\n",
              "      <td>IR1</td>\n",
              "      <td>Lvl</td>\n",
              "      <td>AllPub</td>\n",
              "      <td>...</td>\n",
              "      <td>0</td>\n",
              "      <td>NaN</td>\n",
              "      <td>NaN</td>\n",
              "      <td>NaN</td>\n",
              "      <td>0</td>\n",
              "      <td>9</td>\n",
              "      <td>2008</td>\n",
              "      <td>WD</td>\n",
              "      <td>Normal</td>\n",
              "      <td>223500</td>\n",
              "    </tr>\n",
              "    <tr>\n",
              "      <th>3</th>\n",
              "      <td>4</td>\n",
              "      <td>70</td>\n",
              "      <td>RL</td>\n",
              "      <td>60.0</td>\n",
              "      <td>9550</td>\n",
              "      <td>Pave</td>\n",
              "      <td>NaN</td>\n",
              "      <td>IR1</td>\n",
              "      <td>Lvl</td>\n",
              "      <td>AllPub</td>\n",
              "      <td>...</td>\n",
              "      <td>0</td>\n",
              "      <td>NaN</td>\n",
              "      <td>NaN</td>\n",
              "      <td>NaN</td>\n",
              "      <td>0</td>\n",
              "      <td>2</td>\n",
              "      <td>2006</td>\n",
              "      <td>WD</td>\n",
              "      <td>Abnorml</td>\n",
              "      <td>140000</td>\n",
              "    </tr>\n",
              "    <tr>\n",
              "      <th>4</th>\n",
              "      <td>5</td>\n",
              "      <td>60</td>\n",
              "      <td>RL</td>\n",
              "      <td>84.0</td>\n",
              "      <td>14260</td>\n",
              "      <td>Pave</td>\n",
              "      <td>NaN</td>\n",
              "      <td>IR1</td>\n",
              "      <td>Lvl</td>\n",
              "      <td>AllPub</td>\n",
              "      <td>...</td>\n",
              "      <td>0</td>\n",
              "      <td>NaN</td>\n",
              "      <td>NaN</td>\n",
              "      <td>NaN</td>\n",
              "      <td>0</td>\n",
              "      <td>12</td>\n",
              "      <td>2008</td>\n",
              "      <td>WD</td>\n",
              "      <td>Normal</td>\n",
              "      <td>250000</td>\n",
              "    </tr>\n",
              "    <tr>\n",
              "      <th>...</th>\n",
              "      <td>...</td>\n",
              "      <td>...</td>\n",
              "      <td>...</td>\n",
              "      <td>...</td>\n",
              "      <td>...</td>\n",
              "      <td>...</td>\n",
              "      <td>...</td>\n",
              "      <td>...</td>\n",
              "      <td>...</td>\n",
              "      <td>...</td>\n",
              "      <td>...</td>\n",
              "      <td>...</td>\n",
              "      <td>...</td>\n",
              "      <td>...</td>\n",
              "      <td>...</td>\n",
              "      <td>...</td>\n",
              "      <td>...</td>\n",
              "      <td>...</td>\n",
              "      <td>...</td>\n",
              "      <td>...</td>\n",
              "      <td>...</td>\n",
              "    </tr>\n",
              "    <tr>\n",
              "      <th>1455</th>\n",
              "      <td>1456</td>\n",
              "      <td>60</td>\n",
              "      <td>RL</td>\n",
              "      <td>62.0</td>\n",
              "      <td>7917</td>\n",
              "      <td>Pave</td>\n",
              "      <td>NaN</td>\n",
              "      <td>Reg</td>\n",
              "      <td>Lvl</td>\n",
              "      <td>AllPub</td>\n",
              "      <td>...</td>\n",
              "      <td>0</td>\n",
              "      <td>NaN</td>\n",
              "      <td>NaN</td>\n",
              "      <td>NaN</td>\n",
              "      <td>0</td>\n",
              "      <td>8</td>\n",
              "      <td>2007</td>\n",
              "      <td>WD</td>\n",
              "      <td>Normal</td>\n",
              "      <td>175000</td>\n",
              "    </tr>\n",
              "    <tr>\n",
              "      <th>1456</th>\n",
              "      <td>1457</td>\n",
              "      <td>20</td>\n",
              "      <td>RL</td>\n",
              "      <td>85.0</td>\n",
              "      <td>13175</td>\n",
              "      <td>Pave</td>\n",
              "      <td>NaN</td>\n",
              "      <td>Reg</td>\n",
              "      <td>Lvl</td>\n",
              "      <td>AllPub</td>\n",
              "      <td>...</td>\n",
              "      <td>0</td>\n",
              "      <td>NaN</td>\n",
              "      <td>MnPrv</td>\n",
              "      <td>NaN</td>\n",
              "      <td>0</td>\n",
              "      <td>2</td>\n",
              "      <td>2010</td>\n",
              "      <td>WD</td>\n",
              "      <td>Normal</td>\n",
              "      <td>210000</td>\n",
              "    </tr>\n",
              "    <tr>\n",
              "      <th>1457</th>\n",
              "      <td>1458</td>\n",
              "      <td>70</td>\n",
              "      <td>RL</td>\n",
              "      <td>66.0</td>\n",
              "      <td>9042</td>\n",
              "      <td>Pave</td>\n",
              "      <td>NaN</td>\n",
              "      <td>Reg</td>\n",
              "      <td>Lvl</td>\n",
              "      <td>AllPub</td>\n",
              "      <td>...</td>\n",
              "      <td>0</td>\n",
              "      <td>NaN</td>\n",
              "      <td>GdPrv</td>\n",
              "      <td>Shed</td>\n",
              "      <td>2500</td>\n",
              "      <td>5</td>\n",
              "      <td>2010</td>\n",
              "      <td>WD</td>\n",
              "      <td>Normal</td>\n",
              "      <td>266500</td>\n",
              "    </tr>\n",
              "    <tr>\n",
              "      <th>1458</th>\n",
              "      <td>1459</td>\n",
              "      <td>20</td>\n",
              "      <td>RL</td>\n",
              "      <td>68.0</td>\n",
              "      <td>9717</td>\n",
              "      <td>Pave</td>\n",
              "      <td>NaN</td>\n",
              "      <td>Reg</td>\n",
              "      <td>Lvl</td>\n",
              "      <td>AllPub</td>\n",
              "      <td>...</td>\n",
              "      <td>0</td>\n",
              "      <td>NaN</td>\n",
              "      <td>NaN</td>\n",
              "      <td>NaN</td>\n",
              "      <td>0</td>\n",
              "      <td>4</td>\n",
              "      <td>2010</td>\n",
              "      <td>WD</td>\n",
              "      <td>Normal</td>\n",
              "      <td>142125</td>\n",
              "    </tr>\n",
              "    <tr>\n",
              "      <th>1459</th>\n",
              "      <td>1460</td>\n",
              "      <td>20</td>\n",
              "      <td>RL</td>\n",
              "      <td>75.0</td>\n",
              "      <td>9937</td>\n",
              "      <td>Pave</td>\n",
              "      <td>NaN</td>\n",
              "      <td>Reg</td>\n",
              "      <td>Lvl</td>\n",
              "      <td>AllPub</td>\n",
              "      <td>...</td>\n",
              "      <td>0</td>\n",
              "      <td>NaN</td>\n",
              "      <td>NaN</td>\n",
              "      <td>NaN</td>\n",
              "      <td>0</td>\n",
              "      <td>6</td>\n",
              "      <td>2008</td>\n",
              "      <td>WD</td>\n",
              "      <td>Normal</td>\n",
              "      <td>147500</td>\n",
              "    </tr>\n",
              "  </tbody>\n",
              "</table>\n",
              "<p>1460 rows × 81 columns</p>\n",
              "</div>\n",
              "      <button class=\"colab-df-convert\" onclick=\"convertToInteractive('df-e8f4921a-ebf2-483f-8115-f468e478fbff')\"\n",
              "              title=\"Convert this dataframe to an interactive table.\"\n",
              "              style=\"display:none;\">\n",
              "        \n",
              "  <svg xmlns=\"http://www.w3.org/2000/svg\" height=\"24px\"viewBox=\"0 0 24 24\"\n",
              "       width=\"24px\">\n",
              "    <path d=\"M0 0h24v24H0V0z\" fill=\"none\"/>\n",
              "    <path d=\"M18.56 5.44l.94 2.06.94-2.06 2.06-.94-2.06-.94-.94-2.06-.94 2.06-2.06.94zm-11 1L8.5 8.5l.94-2.06 2.06-.94-2.06-.94L8.5 2.5l-.94 2.06-2.06.94zm10 10l.94 2.06.94-2.06 2.06-.94-2.06-.94-.94-2.06-.94 2.06-2.06.94z\"/><path d=\"M17.41 7.96l-1.37-1.37c-.4-.4-.92-.59-1.43-.59-.52 0-1.04.2-1.43.59L10.3 9.45l-7.72 7.72c-.78.78-.78 2.05 0 2.83L4 21.41c.39.39.9.59 1.41.59.51 0 1.02-.2 1.41-.59l7.78-7.78 2.81-2.81c.8-.78.8-2.07 0-2.86zM5.41 20L4 18.59l7.72-7.72 1.47 1.35L5.41 20z\"/>\n",
              "  </svg>\n",
              "      </button>\n",
              "      \n",
              "  <style>\n",
              "    .colab-df-container {\n",
              "      display:flex;\n",
              "      flex-wrap:wrap;\n",
              "      gap: 12px;\n",
              "    }\n",
              "\n",
              "    .colab-df-convert {\n",
              "      background-color: #E8F0FE;\n",
              "      border: none;\n",
              "      border-radius: 50%;\n",
              "      cursor: pointer;\n",
              "      display: none;\n",
              "      fill: #1967D2;\n",
              "      height: 32px;\n",
              "      padding: 0 0 0 0;\n",
              "      width: 32px;\n",
              "    }\n",
              "\n",
              "    .colab-df-convert:hover {\n",
              "      background-color: #E2EBFA;\n",
              "      box-shadow: 0px 1px 2px rgba(60, 64, 67, 0.3), 0px 1px 3px 1px rgba(60, 64, 67, 0.15);\n",
              "      fill: #174EA6;\n",
              "    }\n",
              "\n",
              "    [theme=dark] .colab-df-convert {\n",
              "      background-color: #3B4455;\n",
              "      fill: #D2E3FC;\n",
              "    }\n",
              "\n",
              "    [theme=dark] .colab-df-convert:hover {\n",
              "      background-color: #434B5C;\n",
              "      box-shadow: 0px 1px 3px 1px rgba(0, 0, 0, 0.15);\n",
              "      filter: drop-shadow(0px 1px 2px rgba(0, 0, 0, 0.3));\n",
              "      fill: #FFFFFF;\n",
              "    }\n",
              "  </style>\n",
              "\n",
              "      <script>\n",
              "        const buttonEl =\n",
              "          document.querySelector('#df-e8f4921a-ebf2-483f-8115-f468e478fbff button.colab-df-convert');\n",
              "        buttonEl.style.display =\n",
              "          google.colab.kernel.accessAllowed ? 'block' : 'none';\n",
              "\n",
              "        async function convertToInteractive(key) {\n",
              "          const element = document.querySelector('#df-e8f4921a-ebf2-483f-8115-f468e478fbff');\n",
              "          const dataTable =\n",
              "            await google.colab.kernel.invokeFunction('convertToInteractive',\n",
              "                                                     [key], {});\n",
              "          if (!dataTable) return;\n",
              "\n",
              "          const docLinkHtml = 'Like what you see? Visit the ' +\n",
              "            '<a target=\"_blank\" href=https://colab.research.google.com/notebooks/data_table.ipynb>data table notebook</a>'\n",
              "            + ' to learn more about interactive tables.';\n",
              "          element.innerHTML = '';\n",
              "          dataTable['output_type'] = 'display_data';\n",
              "          await google.colab.output.renderOutput(dataTable, element);\n",
              "          const docLink = document.createElement('div');\n",
              "          docLink.innerHTML = docLinkHtml;\n",
              "          element.appendChild(docLink);\n",
              "        }\n",
              "      </script>\n",
              "    </div>\n",
              "  </div>\n",
              "  "
            ]
          },
          "metadata": {},
          "execution_count": 57
        }
      ],
      "source": [
        "# Write your code here\n",
        "import pandas as pd\n",
        "\n",
        "\n",
        "def getDataframe(filepath):\n",
        "  return pd.read_csv(filepath)\n",
        "\n",
        "train_data = getDataframe('train.csv') \n",
        "train_data \n",
        "\n"
      ]
    },
    {
      "cell_type": "code",
      "source": [
        "test_data = getDataframe('test.csv') \n",
        "test_data"
      ],
      "metadata": {
        "colab": {
          "base_uri": "https://localhost:8080/",
          "height": 487
        },
        "id": "KbbVX7U2Ul2R",
        "outputId": "987b1f73-667d-4c2c-bfca-dd76bfd92aa9"
      },
      "execution_count": 58,
      "outputs": [
        {
          "output_type": "execute_result",
          "data": {
            "text/plain": [
              "        Id  MSSubClass MSZoning  LotFrontage  LotArea Street Alley LotShape   \n",
              "0     1461          20       RH         80.0    11622   Pave   NaN      Reg  \\\n",
              "1     1462          20       RL         81.0    14267   Pave   NaN      IR1   \n",
              "2     1463          60       RL         74.0    13830   Pave   NaN      IR1   \n",
              "3     1464          60       RL         78.0     9978   Pave   NaN      IR1   \n",
              "4     1465         120       RL         43.0     5005   Pave   NaN      IR1   \n",
              "...    ...         ...      ...          ...      ...    ...   ...      ...   \n",
              "1454  2915         160       RM         21.0     1936   Pave   NaN      Reg   \n",
              "1455  2916         160       RM         21.0     1894   Pave   NaN      Reg   \n",
              "1456  2917          20       RL        160.0    20000   Pave   NaN      Reg   \n",
              "1457  2918          85       RL         62.0    10441   Pave   NaN      Reg   \n",
              "1458  2919          60       RL         74.0     9627   Pave   NaN      Reg   \n",
              "\n",
              "     LandContour Utilities  ... ScreenPorch PoolArea PoolQC  Fence   \n",
              "0            Lvl    AllPub  ...         120        0    NaN  MnPrv  \\\n",
              "1            Lvl    AllPub  ...           0        0    NaN    NaN   \n",
              "2            Lvl    AllPub  ...           0        0    NaN  MnPrv   \n",
              "3            Lvl    AllPub  ...           0        0    NaN    NaN   \n",
              "4            HLS    AllPub  ...         144        0    NaN    NaN   \n",
              "...          ...       ...  ...         ...      ...    ...    ...   \n",
              "1454         Lvl    AllPub  ...           0        0    NaN    NaN   \n",
              "1455         Lvl    AllPub  ...           0        0    NaN    NaN   \n",
              "1456         Lvl    AllPub  ...           0        0    NaN    NaN   \n",
              "1457         Lvl    AllPub  ...           0        0    NaN  MnPrv   \n",
              "1458         Lvl    AllPub  ...           0        0    NaN    NaN   \n",
              "\n",
              "     MiscFeature MiscVal MoSold  YrSold  SaleType  SaleCondition  \n",
              "0            NaN       0      6    2010        WD         Normal  \n",
              "1           Gar2   12500      6    2010        WD         Normal  \n",
              "2            NaN       0      3    2010        WD         Normal  \n",
              "3            NaN       0      6    2010        WD         Normal  \n",
              "4            NaN       0      1    2010        WD         Normal  \n",
              "...          ...     ...    ...     ...       ...            ...  \n",
              "1454         NaN       0      6    2006        WD         Normal  \n",
              "1455         NaN       0      4    2006        WD        Abnorml  \n",
              "1456         NaN       0      9    2006        WD        Abnorml  \n",
              "1457        Shed     700      7    2006        WD         Normal  \n",
              "1458         NaN       0     11    2006        WD         Normal  \n",
              "\n",
              "[1459 rows x 80 columns]"
            ],
            "text/html": [
              "\n",
              "  <div id=\"df-cc6d281a-8bba-4564-9ec0-5afe89b15b55\">\n",
              "    <div class=\"colab-df-container\">\n",
              "      <div>\n",
              "<style scoped>\n",
              "    .dataframe tbody tr th:only-of-type {\n",
              "        vertical-align: middle;\n",
              "    }\n",
              "\n",
              "    .dataframe tbody tr th {\n",
              "        vertical-align: top;\n",
              "    }\n",
              "\n",
              "    .dataframe thead th {\n",
              "        text-align: right;\n",
              "    }\n",
              "</style>\n",
              "<table border=\"1\" class=\"dataframe\">\n",
              "  <thead>\n",
              "    <tr style=\"text-align: right;\">\n",
              "      <th></th>\n",
              "      <th>Id</th>\n",
              "      <th>MSSubClass</th>\n",
              "      <th>MSZoning</th>\n",
              "      <th>LotFrontage</th>\n",
              "      <th>LotArea</th>\n",
              "      <th>Street</th>\n",
              "      <th>Alley</th>\n",
              "      <th>LotShape</th>\n",
              "      <th>LandContour</th>\n",
              "      <th>Utilities</th>\n",
              "      <th>...</th>\n",
              "      <th>ScreenPorch</th>\n",
              "      <th>PoolArea</th>\n",
              "      <th>PoolQC</th>\n",
              "      <th>Fence</th>\n",
              "      <th>MiscFeature</th>\n",
              "      <th>MiscVal</th>\n",
              "      <th>MoSold</th>\n",
              "      <th>YrSold</th>\n",
              "      <th>SaleType</th>\n",
              "      <th>SaleCondition</th>\n",
              "    </tr>\n",
              "  </thead>\n",
              "  <tbody>\n",
              "    <tr>\n",
              "      <th>0</th>\n",
              "      <td>1461</td>\n",
              "      <td>20</td>\n",
              "      <td>RH</td>\n",
              "      <td>80.0</td>\n",
              "      <td>11622</td>\n",
              "      <td>Pave</td>\n",
              "      <td>NaN</td>\n",
              "      <td>Reg</td>\n",
              "      <td>Lvl</td>\n",
              "      <td>AllPub</td>\n",
              "      <td>...</td>\n",
              "      <td>120</td>\n",
              "      <td>0</td>\n",
              "      <td>NaN</td>\n",
              "      <td>MnPrv</td>\n",
              "      <td>NaN</td>\n",
              "      <td>0</td>\n",
              "      <td>6</td>\n",
              "      <td>2010</td>\n",
              "      <td>WD</td>\n",
              "      <td>Normal</td>\n",
              "    </tr>\n",
              "    <tr>\n",
              "      <th>1</th>\n",
              "      <td>1462</td>\n",
              "      <td>20</td>\n",
              "      <td>RL</td>\n",
              "      <td>81.0</td>\n",
              "      <td>14267</td>\n",
              "      <td>Pave</td>\n",
              "      <td>NaN</td>\n",
              "      <td>IR1</td>\n",
              "      <td>Lvl</td>\n",
              "      <td>AllPub</td>\n",
              "      <td>...</td>\n",
              "      <td>0</td>\n",
              "      <td>0</td>\n",
              "      <td>NaN</td>\n",
              "      <td>NaN</td>\n",
              "      <td>Gar2</td>\n",
              "      <td>12500</td>\n",
              "      <td>6</td>\n",
              "      <td>2010</td>\n",
              "      <td>WD</td>\n",
              "      <td>Normal</td>\n",
              "    </tr>\n",
              "    <tr>\n",
              "      <th>2</th>\n",
              "      <td>1463</td>\n",
              "      <td>60</td>\n",
              "      <td>RL</td>\n",
              "      <td>74.0</td>\n",
              "      <td>13830</td>\n",
              "      <td>Pave</td>\n",
              "      <td>NaN</td>\n",
              "      <td>IR1</td>\n",
              "      <td>Lvl</td>\n",
              "      <td>AllPub</td>\n",
              "      <td>...</td>\n",
              "      <td>0</td>\n",
              "      <td>0</td>\n",
              "      <td>NaN</td>\n",
              "      <td>MnPrv</td>\n",
              "      <td>NaN</td>\n",
              "      <td>0</td>\n",
              "      <td>3</td>\n",
              "      <td>2010</td>\n",
              "      <td>WD</td>\n",
              "      <td>Normal</td>\n",
              "    </tr>\n",
              "    <tr>\n",
              "      <th>3</th>\n",
              "      <td>1464</td>\n",
              "      <td>60</td>\n",
              "      <td>RL</td>\n",
              "      <td>78.0</td>\n",
              "      <td>9978</td>\n",
              "      <td>Pave</td>\n",
              "      <td>NaN</td>\n",
              "      <td>IR1</td>\n",
              "      <td>Lvl</td>\n",
              "      <td>AllPub</td>\n",
              "      <td>...</td>\n",
              "      <td>0</td>\n",
              "      <td>0</td>\n",
              "      <td>NaN</td>\n",
              "      <td>NaN</td>\n",
              "      <td>NaN</td>\n",
              "      <td>0</td>\n",
              "      <td>6</td>\n",
              "      <td>2010</td>\n",
              "      <td>WD</td>\n",
              "      <td>Normal</td>\n",
              "    </tr>\n",
              "    <tr>\n",
              "      <th>4</th>\n",
              "      <td>1465</td>\n",
              "      <td>120</td>\n",
              "      <td>RL</td>\n",
              "      <td>43.0</td>\n",
              "      <td>5005</td>\n",
              "      <td>Pave</td>\n",
              "      <td>NaN</td>\n",
              "      <td>IR1</td>\n",
              "      <td>HLS</td>\n",
              "      <td>AllPub</td>\n",
              "      <td>...</td>\n",
              "      <td>144</td>\n",
              "      <td>0</td>\n",
              "      <td>NaN</td>\n",
              "      <td>NaN</td>\n",
              "      <td>NaN</td>\n",
              "      <td>0</td>\n",
              "      <td>1</td>\n",
              "      <td>2010</td>\n",
              "      <td>WD</td>\n",
              "      <td>Normal</td>\n",
              "    </tr>\n",
              "    <tr>\n",
              "      <th>...</th>\n",
              "      <td>...</td>\n",
              "      <td>...</td>\n",
              "      <td>...</td>\n",
              "      <td>...</td>\n",
              "      <td>...</td>\n",
              "      <td>...</td>\n",
              "      <td>...</td>\n",
              "      <td>...</td>\n",
              "      <td>...</td>\n",
              "      <td>...</td>\n",
              "      <td>...</td>\n",
              "      <td>...</td>\n",
              "      <td>...</td>\n",
              "      <td>...</td>\n",
              "      <td>...</td>\n",
              "      <td>...</td>\n",
              "      <td>...</td>\n",
              "      <td>...</td>\n",
              "      <td>...</td>\n",
              "      <td>...</td>\n",
              "      <td>...</td>\n",
              "    </tr>\n",
              "    <tr>\n",
              "      <th>1454</th>\n",
              "      <td>2915</td>\n",
              "      <td>160</td>\n",
              "      <td>RM</td>\n",
              "      <td>21.0</td>\n",
              "      <td>1936</td>\n",
              "      <td>Pave</td>\n",
              "      <td>NaN</td>\n",
              "      <td>Reg</td>\n",
              "      <td>Lvl</td>\n",
              "      <td>AllPub</td>\n",
              "      <td>...</td>\n",
              "      <td>0</td>\n",
              "      <td>0</td>\n",
              "      <td>NaN</td>\n",
              "      <td>NaN</td>\n",
              "      <td>NaN</td>\n",
              "      <td>0</td>\n",
              "      <td>6</td>\n",
              "      <td>2006</td>\n",
              "      <td>WD</td>\n",
              "      <td>Normal</td>\n",
              "    </tr>\n",
              "    <tr>\n",
              "      <th>1455</th>\n",
              "      <td>2916</td>\n",
              "      <td>160</td>\n",
              "      <td>RM</td>\n",
              "      <td>21.0</td>\n",
              "      <td>1894</td>\n",
              "      <td>Pave</td>\n",
              "      <td>NaN</td>\n",
              "      <td>Reg</td>\n",
              "      <td>Lvl</td>\n",
              "      <td>AllPub</td>\n",
              "      <td>...</td>\n",
              "      <td>0</td>\n",
              "      <td>0</td>\n",
              "      <td>NaN</td>\n",
              "      <td>NaN</td>\n",
              "      <td>NaN</td>\n",
              "      <td>0</td>\n",
              "      <td>4</td>\n",
              "      <td>2006</td>\n",
              "      <td>WD</td>\n",
              "      <td>Abnorml</td>\n",
              "    </tr>\n",
              "    <tr>\n",
              "      <th>1456</th>\n",
              "      <td>2917</td>\n",
              "      <td>20</td>\n",
              "      <td>RL</td>\n",
              "      <td>160.0</td>\n",
              "      <td>20000</td>\n",
              "      <td>Pave</td>\n",
              "      <td>NaN</td>\n",
              "      <td>Reg</td>\n",
              "      <td>Lvl</td>\n",
              "      <td>AllPub</td>\n",
              "      <td>...</td>\n",
              "      <td>0</td>\n",
              "      <td>0</td>\n",
              "      <td>NaN</td>\n",
              "      <td>NaN</td>\n",
              "      <td>NaN</td>\n",
              "      <td>0</td>\n",
              "      <td>9</td>\n",
              "      <td>2006</td>\n",
              "      <td>WD</td>\n",
              "      <td>Abnorml</td>\n",
              "    </tr>\n",
              "    <tr>\n",
              "      <th>1457</th>\n",
              "      <td>2918</td>\n",
              "      <td>85</td>\n",
              "      <td>RL</td>\n",
              "      <td>62.0</td>\n",
              "      <td>10441</td>\n",
              "      <td>Pave</td>\n",
              "      <td>NaN</td>\n",
              "      <td>Reg</td>\n",
              "      <td>Lvl</td>\n",
              "      <td>AllPub</td>\n",
              "      <td>...</td>\n",
              "      <td>0</td>\n",
              "      <td>0</td>\n",
              "      <td>NaN</td>\n",
              "      <td>MnPrv</td>\n",
              "      <td>Shed</td>\n",
              "      <td>700</td>\n",
              "      <td>7</td>\n",
              "      <td>2006</td>\n",
              "      <td>WD</td>\n",
              "      <td>Normal</td>\n",
              "    </tr>\n",
              "    <tr>\n",
              "      <th>1458</th>\n",
              "      <td>2919</td>\n",
              "      <td>60</td>\n",
              "      <td>RL</td>\n",
              "      <td>74.0</td>\n",
              "      <td>9627</td>\n",
              "      <td>Pave</td>\n",
              "      <td>NaN</td>\n",
              "      <td>Reg</td>\n",
              "      <td>Lvl</td>\n",
              "      <td>AllPub</td>\n",
              "      <td>...</td>\n",
              "      <td>0</td>\n",
              "      <td>0</td>\n",
              "      <td>NaN</td>\n",
              "      <td>NaN</td>\n",
              "      <td>NaN</td>\n",
              "      <td>0</td>\n",
              "      <td>11</td>\n",
              "      <td>2006</td>\n",
              "      <td>WD</td>\n",
              "      <td>Normal</td>\n",
              "    </tr>\n",
              "  </tbody>\n",
              "</table>\n",
              "<p>1459 rows × 80 columns</p>\n",
              "</div>\n",
              "      <button class=\"colab-df-convert\" onclick=\"convertToInteractive('df-cc6d281a-8bba-4564-9ec0-5afe89b15b55')\"\n",
              "              title=\"Convert this dataframe to an interactive table.\"\n",
              "              style=\"display:none;\">\n",
              "        \n",
              "  <svg xmlns=\"http://www.w3.org/2000/svg\" height=\"24px\"viewBox=\"0 0 24 24\"\n",
              "       width=\"24px\">\n",
              "    <path d=\"M0 0h24v24H0V0z\" fill=\"none\"/>\n",
              "    <path d=\"M18.56 5.44l.94 2.06.94-2.06 2.06-.94-2.06-.94-.94-2.06-.94 2.06-2.06.94zm-11 1L8.5 8.5l.94-2.06 2.06-.94-2.06-.94L8.5 2.5l-.94 2.06-2.06.94zm10 10l.94 2.06.94-2.06 2.06-.94-2.06-.94-.94-2.06-.94 2.06-2.06.94z\"/><path d=\"M17.41 7.96l-1.37-1.37c-.4-.4-.92-.59-1.43-.59-.52 0-1.04.2-1.43.59L10.3 9.45l-7.72 7.72c-.78.78-.78 2.05 0 2.83L4 21.41c.39.39.9.59 1.41.59.51 0 1.02-.2 1.41-.59l7.78-7.78 2.81-2.81c.8-.78.8-2.07 0-2.86zM5.41 20L4 18.59l7.72-7.72 1.47 1.35L5.41 20z\"/>\n",
              "  </svg>\n",
              "      </button>\n",
              "      \n",
              "  <style>\n",
              "    .colab-df-container {\n",
              "      display:flex;\n",
              "      flex-wrap:wrap;\n",
              "      gap: 12px;\n",
              "    }\n",
              "\n",
              "    .colab-df-convert {\n",
              "      background-color: #E8F0FE;\n",
              "      border: none;\n",
              "      border-radius: 50%;\n",
              "      cursor: pointer;\n",
              "      display: none;\n",
              "      fill: #1967D2;\n",
              "      height: 32px;\n",
              "      padding: 0 0 0 0;\n",
              "      width: 32px;\n",
              "    }\n",
              "\n",
              "    .colab-df-convert:hover {\n",
              "      background-color: #E2EBFA;\n",
              "      box-shadow: 0px 1px 2px rgba(60, 64, 67, 0.3), 0px 1px 3px 1px rgba(60, 64, 67, 0.15);\n",
              "      fill: #174EA6;\n",
              "    }\n",
              "\n",
              "    [theme=dark] .colab-df-convert {\n",
              "      background-color: #3B4455;\n",
              "      fill: #D2E3FC;\n",
              "    }\n",
              "\n",
              "    [theme=dark] .colab-df-convert:hover {\n",
              "      background-color: #434B5C;\n",
              "      box-shadow: 0px 1px 3px 1px rgba(0, 0, 0, 0.15);\n",
              "      filter: drop-shadow(0px 1px 2px rgba(0, 0, 0, 0.3));\n",
              "      fill: #FFFFFF;\n",
              "    }\n",
              "  </style>\n",
              "\n",
              "      <script>\n",
              "        const buttonEl =\n",
              "          document.querySelector('#df-cc6d281a-8bba-4564-9ec0-5afe89b15b55 button.colab-df-convert');\n",
              "        buttonEl.style.display =\n",
              "          google.colab.kernel.accessAllowed ? 'block' : 'none';\n",
              "\n",
              "        async function convertToInteractive(key) {\n",
              "          const element = document.querySelector('#df-cc6d281a-8bba-4564-9ec0-5afe89b15b55');\n",
              "          const dataTable =\n",
              "            await google.colab.kernel.invokeFunction('convertToInteractive',\n",
              "                                                     [key], {});\n",
              "          if (!dataTable) return;\n",
              "\n",
              "          const docLinkHtml = 'Like what you see? Visit the ' +\n",
              "            '<a target=\"_blank\" href=https://colab.research.google.com/notebooks/data_table.ipynb>data table notebook</a>'\n",
              "            + ' to learn more about interactive tables.';\n",
              "          element.innerHTML = '';\n",
              "          dataTable['output_type'] = 'display_data';\n",
              "          await google.colab.output.renderOutput(dataTable, element);\n",
              "          const docLink = document.createElement('div');\n",
              "          docLink.innerHTML = docLinkHtml;\n",
              "          element.appendChild(docLink);\n",
              "        }\n",
              "      </script>\n",
              "    </div>\n",
              "  </div>\n",
              "  "
            ]
          },
          "metadata": {},
          "execution_count": 58
        }
      ]
    },
    {
      "cell_type": "code",
      "source": [
        "!pip install matplotlib==3.4.2"
      ],
      "metadata": {
        "colab": {
          "base_uri": "https://localhost:8080/"
        },
        "id": "4yC_OALkU03g",
        "outputId": "cb383a0e-3d9d-49fc-83c6-1460033ea4cc"
      },
      "execution_count": 59,
      "outputs": [
        {
          "output_type": "stream",
          "name": "stdout",
          "text": [
            "Looking in indexes: https://pypi.org/simple, https://us-python.pkg.dev/colab-wheels/public/simple/\n",
            "Collecting matplotlib==3.4.2\n",
            "  Downloading matplotlib-3.4.2.tar.gz (37.3 MB)\n",
            "\u001b[2K     \u001b[90m━━━━━━━━━━━━━━━━━━━━━━━━━━━━━━━━━━━━━━━━\u001b[0m \u001b[32m37.3/37.3 MB\u001b[0m \u001b[31m5.7 MB/s\u001b[0m eta \u001b[36m0:00:00\u001b[0m\n",
            "\u001b[?25h  Preparing metadata (setup.py) ... \u001b[?25l\u001b[?25hdone\n",
            "Requirement already satisfied: cycler>=0.10 in /usr/local/lib/python3.10/dist-packages (from matplotlib==3.4.2) (0.11.0)\n",
            "Requirement already satisfied: kiwisolver>=1.0.1 in /usr/local/lib/python3.10/dist-packages (from matplotlib==3.4.2) (1.4.4)\n",
            "Requirement already satisfied: numpy>=1.16 in /usr/local/lib/python3.10/dist-packages (from matplotlib==3.4.2) (1.24.3)\n",
            "Requirement already satisfied: pillow>=6.2.0 in /usr/local/lib/python3.10/dist-packages (from matplotlib==3.4.2) (8.4.0)\n",
            "Requirement already satisfied: pyparsing>=2.2.1 in /usr/local/lib/python3.10/dist-packages (from matplotlib==3.4.2) (3.0.9)\n",
            "Requirement already satisfied: python-dateutil>=2.7 in /usr/local/lib/python3.10/dist-packages (from matplotlib==3.4.2) (2.8.2)\n",
            "Requirement already satisfied: six>=1.5 in /usr/local/lib/python3.10/dist-packages (from python-dateutil>=2.7->matplotlib==3.4.2) (1.16.0)\n",
            "Building wheels for collected packages: matplotlib\n",
            "  Building wheel for matplotlib (setup.py) ... \u001b[?25l\u001b[?25hdone\n",
            "  Created wheel for matplotlib: filename=matplotlib-3.4.2-cp310-cp310-linux_x86_64.whl size=10521676 sha256=4840c2dad32596bfcad0d10de2233328082c1de20efb5ae2048aa4e4c99a8228\n",
            "  Stored in directory: /root/.cache/pip/wheels/d9/e8/73/f806fc40c211022378c2828e3cce1eac412344111ab1becd9d\n",
            "Successfully built matplotlib\n",
            "Installing collected packages: matplotlib\n",
            "  Attempting uninstall: matplotlib\n",
            "    Found existing installation: matplotlib 3.7.1\n",
            "    Uninstalling matplotlib-3.7.1:\n",
            "      Successfully uninstalled matplotlib-3.7.1\n",
            "\u001b[31mERROR: pip's dependency resolver does not currently take into account all the packages that are installed. This behaviour is the source of the following dependency conflicts.\n",
            "plotnine 0.10.1 requires matplotlib>=3.5.0, but you have matplotlib 3.4.2 which is incompatible.\n",
            "mizani 0.8.1 requires matplotlib>=3.5.0, but you have matplotlib 3.4.2 which is incompatible.\u001b[0m\u001b[31m\n",
            "\u001b[0mSuccessfully installed matplotlib-3.4.2\n"
          ]
        }
      ]
    },
    {
      "cell_type": "code",
      "source": [
        "%matplotlib inline\n",
        "import matplotlib.pyplot as plt\n",
        "train_data.hist(bins=50, figsize=(20,15))\n",
        "plt.show()"
      ],
      "metadata": {
        "colab": {
          "base_uri": "https://localhost:8080/",
          "height": 859
        },
        "id": "83rK7xQ9VGIY",
        "outputId": "50c32423-0f9b-4fa6-83ca-aaae7acbabfa"
      },
      "execution_count": 61,
      "outputs": [
        {
          "output_type": "display_data",
          "data": {
            "text/plain": [
              "<Figure size 2000x1500 with 42 Axes>"
            ],
            "image/png": "[encoded data removed]"
          },
          "metadata": {}
        }
      ]
    },
    {
      "cell_type": "code",
      "source": [
        "# select only numeric columns from the dataframe\n",
        "numeric_df = train_data.select_dtypes(include='number')\n",
        "\n",
        "# compute the correlation matrix\n",
        "corr = numeric_df.corr()\n",
        "\n",
        "# display the correlation matrix\n",
        "print(corr)\n"
      ],
      "metadata": {
        "colab": {
          "base_uri": "https://localhost:8080/"
        },
        "id": "BRQpBjAgV6gS",
        "outputId": "4880ed7b-b2e0-4607-a507-99d6c3cb9192"
      },
      "execution_count": 64,
      "outputs": [
        {
          "output_type": "stream",
          "name": "stdout",
          "text": [
            "                     Id  MSSubClass  LotFrontage   LotArea  OverallQual   \n",
            "Id             1.000000    0.011156    -0.010601 -0.033226    -0.028365  \\\n",
            "MSSubClass     0.011156    1.000000    -0.386347 -0.139781     0.032628   \n",
            "LotFrontage   -0.010601   -0.386347     1.000000  0.426095     0.251646   \n",
            "LotArea       -0.033226   -0.139781     0.426095  1.000000     0.105806   \n",
            "OverallQual   -0.028365    0.032628     0.251646  0.105806     1.000000   \n",
            "OverallCond    0.012609   -0.059316    -0.059213 -0.005636    -0.091932   \n",
            "YearBuilt     -0.012713    0.027850     0.123349  0.014228     0.572323   \n",
            "YearRemodAdd  -0.021998    0.040581     0.088866  0.013788     0.550684   \n",
            "MasVnrArea    -0.050298    0.022936     0.193458  0.104160     0.411876   \n",
            "BsmtFinSF1    -0.005024   -0.069836     0.233633  0.214103     0.239666   \n",
            "BsmtFinSF2    -0.005968   -0.065649     0.049900  0.111170    -0.059119   \n",
            "BsmtUnfSF     -0.007940   -0.140759     0.132644 -0.002618     0.308159   \n",
            "TotalBsmtSF   -0.015415   -0.238518     0.392075  0.260833     0.537808   \n",
            "1stFlrSF       0.010496   -0.251758     0.457181  0.299475     0.476224   \n",
            "2ndFlrSF       0.005590    0.307886     0.080177  0.050986     0.295493   \n",
            "LowQualFinSF  -0.044230    0.046474     0.038469  0.004779    -0.030429   \n",
            "GrLivArea      0.008273    0.074853     0.402797  0.263116     0.593007   \n",
            "BsmtFullBath   0.002289    0.003491     0.100949  0.158155     0.111098   \n",
            "BsmtHalfBath  -0.020155   -0.002333    -0.007234  0.048046    -0.040150   \n",
            "FullBath       0.005587    0.131608     0.198769  0.126031     0.550600   \n",
            "HalfBath       0.006784    0.177354     0.053532  0.014259     0.273458   \n",
            "BedroomAbvGr   0.037719   -0.023438     0.263170  0.119690     0.101676   \n",
            "KitchenAbvGr   0.002951    0.281721    -0.006069 -0.017784    -0.183882   \n",
            "TotRmsAbvGrd   0.027239    0.040380     0.352096  0.190015     0.427452   \n",
            "Fireplaces    -0.019772   -0.045569     0.266639  0.271364     0.396765   \n",
            "GarageYrBlt    0.000072    0.085072     0.070250 -0.024947     0.547766   \n",
            "GarageCars     0.016570   -0.040110     0.285691  0.154871     0.600671   \n",
            "GarageArea     0.017634   -0.098672     0.344997  0.180403     0.562022   \n",
            "WoodDeckSF    -0.029643   -0.012579     0.088521  0.171698     0.238923   \n",
            "OpenPorchSF   -0.000477   -0.006100     0.151972  0.084774     0.308819   \n",
            "EnclosedPorch  0.002889   -0.012037     0.010700 -0.018340    -0.113937   \n",
            "3SsnPorch     -0.046635   -0.043825     0.070029  0.020423     0.030371   \n",
            "ScreenPorch    0.001330   -0.026030     0.041383  0.043160     0.064886   \n",
            "PoolArea       0.057044    0.008283     0.206167  0.077672     0.065166   \n",
            "MiscVal       -0.006242   -0.007683     0.003368  0.038068    -0.031406   \n",
            "MoSold         0.021172   -0.013585     0.011200  0.001205     0.070815   \n",
            "YrSold         0.000712   -0.021407     0.007450 -0.014261    -0.027347   \n",
            "SalePrice     -0.021917   -0.084284     0.351799  0.263843     0.790982   \n",
            "\n",
            "               OverallCond  YearBuilt  YearRemodAdd  MasVnrArea  BsmtFinSF1   \n",
            "Id                0.012609  -0.012713     -0.021998   -0.050298   -0.005024  \\\n",
            "MSSubClass       -0.059316   0.027850      0.040581    0.022936   -0.069836   \n",
            "LotFrontage      -0.059213   0.123349      0.088866    0.193458    0.233633   \n",
            "LotArea          -0.005636   0.014228      0.013788    0.104160    0.214103   \n",
            "OverallQual      -0.091932   0.572323      0.550684    0.411876    0.239666   \n",
            "OverallCond       1.000000  -0.375983      0.073741   -0.128101   -0.046231   \n",
            "YearBuilt        -0.375983   1.000000      0.592855    0.315707    0.249503   \n",
            "YearRemodAdd      0.073741   0.592855      1.000000    0.179618    0.128451   \n",
            "MasVnrArea       -0.128101   0.315707      0.179618    1.000000    0.264736   \n",
            "BsmtFinSF1       -0.046231   0.249503      0.128451    0.264736    1.000000   \n",
            "BsmtFinSF2        0.040229  -0.049107     -0.067759   -0.072319   -0.050117   \n",
            "BsmtUnfSF        -0.136841   0.149040      0.181133    0.114442   -0.495251   \n",
            "TotalBsmtSF      -0.171098   0.391452      0.291066    0.363936    0.522396   \n",
            "1stFlrSF         -0.144203   0.281986      0.240379    0.344501    0.445863   \n",
            "2ndFlrSF          0.028942   0.010308      0.140024    0.174561   -0.137079   \n",
            "LowQualFinSF      0.025494  -0.183784     -0.062419   -0.069071   -0.064503   \n",
            "GrLivArea        -0.079686   0.199010      0.287389    0.390857    0.208171   \n",
            "BsmtFullBath     -0.054942   0.187599      0.119470    0.085310    0.649212   \n",
            "BsmtHalfBath      0.117821  -0.038162     -0.012337    0.026673    0.067418   \n",
            "FullBath         -0.194149   0.468271      0.439046    0.276833    0.058543   \n",
            "HalfBath         -0.060769   0.242656      0.183331    0.201444    0.004262   \n",
            "BedroomAbvGr      0.012980  -0.070651     -0.040581    0.102821   -0.107355   \n",
            "KitchenAbvGr     -0.087001  -0.174800     -0.149598   -0.037610   -0.081007   \n",
            "TotRmsAbvGrd     -0.057583   0.095589      0.191740    0.280682    0.044316   \n",
            "Fireplaces       -0.023820   0.147716      0.112581    0.249070    0.260011   \n",
            "GarageYrBlt      -0.324297   0.825667      0.642277    0.252691    0.153484   \n",
            "GarageCars       -0.185758   0.537850      0.420622    0.364204    0.224054   \n",
            "GarageArea       -0.151521   0.478954      0.371600    0.373066    0.296970   \n",
            "WoodDeckSF       -0.003334   0.224880      0.205726    0.159718    0.204306   \n",
            "OpenPorchSF      -0.032589   0.188686      0.226298    0.125703    0.111761   \n",
            "EnclosedPorch     0.070356  -0.387268     -0.193919   -0.110204   -0.102303   \n",
            "3SsnPorch         0.025504   0.031355      0.045286    0.018796    0.026451   \n",
            "ScreenPorch       0.054811  -0.050364     -0.038740    0.061466    0.062021   \n",
            "PoolArea         -0.001985   0.004950      0.005829    0.011723    0.140491   \n",
            "MiscVal           0.068777  -0.034383     -0.010286   -0.029815    0.003571   \n",
            "MoSold           -0.003511   0.012398      0.021490   -0.005965   -0.015727   \n",
            "YrSold            0.043950  -0.013618      0.035743   -0.008201    0.014359   \n",
            "SalePrice        -0.077856   0.522897      0.507101    0.477493    0.386420   \n",
            "\n",
            "               ...  WoodDeckSF  OpenPorchSF  EnclosedPorch  3SsnPorch   \n",
            "Id             ...   -0.029643    -0.000477       0.002889  -0.046635  \\\n",
            "MSSubClass     ...   -0.012579    -0.006100      -0.012037  -0.043825   \n",
            "LotFrontage    ...    0.088521     0.151972       0.010700   0.070029   \n",
            "LotArea        ...    0.171698     0.084774      -0.018340   0.020423   \n",
            "OverallQual    ...    0.238923     0.308819      -0.113937   0.030371   \n",
            "OverallCond    ...   -0.003334    -0.032589       0.070356   0.025504   \n",
            "YearBuilt      ...    0.224880     0.188686      -0.387268   0.031355   \n",
            "YearRemodAdd   ...    0.205726     0.226298      -0.193919   0.045286   \n",
            "MasVnrArea     ...    0.159718     0.125703      -0.110204   0.018796   \n",
            "BsmtFinSF1     ...    0.204306     0.111761      -0.102303   0.026451   \n",
            "BsmtFinSF2     ...    0.067898     0.003093       0.036543  -0.029993   \n",
            "BsmtUnfSF      ...   -0.005316     0.129005      -0.002538   0.020764   \n",
            "TotalBsmtSF    ...    0.232019     0.247264      -0.095478   0.037384   \n",
            "1stFlrSF       ...    0.235459     0.211671      -0.065292   0.056104   \n",
            "2ndFlrSF       ...    0.092165     0.208026       0.061989  -0.024358   \n",
            "LowQualFinSF   ...   -0.025444     0.018251       0.061081  -0.004296   \n",
            "GrLivArea      ...    0.247433     0.330224       0.009113   0.020643   \n",
            "BsmtFullBath   ...    0.175315     0.067341      -0.049911  -0.000106   \n",
            "BsmtHalfBath   ...    0.040161    -0.025324      -0.008555   0.035114   \n",
            "FullBath       ...    0.187703     0.259977      -0.115093   0.035353   \n",
            "HalfBath       ...    0.108080     0.199740      -0.095317  -0.004972   \n",
            "BedroomAbvGr   ...    0.046854     0.093810       0.041570  -0.024478   \n",
            "KitchenAbvGr   ...   -0.090130    -0.070091       0.037312  -0.024600   \n",
            "TotRmsAbvGrd   ...    0.165984     0.234192       0.004151  -0.006683   \n",
            "Fireplaces     ...    0.200019     0.169405      -0.024822   0.011257   \n",
            "GarageYrBlt    ...    0.224577     0.228425      -0.297003   0.023544   \n",
            "GarageCars     ...    0.226342     0.213569      -0.151434   0.035765   \n",
            "GarageArea     ...    0.224666     0.241435      -0.121777   0.035087   \n",
            "WoodDeckSF     ...    1.000000     0.058661      -0.125989  -0.032771   \n",
            "OpenPorchSF    ...    0.058661     1.000000      -0.093079  -0.005842   \n",
            "EnclosedPorch  ...   -0.125989    -0.093079       1.000000  -0.037305   \n",
            "3SsnPorch      ...   -0.032771    -0.005842      -0.037305   1.000000   \n",
            "ScreenPorch    ...   -0.074181     0.074304      -0.082864  -0.031436   \n",
            "PoolArea       ...    0.073378     0.060762       0.054203  -0.007992   \n",
            "MiscVal        ...   -0.009551    -0.018584       0.018361   0.000354   \n",
            "MoSold         ...    0.021011     0.071255      -0.028887   0.029474   \n",
            "YrSold         ...    0.022270    -0.057619      -0.009916   0.018645   \n",
            "SalePrice      ...    0.324413     0.315856      -0.128578   0.044584   \n",
            "\n",
            "               ScreenPorch  PoolArea   MiscVal    MoSold    YrSold  SalePrice  \n",
            "Id                0.001330  0.057044 -0.006242  0.021172  0.000712  -0.021917  \n",
            "MSSubClass       -0.026030  0.008283 -0.007683 -0.013585 -0.021407  -0.084284  \n",
            "LotFrontage       0.041383  0.206167  0.003368  0.011200  0.007450   0.351799  \n",
            "LotArea           0.043160  0.077672  0.038068  0.001205 -0.014261   0.263843  \n",
            "OverallQual       0.064886  0.065166 -0.031406  0.070815 -0.027347   0.790982  \n",
            "OverallCond       0.054811 -0.001985  0.068777 -0.003511  0.043950  -0.077856  \n",
            "YearBuilt        -0.050364  0.004950 -0.034383  0.012398 -0.013618   0.522897  \n",
            "YearRemodAdd     -0.038740  0.005829 -0.010286  0.021490  0.035743   0.507101  \n",
            "MasVnrArea        0.061466  0.011723 -0.029815 -0.005965 -0.008201   0.477493  \n",
            "BsmtFinSF1        0.062021  0.140491  0.003571 -0.015727  0.014359   0.386420  \n",
            "BsmtFinSF2        0.088871  0.041709  0.004940 -0.015211  0.031706  -0.011378  \n",
            "BsmtUnfSF        -0.012579 -0.035092 -0.023837  0.034888 -0.041258   0.214479  \n",
            "TotalBsmtSF       0.084489  0.126053 -0.018479  0.013196 -0.014969   0.613581  \n",
            "1stFlrSF          0.088758  0.131525 -0.021096  0.031372 -0.013604   0.605852  \n",
            "2ndFlrSF          0.040606  0.081487  0.016197  0.035164 -0.028700   0.319334  \n",
            "LowQualFinSF      0.026799  0.062157 -0.003793 -0.022174 -0.028921  -0.025606  \n",
            "GrLivArea         0.101510  0.170205 -0.002416  0.050240 -0.036526   0.708624  \n",
            "BsmtFullBath      0.023148  0.067616 -0.023047 -0.025361  0.067049   0.227122  \n",
            "BsmtHalfBath      0.032121  0.020025 -0.007367  0.032873 -0.046524  -0.016844  \n",
            "FullBath         -0.008106  0.049604 -0.014290  0.055872 -0.019669   0.560664  \n",
            "HalfBath          0.072426  0.022381  0.001290 -0.009050 -0.010269   0.284108  \n",
            "BedroomAbvGr      0.044300  0.070703  0.007767  0.046544 -0.036014   0.168213  \n",
            "KitchenAbvGr     -0.051613 -0.014525  0.062341  0.026589  0.031687  -0.135907  \n",
            "TotRmsAbvGrd      0.059383  0.083757  0.024763  0.036907 -0.034516   0.533723  \n",
            "Fireplaces        0.184530  0.095074  0.001409  0.046357 -0.024096   0.466929  \n",
            "GarageYrBlt      -0.075418 -0.014501 -0.032417  0.005337 -0.001014   0.486362  \n",
            "GarageCars        0.050494  0.020934 -0.043080  0.040522 -0.039117   0.640409  \n",
            "GarageArea        0.051412  0.061047 -0.027400  0.027974 -0.027378   0.623431  \n",
            "WoodDeckSF       -0.074181  0.073378 -0.009551  0.021011  0.022270   0.324413  \n",
            "OpenPorchSF       0.074304  0.060762 -0.018584  0.071255 -0.057619   0.315856  \n",
            "EnclosedPorch    -0.082864  0.054203  0.018361 -0.028887 -0.009916  -0.128578  \n",
            "3SsnPorch        -0.031436 -0.007992  0.000354  0.029474  0.018645   0.044584  \n",
            "ScreenPorch       1.000000  0.051307  0.031946  0.023217  0.010694   0.111447  \n",
            "PoolArea          0.051307  1.000000  0.029669 -0.033737 -0.059689   0.092404  \n",
            "MiscVal           0.031946  0.029669  1.000000 -0.006495  0.004906  -0.021190  \n",
            "MoSold            0.023217 -0.033737 -0.006495  1.000000 -0.145721   0.046432  \n",
            "YrSold            0.010694 -0.059689  0.004906 -0.145721  1.000000  -0.028923  \n",
            "SalePrice         0.111447  0.092404 -0.021190  0.046432 -0.028923   1.000000  \n",
            "\n",
            "[38 rows x 38 columns]\n"
          ]
        }
      ]
    },
    {
      "cell_type": "code",
      "source": [
        "corr[\"YrSold\"].sort_values(ascending=False)"
      ],
      "metadata": {
        "colab": {
          "base_uri": "https://localhost:8080/"
        },
        "id": "3lnF1tI8WBw3",
        "outputId": "5bf219f4-a737-49f8-ed78-1c387c385c7d"
      },
      "execution_count": 65,
      "outputs": [
        {
          "output_type": "execute_result",
          "data": {
            "text/plain": [
              "YrSold           1.000000\n",
              "BsmtFullBath     0.067049\n",
              "OverallCond      0.043950\n",
              "YearRemodAdd     0.035743\n",
              "BsmtFinSF2       0.031706\n",
              "KitchenAbvGr     0.031687\n",
              "WoodDeckSF       0.022270\n",
              "3SsnPorch        0.018645\n",
              "BsmtFinSF1       0.014359\n",
              "ScreenPorch      0.010694\n",
              "LotFrontage      0.007450\n",
              "MiscVal          0.004906\n",
              "Id               0.000712\n",
              "GarageYrBlt     -0.001014\n",
              "MasVnrArea      -0.008201\n",
              "EnclosedPorch   -0.009916\n",
              "HalfBath        -0.010269\n",
              "1stFlrSF        -0.013604\n",
              "YearBuilt       -0.013618\n",
              "LotArea         -0.014261\n",
              "TotalBsmtSF     -0.014969\n",
              "FullBath        -0.019669\n",
              "MSSubClass      -0.021407\n",
              "Fireplaces      -0.024096\n",
              "OverallQual     -0.027347\n",
              "GarageArea      -0.027378\n",
              "2ndFlrSF        -0.028700\n",
              "LowQualFinSF    -0.028921\n",
              "SalePrice       -0.028923\n",
              "TotRmsAbvGrd    -0.034516\n",
              "BedroomAbvGr    -0.036014\n",
              "GrLivArea       -0.036526\n",
              "GarageCars      -0.039117\n",
              "BsmtUnfSF       -0.041258\n",
              "BsmtHalfBath    -0.046524\n",
              "OpenPorchSF     -0.057619\n",
              "PoolArea        -0.059689\n",
              "MoSold          -0.145721\n",
              "Name: YrSold, dtype: float64"
            ]
          },
          "metadata": {},
          "execution_count": 65
        }
      ]
    },
    {
      "cell_type": "code",
      "source": [
        "train_data.plot(kind=\"scatter\", x=\"OverallQual\", y=\"SalePrice\", alpha=0.5)"
      ],
      "metadata": {
        "colab": {
          "base_uri": "https://localhost:8080/",
          "height": 466
        },
        "id": "QJjxEmQ1WUi5",
        "outputId": "db616345-c8c6-434d-a5ba-846d487cec5f"
      },
      "execution_count": 66,
      "outputs": [
        {
          "output_type": "execute_result",
          "data": {
            "text/plain": [
              "<Axes: xlabel='OverallQual', ylabel='SalePrice'>"
            ]
          },
          "metadata": {},
          "execution_count": 66
        },
        {
          "output_type": "display_data",
          "data": {
            "text/plain": [
              "<Figure size 640x480 with 1 Axes>"
            ],
            "image/png": "[encoded data removed]"
          },
          "metadata": {}
        }
      ]
    },
    {
      "cell_type": "code",
      "source": [
        "train_data.plot(kind=\"scatter\", x=\"GrLivArea\", y=\"SalePrice\", alpha=0.5)"
      ],
      "metadata": {
        "colab": {
          "base_uri": "https://localhost:8080/",
          "height": 466
        },
        "id": "b9e1EEkAWcd1",
        "outputId": "aed17e58-bdb8-4684-e196-92aaddf64a8e"
      },
      "execution_count": 68,
      "outputs": [
        {
          "output_type": "execute_result",
          "data": {
            "text/plain": [
              "<Axes: xlabel='GrLivArea', ylabel='SalePrice'>"
            ]
          },
          "metadata": {},
          "execution_count": 68
        },
        {
          "output_type": "display_data",
          "data": {
            "text/plain": [
              "<Figure size 640x480 with 1 Axes>"
            ],
            "image/png": "[encoded data removed]"
          },
          "metadata": {}
        }
      ]
    },
    {
      "cell_type": "code",
      "source": [
        "train_data.plot(kind=\"scatter\", x=\"GarageCars\", y=\"SalePrice\", alpha=0.5)"
      ],
      "metadata": {
        "colab": {
          "base_uri": "https://localhost:8080/",
          "height": 466
        },
        "id": "9V7N0mW7Wilo",
        "outputId": "798691af-78ae-4786-ad9b-f97ed24b930a"
      },
      "execution_count": 69,
      "outputs": [
        {
          "output_type": "execute_result",
          "data": {
            "text/plain": [
              "<Axes: xlabel='GarageCars', ylabel='SalePrice'>"
            ]
          },
          "metadata": {},
          "execution_count": 69
        },
        {
          "output_type": "display_data",
          "data": {
            "text/plain": [
              "<Figure size 640x480 with 1 Axes>"
            ],
            "image/png": "[encoded data removed]"
          },
          "metadata": {}
        }
      ]
    },
    {
      "cell_type": "code",
      "source": [
        "train_data.boxplot(column=['OverallQual', 'GrLivArea', 'GarageCars', 'GarageArea'])"
      ],
      "metadata": {
        "colab": {
          "base_uri": "https://localhost:8080/",
          "height": 447
        },
        "id": "N2QQY9sJWnhh",
        "outputId": "6e60fe50-7109-4dac-f688-84e6e3b3071b"
      },
      "execution_count": 70,
      "outputs": [
        {
          "output_type": "execute_result",
          "data": {
            "text/plain": [
              "<Axes: >"
            ]
          },
          "metadata": {},
          "execution_count": 70
        },
        {
          "output_type": "display_data",
          "data": {
            "text/plain": [
              "<Figure size 640x480 with 1 Axes>"
            ],
            "image/png": "[encoded data removed]"
          },
          "metadata": {}
        }
      ]
    },
    {
      "cell_type": "code",
      "source": [
        "train_data.boxplot(column=['TotalBsmtSF', '1stFlrSF', 'FullBath', 'SalePrice'])"
      ],
      "metadata": {
        "colab": {
          "base_uri": "https://localhost:8080/",
          "height": 447
        },
        "id": "GEU6BQjgWsTx",
        "outputId": "646a16c9-0ba7-4e75-b69f-3dc301b4262f"
      },
      "execution_count": 71,
      "outputs": [
        {
          "output_type": "execute_result",
          "data": {
            "text/plain": [
              "<Axes: >"
            ]
          },
          "metadata": {},
          "execution_count": 71
        },
        {
          "output_type": "display_data",
          "data": {
            "text/plain": [
              "<Figure size 640x480 with 1 Axes>"
            ],
            "image/png": "[encoded data removed]"
          },
          "metadata": {}
        }
      ]
    },
    {
      "cell_type": "code",
      "source": [
        "import numpy as np\n",
        "train_data.fillna(-1000, inplace=True)\n"
      ],
      "metadata": {
        "id": "waBg_2yMWymS"
      },
      "execution_count": 72,
      "outputs": []
    },
    {
      "cell_type": "code",
      "source": [
        "from sklearn.linear_model import LinearRegression\n",
        "from sklearn.preprocessing import LabelEncoder\n",
        "\n",
        "from sklearn.preprocessing import LabelEncoder\n",
        "columns = ('GarageCond',\n",
        "           'LandContour', \n",
        "           'RoofStyle', \n",
        "           'RoofMatl', \n",
        "           'Heating', \n",
        "           'MiscFeature', \n",
        "           'SaleType', \n",
        "           'GarageType',\n",
        "           'Electrical', \n",
        "           'SaleCondition', \n",
        "           'Foundation',\n",
        "           'Exterior1st', \n",
        "           'Exterior2nd',\n",
        "           'MasVnrType', \n",
        "           'FireplaceQu', \n",
        "           'LotShape', \n",
        "           'Neighborhood', \n",
        "           'Condition1', \n",
        "           'Condition2', \n",
        "           'Utilities', \n",
        "           'BldgType', \n",
        "           'HouseStyle',\n",
        "           'PoolQC', \n",
        "           'BsmtQual', \n",
        "           'BsmtCond', \n",
        "           'GarageQual',\n",
        "           'BsmtExposure', \n",
        "           'ExterQual', \n",
        "           'ExterCond',\n",
        "           'HeatingQC', \n",
        "           'KitchenQual', \n",
        "           'BsmtFinType1',\n",
        "           'BsmtFinType2', \n",
        "           'Functional', \n",
        "           'Fence', \n",
        "           'GarageFinish', \n",
        "           'LandSlope',\n",
        "           'LotShape', \n",
        "           'PavedDrive', \n",
        "           'Street',\n",
        "           'Alley', \n",
        "           'CentralAir', \n",
        "           'MSSubClass', \n",
        "           'OverallCond', \n",
        "           'YrSold',\n",
        "           'MoSold', \n",
        "           'MSZoning',\n",
        "           'LotConfig')"
      ],
      "metadata": {
        "id": "Va3VcNoPXFZq"
      },
      "execution_count": 73,
      "outputs": []
    },
    {
      "cell_type": "code",
      "source": [
        "for i in columns:\n",
        "    encoder = LabelEncoder()\n",
        "    encoder.fit(list(train_data[i].values))\n",
        "    train_data[i] = encoder.transform(list(train_data[i].values))"
      ],
      "metadata": {
        "id": "b0r4fWMrXJ1g"
      },
      "execution_count": 75,
      "outputs": []
    },
    {
      "cell_type": "code",
      "source": [
        "for j in columns:\n",
        "    encoder_test = LabelEncoder()\n",
        "    encoder_test.fit(list(test_data[j].values))\n",
        "    test_data[j] = encoder_test.transform(list(test_data[j].values))"
      ],
      "metadata": {
        "id": "jfnWYousXQEy"
      },
      "execution_count": 76,
      "outputs": []
    },
    {
      "cell_type": "code",
      "source": [
        "x_train = train_data[train_data.columns[:80]]\n",
        "y_train = train_data['YrSold']\n",
        "x_validation = test_data[test_data.columns[:80]]"
      ],
      "metadata": {
        "id": "MxF5tKNVXXsF"
      },
      "execution_count": 78,
      "outputs": []
    },
    {
      "cell_type": "code",
      "source": [
        "from sklearn.linear_model import LinearRegression\n",
        "regressor = LinearRegression()\n",
        "regressor.fit(x_train, y_train)"
      ],
      "metadata": {
        "colab": {
          "base_uri": "https://localhost:8080/",
          "height": 74
        },
        "id": "J0GnMrcfXcBZ",
        "outputId": "10b243e0-8f56-4d5f-b03f-f4b17dbf2ca5"
      },
      "execution_count": 79,
      "outputs": [
        {
          "output_type": "execute_result",
          "data": {
            "text/plain": [
              "LinearRegression()"
            ],
            "text/html": [
              "<style>#sk-container-id-1 {color: black;background-color: white;}#sk-container-id-1 pre{padding: 0;}#sk-container-id-1 div.sk-toggleable {background-color: white;}#sk-container-id-1 label.sk-toggleable__label {cursor: pointer;display: block;width: 100%;margin-bottom: 0;padding: 0.3em;box-sizing: border-box;text-align: center;}#sk-container-id-1 label.sk-toggleable__label-arrow:before {content: \"▸\";float: left;margin-right: 0.25em;color: #696969;}#sk-container-id-1 label.sk-toggleable__label-arrow:hover:before {color: black;}#sk-container-id-1 div.sk-estimator:hover label.sk-toggleable__label-arrow:before {color: black;}#sk-container-id-1 div.sk-toggleable__content {max-height: 0;max-width: 0;overflow: hidden;text-align: left;background-color: #f0f8ff;}#sk-container-id-1 div.sk-toggleable__content pre {margin: 0.2em;color: black;border-radius: 0.25em;background-color: #f0f8ff;}#sk-container-id-1 input.sk-toggleable__control:checked~div.sk-toggleable__content {max-height: 200px;max-width: 100%;overflow: auto;}#sk-container-id-1 input.sk-toggleable__control:checked~label.sk-toggleable__label-arrow:before {content: \"▾\";}#sk-container-id-1 div.sk-estimator input.sk-toggleable__control:checked~label.sk-toggleable__label {background-color: #d4ebff;}#sk-container-id-1 div.sk-label input.sk-toggleable__control:checked~label.sk-toggleable__label {background-color: #d4ebff;}#sk-container-id-1 input.sk-hidden--visually {border: 0;clip: rect(1px 1px 1px 1px);clip: rect(1px, 1px, 1px, 1px);height: 1px;margin: -1px;overflow: hidden;padding: 0;position: absolute;width: 1px;}#sk-container-id-1 div.sk-estimator {font-family: monospace;background-color: #f0f8ff;border: 1px dotted black;border-radius: 0.25em;box-sizing: border-box;margin-bottom: 0.5em;}#sk-container-id-1 div.sk-estimator:hover {background-color: #d4ebff;}#sk-container-id-1 div.sk-parallel-item::after {content: \"\";width: 100%;border-bottom: 1px solid gray;flex-grow: 1;}#sk-container-id-1 div.sk-label:hover label.sk-toggleable__label {background-color: #d4ebff;}#sk-container-id-1 div.sk-serial::before {content: \"\";position: absolute;border-left: 1px solid gray;box-sizing: border-box;top: 0;bottom: 0;left: 50%;z-index: 0;}#sk-container-id-1 div.sk-serial {display: flex;flex-direction: column;align-items: center;background-color: white;padding-right: 0.2em;padding-left: 0.2em;position: relative;}#sk-container-id-1 div.sk-item {position: relative;z-index: 1;}#sk-container-id-1 div.sk-parallel {display: flex;align-items: stretch;justify-content: center;background-color: white;position: relative;}#sk-container-id-1 div.sk-item::before, #sk-container-id-1 div.sk-parallel-item::before {content: \"\";position: absolute;border-left: 1px solid gray;box-sizing: border-box;top: 0;bottom: 0;left: 50%;z-index: -1;}#sk-container-id-1 div.sk-parallel-item {display: flex;flex-direction: column;z-index: 1;position: relative;background-color: white;}#sk-container-id-1 div.sk-parallel-item:first-child::after {align-self: flex-end;width: 50%;}#sk-container-id-1 div.sk-parallel-item:last-child::after {align-self: flex-start;width: 50%;}#sk-container-id-1 div.sk-parallel-item:only-child::after {width: 0;}#sk-container-id-1 div.sk-dashed-wrapped {border: 1px dashed gray;margin: 0 0.4em 0.5em 0.4em;box-sizing: border-box;padding-bottom: 0.4em;background-color: white;}#sk-container-id-1 div.sk-label label {font-family: monospace;font-weight: bold;display: inline-block;line-height: 1.2em;}#sk-container-id-1 div.sk-label-container {text-align: center;}#sk-container-id-1 div.sk-container {/* jupyter's `normalize.less` sets `[hidden] { display: none; }` but bootstrap.min.css set `[hidden] { display: none !important; }` so we also need the `!important` here to be able to override the default hidden behavior on the sphinx rendered scikit-learn.org. See: https://github.com/scikit-learn/scikit-learn/issues/21755 */display: inline-block !important;position: relative;}#sk-container-id-1 div.sk-text-repr-fallback {display: none;}</style><div id=\"sk-container-id-1\" class=\"sk-top-container\"><div class=\"sk-text-repr-fallback\"><pre>LinearRegression()</pre><b>In a Jupyter environment, please rerun this cell to show the HTML representation or trust the notebook. <br />On GitHub, the HTML representation is unable to render, please try loading this page with nbviewer.org.</b></div><div class=\"sk-container\" hidden><div class=\"sk-item\"><div class=\"sk-estimator sk-toggleable\"><input class=\"sk-toggleable__control sk-hidden--visually\" id=\"sk-estimator-id-1\" type=\"checkbox\" checked><label for=\"sk-estimator-id-1\" class=\"sk-toggleable__label sk-toggleable__label-arrow\">LinearRegression</label><div class=\"sk-toggleable__content\"><pre>LinearRegression()</pre></div></div></div></div></div>"
            ]
          },
          "metadata": {},
          "execution_count": 79
        }
      ]
    },
    {
      "cell_type": "code",
      "source": [
        "import numpy as np\n",
        "train_data.replace([np.inf, -np.inf], np.nan, inplace=True)\n",
        "train_data.fillna(-1000, inplace=True)"
      ],
      "metadata": {
        "id": "kizhz12xXki1"
      },
      "execution_count": 81,
      "outputs": []
    },
    {
      "cell_type": "code",
      "source": [
        "predicted = regressor.predict(x_train)"
      ],
      "metadata": {
        "id": "VFD7c88OXnt9"
      },
      "execution_count": 82,
      "outputs": []
    },
    {
      "cell_type": "code",
      "source": [
        "predictedValues = pd.DataFrame({\"Predicted Values\": predicted})\n",
        "predictedValues"
      ],
      "metadata": {
        "colab": {
          "base_uri": "https://localhost:8080/",
          "height": 423
        },
        "id": "JYw9gXxVXumE",
        "outputId": "947d7cab-bae3-4220-9bda-4b048dc5252e"
      },
      "execution_count": 83,
      "outputs": [
        {
          "output_type": "execute_result",
          "data": {
            "text/plain": [
              "      Predicted Values\n",
              "0         2.000000e+00\n",
              "1         1.000000e+00\n",
              "2         2.000000e+00\n",
              "3        -1.286334e-13\n",
              "4         2.000000e+00\n",
              "...                ...\n",
              "1455      1.000000e+00\n",
              "1456      4.000000e+00\n",
              "1457      4.000000e+00\n",
              "1458      4.000000e+00\n",
              "1459      2.000000e+00\n",
              "\n",
              "[1460 rows x 1 columns]"
            ],
            "text/html": [
              "\n",
              "  <div id=\"df-7b5e96d9-701e-4843-84a7-53ac27a22af3\">\n",
              "    <div class=\"colab-df-container\">\n",
              "      <div>\n",
              "<style scoped>\n",
              "    .dataframe tbody tr th:only-of-type {\n",
              "        vertical-align: middle;\n",
              "    }\n",
              "\n",
              "    .dataframe tbody tr th {\n",
              "        vertical-align: top;\n",
              "    }\n",
              "\n",
              "    .dataframe thead th {\n",
              "        text-align: right;\n",
              "    }\n",
              "</style>\n",
              "<table border=\"1\" class=\"dataframe\">\n",
              "  <thead>\n",
              "    <tr style=\"text-align: right;\">\n",
              "      <th></th>\n",
              "      <th>Predicted Values</th>\n",
              "    </tr>\n",
              "  </thead>\n",
              "  <tbody>\n",
              "    <tr>\n",
              "      <th>0</th>\n",
              "      <td>2.000000e+00</td>\n",
              "    </tr>\n",
              "    <tr>\n",
              "      <th>1</th>\n",
              "      <td>1.000000e+00</td>\n",
              "    </tr>\n",
              "    <tr>\n",
              "      <th>2</th>\n",
              "      <td>2.000000e+00</td>\n",
              "    </tr>\n",
              "    <tr>\n",
              "      <th>3</th>\n",
              "      <td>-1.286334e-13</td>\n",
              "    </tr>\n",
              "    <tr>\n",
              "      <th>4</th>\n",
              "      <td>2.000000e+00</td>\n",
              "    </tr>\n",
              "    <tr>\n",
              "      <th>...</th>\n",
              "      <td>...</td>\n",
              "    </tr>\n",
              "    <tr>\n",
              "      <th>1455</th>\n",
              "      <td>1.000000e+00</td>\n",
              "    </tr>\n",
              "    <tr>\n",
              "      <th>1456</th>\n",
              "      <td>4.000000e+00</td>\n",
              "    </tr>\n",
              "    <tr>\n",
              "      <th>1457</th>\n",
              "      <td>4.000000e+00</td>\n",
              "    </tr>\n",
              "    <tr>\n",
              "      <th>1458</th>\n",
              "      <td>4.000000e+00</td>\n",
              "    </tr>\n",
              "    <tr>\n",
              "      <th>1459</th>\n",
              "      <td>2.000000e+00</td>\n",
              "    </tr>\n",
              "  </tbody>\n",
              "</table>\n",
              "<p>1460 rows × 1 columns</p>\n",
              "</div>\n",
              "      <button class=\"colab-df-convert\" onclick=\"convertToInteractive('df-7b5e96d9-701e-4843-84a7-53ac27a22af3')\"\n",
              "              title=\"Convert this dataframe to an interactive table.\"\n",
              "              style=\"display:none;\">\n",
              "        \n",
              "  <svg xmlns=\"http://www.w3.org/2000/svg\" height=\"24px\"viewBox=\"0 0 24 24\"\n",
              "       width=\"24px\">\n",
              "    <path d=\"M0 0h24v24H0V0z\" fill=\"none\"/>\n",
              "    <path d=\"M18.56 5.44l.94 2.06.94-2.06 2.06-.94-2.06-.94-.94-2.06-.94 2.06-2.06.94zm-11 1L8.5 8.5l.94-2.06 2.06-.94-2.06-.94L8.5 2.5l-.94 2.06-2.06.94zm10 10l.94 2.06.94-2.06 2.06-.94-2.06-.94-.94-2.06-.94 2.06-2.06.94z\"/><path d=\"M17.41 7.96l-1.37-1.37c-.4-.4-.92-.59-1.43-.59-.52 0-1.04.2-1.43.59L10.3 9.45l-7.72 7.72c-.78.78-.78 2.05 0 2.83L4 21.41c.39.39.9.59 1.41.59.51 0 1.02-.2 1.41-.59l7.78-7.78 2.81-2.81c.8-.78.8-2.07 0-2.86zM5.41 20L4 18.59l7.72-7.72 1.47 1.35L5.41 20z\"/>\n",
              "  </svg>\n",
              "      </button>\n",
              "      \n",
              "  <style>\n",
              "    .colab-df-container {\n",
              "      display:flex;\n",
              "      flex-wrap:wrap;\n",
              "      gap: 12px;\n",
              "    }\n",
              "\n",
              "    .colab-df-convert {\n",
              "      background-color: #E8F0FE;\n",
              "      border: none;\n",
              "      border-radius: 50%;\n",
              "      cursor: pointer;\n",
              "      display: none;\n",
              "      fill: #1967D2;\n",
              "      height: 32px;\n",
              "      padding: 0 0 0 0;\n",
              "      width: 32px;\n",
              "    }\n",
              "\n",
              "    .colab-df-convert:hover {\n",
              "      background-color: #E2EBFA;\n",
              "      box-shadow: 0px 1px 2px rgba(60, 64, 67, 0.3), 0px 1px 3px 1px rgba(60, 64, 67, 0.15);\n",
              "      fill: #174EA6;\n",
              "    }\n",
              "\n",
              "    [theme=dark] .colab-df-convert {\n",
              "      background-color: #3B4455;\n",
              "      fill: #D2E3FC;\n",
              "    }\n",
              "\n",
              "    [theme=dark] .colab-df-convert:hover {\n",
              "      background-color: #434B5C;\n",
              "      box-shadow: 0px 1px 3px 1px rgba(0, 0, 0, 0.15);\n",
              "      filter: drop-shadow(0px 1px 2px rgba(0, 0, 0, 0.3));\n",
              "      fill: #FFFFFF;\n",
              "    }\n",
              "  </style>\n",
              "\n",
              "      <script>\n",
              "        const buttonEl =\n",
              "          document.querySelector('#df-7b5e96d9-701e-4843-84a7-53ac27a22af3 button.colab-df-convert');\n",
              "        buttonEl.style.display =\n",
              "          google.colab.kernel.accessAllowed ? 'block' : 'none';\n",
              "\n",
              "        async function convertToInteractive(key) {\n",
              "          const element = document.querySelector('#df-7b5e96d9-701e-4843-84a7-53ac27a22af3');\n",
              "          const dataTable =\n",
              "            await google.colab.kernel.invokeFunction('convertToInteractive',\n",
              "                                                     [key], {});\n",
              "          if (!dataTable) return;\n",
              "\n",
              "          const docLinkHtml = 'Like what you see? Visit the ' +\n",
              "            '<a target=\"_blank\" href=https://colab.research.google.com/notebooks/data_table.ipynb>data table notebook</a>'\n",
              "            + ' to learn more about interactive tables.';\n",
              "          element.innerHTML = '';\n",
              "          dataTable['output_type'] = 'display_data';\n",
              "          await google.colab.output.renderOutput(dataTable, element);\n",
              "          const docLink = document.createElement('div');\n",
              "          docLink.innerHTML = docLinkHtml;\n",
              "          element.appendChild(docLink);\n",
              "        }\n",
              "      </script>\n",
              "    </div>\n",
              "  </div>\n",
              "  "
            ]
          },
          "metadata": {},
          "execution_count": 83
        }
      ]
    }
  ],
  "metadata": {
    "colab": {
      "provenance": [],
      "include_colab_link": true
    },
    "kernelspec": {
      "display_name": "Python 3 (ipykernel)",
      "language": "python",
      "name": "python3"
    },
    "language_info": {
      "codemirror_mode": {
        "name": "ipython",
        "version": 3
      },
      "file_extension": ".py",
      "mimetype": "text/x-python",
      "name": "python",
      "nbconvert_exporter": "python",
      "pygments_lexer": "ipython3",
      "version": "3.9.12"
    }
  },
  "nbformat": 4,
  "nbformat_minor": 0
}